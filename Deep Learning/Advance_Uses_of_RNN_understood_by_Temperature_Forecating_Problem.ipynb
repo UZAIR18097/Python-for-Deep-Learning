{
  "nbformat": 4,
  "nbformat_minor": 0,
  "metadata": {
    "colab": {
      "name": "Advance Uses of RNN understood by Temperature Forecating Problem.ipynb",
      "provenance": [],
      "collapsed_sections": []
    },
    "kernelspec": {
      "name": "python3",
      "display_name": "Python 3"
    }
  },
  "cells": [
    {
      "cell_type": "markdown",
      "metadata": {
        "id": "WIfpOC8B5tj2",
        "colab_type": "text"
      },
      "source": [
        "**Advance use of RNN**\n",
        "\n",
        "*   Recurrent Dropout\n",
        "*   Stacking recurrent Layers\n",
        "\n",
        "*   Bidirectional recurrent layers\n"
      ]
    },
    {
      "cell_type": "code",
      "metadata": {
        "id": "XtkP4MTtqk6t",
        "colab_type": "code",
        "colab": {
          "resources": {
            "http://localhost:8080/nbextensions/google.colab/files.js": {
              "data": "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",
              "ok": true,
              "headers": [
                [
                  "content-type",
                  "application/javascript"
                ]
              ],
              "status": 200,
              "status_text": ""
            }
          },
          "base_uri": "https://localhost:8080/",
          "height": 70
        },
        "outputId": "163dd4d1-be0f-483e-b42c-463fab016867"
      },
      "source": [
        "from google.colab import files\n",
        "files.upload()\n"
      ],
      "execution_count": 4,
      "outputs": [
        {
          "output_type": "display_data",
          "data": {
            "text/html": [
              "\n",
              "     <input type=\"file\" id=\"files-3bbf250c-f03c-49dd-a51b-b0304102a739\" name=\"files[]\" multiple disabled\n",
              "        style=\"border:none\" />\n",
              "     <output id=\"result-3bbf250c-f03c-49dd-a51b-b0304102a739\">\n",
              "      Upload widget is only available when the cell has been executed in the\n",
              "      current browser session. Please rerun this cell to enable.\n",
              "      </output>\n",
              "      <script src=\"/nbextensions/google.colab/files.js\"></script> "
            ],
            "text/plain": [
              "<IPython.core.display.HTML object>"
            ]
          },
          "metadata": {
            "tags": []
          }
        },
        {
          "output_type": "stream",
          "text": [
            "Saving jena_climate_2009_2016.csv to jena_climate_2009_2016.csv\n"
          ],
          "name": "stdout"
        }
      ]
    },
    {
      "cell_type": "code",
      "metadata": {
        "id": "sjAwDo85C7SS",
        "colab_type": "code",
        "colab": {}
      },
      "source": [
        "import pandas as pd\n",
        "import numpy as np\n",
        "import os\n",
        "from matplotlib import pyplot as plt\n",
        "from keras.models import Sequential\n",
        "from keras import layers\n",
        "from keras.optimizers import RMSprop\n"
      ],
      "execution_count": 5,
      "outputs": []
    },
    {
      "cell_type": "code",
      "metadata": {
        "id": "9A_XF4SR5vjj",
        "colab_type": "code",
        "colab": {
          "base_uri": "https://localhost:8080/",
          "height": 72
        },
        "outputId": "05a582b4-1afe-4cc0-a510-61d3a4ff0d7e"
      },
      "source": [
        "data_dir = '/content/drive/My Drive/jena_climate_2009_2016.csv'\n",
        "fname = os.path.join(data_dir, 'jena_climate_2009_2016.csv')\n",
        "f = open(fname)\n",
        "data = f.read()\n",
        "f.close()\n",
        "lines = data.split('\\n')\n",
        "header = lines[0].split(',')\n",
        "lines = lines[1:]\n",
        "print(header)\n",
        "print(len(lines))"
      ],
      "execution_count": null,
      "outputs": [
        {
          "output_type": "stream",
          "text": [
            "['Date Time', 'p (mbar)', 'T (degC)', 'Tpot (K)', 'Tdew (degC)', 'rh (%)', 'VPmax (mbar)', 'VPact (mbar)', 'VPdef (mbar)', 'sh (g/kg)', 'H2OC (mmol/mol)', 'rho (g/m**3)', 'wv (m/s)', 'max. wv (m/s)', 'wd (deg)']\n",
            "420552\n"
          ],
          "name": "stdout"
        }
      ]
    },
    {
      "cell_type": "code",
      "metadata": {
        "id": "YKJ3MwK-xTRi",
        "colab_type": "code",
        "colab": {
          "base_uri": "https://localhost:8080/",
          "height": 50
        },
        "outputId": "f29095ac-cbea-4a24-dec9-9e52f71a00a2"
      },
      "source": [
        "data = pd.read_csv(\"jena_climate_2009_2016.csv\")\n",
        "print(\"Shape of data is {}\".format(data.shape))\n",
        "values = data.iloc[:,1:] # excluded date\n",
        "float_data = np.asarray(values) # converting in numpy array\n",
        "print(\"Shape of data without first column is {}\".format(float_data.shape))"
      ],
      "execution_count": 6,
      "outputs": [
        {
          "output_type": "stream",
          "text": [
            "Shape of data is (420551, 15)\n",
            "Shape of data without first column is (420551, 14)\n"
          ],
          "name": "stdout"
        }
      ]
    },
    {
      "cell_type": "code",
      "metadata": {
        "id": "pETBdDWCxWFR",
        "colab_type": "code",
        "colab": {
          "base_uri": "https://localhost:8080/",
          "height": 191
        },
        "outputId": "5e83c312-cf7e-42c3-e757-72094d73a08e"
      },
      "source": [
        "#complete data\n",
        "data.head()"
      ],
      "execution_count": null,
      "outputs": [
        {
          "output_type": "execute_result",
          "data": {
            "text/html": [
              "<div>\n",
              "<style scoped>\n",
              "    .dataframe tbody tr th:only-of-type {\n",
              "        vertical-align: middle;\n",
              "    }\n",
              "\n",
              "    .dataframe tbody tr th {\n",
              "        vertical-align: top;\n",
              "    }\n",
              "\n",
              "    .dataframe thead th {\n",
              "        text-align: right;\n",
              "    }\n",
              "</style>\n",
              "<table border=\"1\" class=\"dataframe\">\n",
              "  <thead>\n",
              "    <tr style=\"text-align: right;\">\n",
              "      <th></th>\n",
              "      <th>Date Time</th>\n",
              "      <th>p (mbar)</th>\n",
              "      <th>T (degC)</th>\n",
              "      <th>Tpot (K)</th>\n",
              "      <th>Tdew (degC)</th>\n",
              "      <th>rh (%)</th>\n",
              "      <th>VPmax (mbar)</th>\n",
              "      <th>VPact (mbar)</th>\n",
              "      <th>VPdef (mbar)</th>\n",
              "      <th>sh (g/kg)</th>\n",
              "      <th>H2OC (mmol/mol)</th>\n",
              "      <th>rho (g/m**3)</th>\n",
              "      <th>wv (m/s)</th>\n",
              "      <th>max. wv (m/s)</th>\n",
              "      <th>wd (deg)</th>\n",
              "    </tr>\n",
              "  </thead>\n",
              "  <tbody>\n",
              "    <tr>\n",
              "      <th>0</th>\n",
              "      <td>01.01.2009 00:10:00</td>\n",
              "      <td>996.52</td>\n",
              "      <td>-8.02</td>\n",
              "      <td>265.40</td>\n",
              "      <td>-8.90</td>\n",
              "      <td>93.3</td>\n",
              "      <td>3.33</td>\n",
              "      <td>3.11</td>\n",
              "      <td>0.22</td>\n",
              "      <td>1.94</td>\n",
              "      <td>3.12</td>\n",
              "      <td>1307.75</td>\n",
              "      <td>1.03</td>\n",
              "      <td>1.75</td>\n",
              "      <td>152.3</td>\n",
              "    </tr>\n",
              "    <tr>\n",
              "      <th>1</th>\n",
              "      <td>01.01.2009 00:20:00</td>\n",
              "      <td>996.57</td>\n",
              "      <td>-8.41</td>\n",
              "      <td>265.01</td>\n",
              "      <td>-9.28</td>\n",
              "      <td>93.4</td>\n",
              "      <td>3.23</td>\n",
              "      <td>3.02</td>\n",
              "      <td>0.21</td>\n",
              "      <td>1.89</td>\n",
              "      <td>3.03</td>\n",
              "      <td>1309.80</td>\n",
              "      <td>0.72</td>\n",
              "      <td>1.50</td>\n",
              "      <td>136.1</td>\n",
              "    </tr>\n",
              "    <tr>\n",
              "      <th>2</th>\n",
              "      <td>01.01.2009 00:30:00</td>\n",
              "      <td>996.53</td>\n",
              "      <td>-8.51</td>\n",
              "      <td>264.91</td>\n",
              "      <td>-9.31</td>\n",
              "      <td>93.9</td>\n",
              "      <td>3.21</td>\n",
              "      <td>3.01</td>\n",
              "      <td>0.20</td>\n",
              "      <td>1.88</td>\n",
              "      <td>3.02</td>\n",
              "      <td>1310.24</td>\n",
              "      <td>0.19</td>\n",
              "      <td>0.63</td>\n",
              "      <td>171.6</td>\n",
              "    </tr>\n",
              "    <tr>\n",
              "      <th>3</th>\n",
              "      <td>01.01.2009 00:40:00</td>\n",
              "      <td>996.51</td>\n",
              "      <td>-8.31</td>\n",
              "      <td>265.12</td>\n",
              "      <td>-9.07</td>\n",
              "      <td>94.2</td>\n",
              "      <td>3.26</td>\n",
              "      <td>3.07</td>\n",
              "      <td>0.19</td>\n",
              "      <td>1.92</td>\n",
              "      <td>3.08</td>\n",
              "      <td>1309.19</td>\n",
              "      <td>0.34</td>\n",
              "      <td>0.50</td>\n",
              "      <td>198.0</td>\n",
              "    </tr>\n",
              "    <tr>\n",
              "      <th>4</th>\n",
              "      <td>01.01.2009 00:50:00</td>\n",
              "      <td>996.51</td>\n",
              "      <td>-8.27</td>\n",
              "      <td>265.15</td>\n",
              "      <td>-9.04</td>\n",
              "      <td>94.1</td>\n",
              "      <td>3.27</td>\n",
              "      <td>3.08</td>\n",
              "      <td>0.19</td>\n",
              "      <td>1.92</td>\n",
              "      <td>3.09</td>\n",
              "      <td>1309.00</td>\n",
              "      <td>0.32</td>\n",
              "      <td>0.63</td>\n",
              "      <td>214.3</td>\n",
              "    </tr>\n",
              "  </tbody>\n",
              "</table>\n",
              "</div>"
            ],
            "text/plain": [
              "             Date Time  p (mbar)  T (degC)  ...  wv (m/s)  max. wv (m/s)  wd (deg)\n",
              "0  01.01.2009 00:10:00    996.52     -8.02  ...      1.03           1.75     152.3\n",
              "1  01.01.2009 00:20:00    996.57     -8.41  ...      0.72           1.50     136.1\n",
              "2  01.01.2009 00:30:00    996.53     -8.51  ...      0.19           0.63     171.6\n",
              "3  01.01.2009 00:40:00    996.51     -8.31  ...      0.34           0.50     198.0\n",
              "4  01.01.2009 00:50:00    996.51     -8.27  ...      0.32           0.63     214.3\n",
              "\n",
              "[5 rows x 15 columns]"
            ]
          },
          "metadata": {
            "tags": []
          },
          "execution_count": 4
        }
      ]
    },
    {
      "cell_type": "code",
      "metadata": {
        "id": "SKigU2XzyPR3",
        "colab_type": "code",
        "colab": {
          "base_uri": "https://localhost:8080/",
          "height": 285
        },
        "outputId": "2f9fb259-cdb2-4a18-eb0f-546862ff495f"
      },
      "source": [
        "#plotting temperature timeseries\n",
        "temp = float_data[:, 1] #<1> temperature (in degrees Celsius)\n",
        "plt.plot(range(len(temp)), temp)"
      ],
      "execution_count": null,
      "outputs": [
        {
          "output_type": "execute_result",
          "data": {
            "text/plain": [
              "[<matplotlib.lines.Line2D at 0x7f34343d8e80>]"
            ]
          },
          "metadata": {
            "tags": []
          },
          "execution_count": 22
        },
        {
          "output_type": "display_data",
          "data": {
            "image/png": "[encoded data removed]",
            "text/plain": [
              "<Figure size 432x288 with 1 Axes>"
            ]
          },
          "metadata": {
            "tags": [],
            "needs_background": "light"
          }
        }
      ]
    },
    {
      "cell_type": "code",
      "metadata": {
        "id": "r1tO9WFey0_K",
        "colab_type": "code",
        "colab": {
          "base_uri": "https://localhost:8080/",
          "height": 34
        },
        "outputId": "98d179cd-8bf9-4b05-a72a-e67d162d0ec5"
      },
      "source": [
        "print(range(len(temp)))"
      ],
      "execution_count": null,
      "outputs": [
        {
          "output_type": "stream",
          "text": [
            "range(0, 420551)\n"
          ],
          "name": "stdout"
        }
      ]
    },
    {
      "cell_type": "code",
      "metadata": {
        "id": "5Cfrrob7zx_f",
        "colab_type": "code",
        "colab": {
          "base_uri": "https://localhost:8080/",
          "height": 282
        },
        "outputId": "89a954d9-5550-42d2-bc77-d7be056eace7"
      },
      "source": [
        "#plotting data for first 10 days.As data is recorded after 10 mins so we have total of 144 sample points in a day\n",
        "plt.plot(range(1440),temp[:1440])"
      ],
      "execution_count": null,
      "outputs": [
        {
          "output_type": "execute_result",
          "data": {
            "text/plain": [
              "[<matplotlib.lines.Line2D at 0x7f3435d43588>]"
            ]
          },
          "metadata": {
            "tags": []
          },
          "execution_count": 24
        },
        {
          "output_type": "display_data",
          "data": {
            "image/png": "[encoded data removed]",
            "text/plain": [
              "<Figure size 432x288 with 1 Axes>"
            ]
          },
          "metadata": {
            "tags": [],
            "needs_background": "light"
          }
        }
      ]
    },
    {
      "cell_type": "markdown",
      "metadata": {
        "id": "kNIFSrmU4gNY",
        "colab_type": "text"
      },
      "source": [
        "Using first 200,000 timesteps for training"
      ]
    },
    {
      "cell_type": "code",
      "metadata": {
        "id": "2XwkJq8l1yBm",
        "colab_type": "code",
        "colab": {}
      },
      "source": [
        "#prepairing data \n",
        "#scaling data as data has different scales,we need to normalize each Series independently\n",
        "mean = float_data[:200000].mean(axis=0)\n",
        "float_data -= mean\n",
        "std = float_data[:200000].std(axis=0)\n",
        "float_data /= std"
      ],
      "execution_count": 7,
      "outputs": []
    },
    {
      "cell_type": "code",
      "metadata": {
        "id": "L4UPmCnp4wiy",
        "colab_type": "code",
        "colab": {}
      },
      "source": [
        "#Writing a Python Generator  It yields a tuple (samples, targets),where samples is one batch of input data and targets is the corresponding array of target temperatures. It takes the following arguments:\n",
        "#data,lookback,delay,min_index,max_index,shuffle,batch_size,step\n",
        "def generator(data, lookback, delay, min_index, max_index,shuffle=False, batch_size=128, step=6):\n",
        "    if max_index is None: \n",
        "        max_index = len(data) - delay - 1 \n",
        "    i = min_index + lookback \n",
        "    while 1:\n",
        "        if shuffle: \n",
        "            #Generate random rows\n",
        "            rows = np.random.randint(min_index + lookback, max_index, size=batch_size)\n",
        "        else:\n",
        "            if i + batch_size >= max_index: \n",
        "                i = min_index + lookback    \n",
        "            rows = np.arange(i, min(i + batch_size, max_index))\n",
        "            i += len(rows) # \n",
        "        samples = np.zeros((len(rows),lookback // step,data.shape[-1])) \n",
        "        targets = np.zeros((len(rows),))\n",
        "        for j, row in enumerate(rows):\n",
        "            indices = range(rows[j] - lookback, rows[j], step)\n",
        "            samples[j] = data[indices]\n",
        "            targets[j] = data[rows[j] + delay][1]\n",
        "        yield samples, targets "
      ],
      "execution_count": 8,
      "outputs": []
    },
    {
      "cell_type": "code",
      "metadata": {
        "id": "eRrZYtiE-NAm",
        "colab_type": "code",
        "colab": {}
      },
      "source": [
        "#with help of abstract generator function we will instantiate three generators: training,validation and testing\n",
        "lookback = 1440          #240 sample points\n",
        "step = 6\n",
        "delay = 144\n",
        "batch_size = 128\n",
        "\n",
        "#first 200,000 time steps for training \n",
        "train_gen = generator(float_data,\n",
        "                      lookback=lookback,\n",
        "                      delay=delay,\n",
        "                      min_index=0,\n",
        "                      max_index=200000,\n",
        "                      shuffle=True,\n",
        "                      step=step,\n",
        "                      batch_size=batch_size)\n",
        "#next 100,000 time steps for validation\n",
        "val_gen = generator(float_data,\n",
        "                    lookback=lookback,\n",
        "                    delay=delay,\n",
        "                    min_index=200001,\n",
        "                    max_index=300000,\n",
        "                    step=step,\n",
        "                    batch_size=batch_size)\n",
        "#remaining for test data\n",
        "test_gen = generator(float_data,\n",
        "                     lookback=lookback,\n",
        "                     delay=delay,\n",
        "                     min_index=300001,\n",
        "                     max_index=None,\n",
        "                     step=step,\n",
        "                     batch_size=batch_size)\n",
        "# This is how many steps to draw from `val_gen`\n",
        "# in order to see the whole validation set:\n",
        "val_steps = (300000 - 200001 - lookback) // batch_size\n",
        "# This is how many steps to draw from `train_gen`\n",
        "# in order to see the whole train set: \n",
        "test_steps = (len(float_data) - 300001 - lookback) // batch_size\n",
        "\n",
        "\n"
      ],
      "execution_count": 9,
      "outputs": []
    },
    {
      "cell_type": "markdown",
      "metadata": {
        "id": "Os2RxP-EDrlD",
        "colab_type": "text"
      },
      "source": [
        "Data is ready for modeling"
      ]
    },
    {
      "cell_type": "code",
      "metadata": {
        "id": "8MaT4Hl3-Fm8",
        "colab_type": "code",
        "colab": {
          "base_uri": "https://localhost:8080/",
          "height": 33
        },
        "outputId": "3bbf5863-84e2-4891-99b8-090ea06e2815"
      },
      "source": [
        "#let's use common sense baseline method to get how much chances are there if today's temp will be same after 24 hours\n",
        "def evaluate_naive_method():\n",
        "    batch_maes = []\n",
        "    for step in range(val_steps):\n",
        "        samples, targets = next(val_gen)\n",
        "        preds = samples[:,-1,1]\n",
        "        mae = np.mean(np.abs(preds - targets))\n",
        "        batch_maes.append(mae)\n",
        "    print(np.mean(batch_maes))\n",
        "evaluate_naive_method()"
      ],
      "execution_count": 8,
      "outputs": [
        {
          "output_type": "stream",
          "text": [
            "0.28973597299054815\n"
          ],
          "name": "stdout"
        }
      ]
    },
    {
      "cell_type": "markdown",
      "metadata": {
        "id": "pjCzjTylNyVu",
        "colab_type": "text"
      },
      "source": [
        "This yields an MAE of 0.29. Because the temperature data has been normalized to be\n",
        "centered on 0 and have a standard deviation of 1, this number isn’t immediately interpretable. It translates to an average absolute error of 0.29 × temperature_std degrees\n",
        "Celsius: 2.57˚C."
      ]
    },
    {
      "cell_type": "code",
      "metadata": {
        "id": "51rROmKaDCCG",
        "colab_type": "code",
        "colab": {
          "base_uri": "https://localhost:8080/",
          "height": 34
        },
        "outputId": "c1bf652a-0ffc-4141-ba3c-b60983b324f6"
      },
      "source": [
        "celsius_mae = 0.3 * std[1]\n",
        "celsius_mae"
      ],
      "execution_count": null,
      "outputs": [
        {
          "output_type": "execute_result",
          "data": {
            "text/plain": [
              "2.65574972466139"
            ]
          },
          "metadata": {
            "tags": []
          },
          "execution_count": 29
        }
      ]
    },
    {
      "cell_type": "markdown",
      "metadata": {
        "id": "3cKN35T-Oc43",
        "colab_type": "text"
      },
      "source": [
        "Base line Simple Machine learning Approach"
      ]
    },
    {
      "cell_type": "code",
      "metadata": {
        "id": "WfqfhVxaOG_6",
        "colab_type": "code",
        "colab": {
          "base_uri": "https://localhost:8080/",
          "height": 727
        },
        "outputId": "adea8352-b43d-4e9f-da53-a2af9a885b31"
      },
      "source": [
        "from keras.models import Sequential\n",
        "from keras import layers\n",
        "from keras.optimizers import RMSprop\n",
        "\n",
        "model = Sequential()\n",
        "model.add(layers.Flatten(input_shape=(lookback // step, float_data.shape[-1])))\n",
        "model.add(layers.Dense(32, activation='relu'))\n",
        "model.add(layers.Dense(1))\n",
        "\n",
        "model.compile(optimizer=RMSprop(), loss='mae')\n",
        "history = model.fit_generator(train_gen,\n",
        "                              steps_per_epoch=500,\n",
        "                              epochs=20,\n",
        "                              validation_data=val_gen,\n",
        "                              validation_steps=val_steps)"
      ],
      "execution_count": null,
      "outputs": [
        {
          "output_type": "stream",
          "text": [
            "Epoch 1/20\n",
            "500/500 [==============================] - 16s 33ms/step - loss: 1.3929 - val_loss: 0.9393\n",
            "Epoch 2/20\n",
            "500/500 [==============================] - 16s 32ms/step - loss: 0.4554 - val_loss: 0.3161\n",
            "Epoch 3/20\n",
            "500/500 [==============================] - 16s 31ms/step - loss: 0.2982 - val_loss: 0.2632\n",
            "Epoch 4/20\n",
            "500/500 [==============================] - 17s 34ms/step - loss: 0.2672 - val_loss: 0.2224\n",
            "Epoch 5/20\n",
            "500/500 [==============================] - 16s 31ms/step - loss: 0.2538 - val_loss: 0.2345\n",
            "Epoch 6/20\n",
            "500/500 [==============================] - 16s 31ms/step - loss: 0.2430 - val_loss: 0.2987\n",
            "Epoch 7/20\n",
            "500/500 [==============================] - 16s 33ms/step - loss: 0.2364 - val_loss: 0.2559\n",
            "Epoch 8/20\n",
            "500/500 [==============================] - 16s 32ms/step - loss: 0.2301 - val_loss: 0.2660\n",
            "Epoch 9/20\n",
            "500/500 [==============================] - 16s 32ms/step - loss: 0.2245 - val_loss: 0.2971\n",
            "Epoch 10/20\n",
            "500/500 [==============================] - 16s 31ms/step - loss: 0.2233 - val_loss: 0.2573\n",
            "Epoch 11/20\n",
            "500/500 [==============================] - 16s 31ms/step - loss: 0.2189 - val_loss: 0.2668\n",
            "Epoch 12/20\n",
            "500/500 [==============================] - 16s 33ms/step - loss: 0.2145 - val_loss: 0.2437\n",
            "Epoch 13/20\n",
            "500/500 [==============================] - 16s 32ms/step - loss: 0.2125 - val_loss: 0.3251\n",
            "Epoch 14/20\n",
            "500/500 [==============================] - 16s 32ms/step - loss: 0.2097 - val_loss: 0.3315\n",
            "Epoch 15/20\n",
            "500/500 [==============================] - 16s 32ms/step - loss: 0.2068 - val_loss: 0.2664\n",
            "Epoch 16/20\n",
            "500/500 [==============================] - 16s 31ms/step - loss: 0.2060 - val_loss: 0.2537\n",
            "Epoch 17/20\n",
            "500/500 [==============================] - 16s 33ms/step - loss: 0.2050 - val_loss: 0.2285\n",
            "Epoch 18/20\n",
            "500/500 [==============================] - 16s 33ms/step - loss: 0.2024 - val_loss: 0.2792\n",
            "Epoch 19/20\n",
            "500/500 [==============================] - 16s 32ms/step - loss: 0.2007 - val_loss: 0.2250\n",
            "Epoch 20/20\n",
            "500/500 [==============================] - 16s 32ms/step - loss: 0.1999 - val_loss: 0.2913\n"
          ],
          "name": "stdout"
        }
      ]
    },
    {
      "cell_type": "code",
      "metadata": {
        "id": "gDAwqTwzgtEA",
        "colab_type": "code",
        "colab": {
          "base_uri": "https://localhost:8080/",
          "height": 265
        },
        "outputId": "8a484c4a-0bc6-4c5b-921e-ebeba24c0ba8"
      },
      "source": [
        "model.summary()"
      ],
      "execution_count": null,
      "outputs": [
        {
          "output_type": "stream",
          "text": [
            "Model: \"sequential_6\"\n",
            "_________________________________________________________________\n",
            "Layer (type)                 Output Shape              Param #   \n",
            "=================================================================\n",
            "flatten_2 (Flatten)          (None, 3360)              0         \n",
            "_________________________________________________________________\n",
            "dense_6 (Dense)              (None, 32)                107552    \n",
            "_________________________________________________________________\n",
            "dense_7 (Dense)              (None, 1)                 33        \n",
            "=================================================================\n",
            "Total params: 107,585\n",
            "Trainable params: 107,585\n",
            "Non-trainable params: 0\n",
            "_________________________________________________________________\n"
          ],
          "name": "stdout"
        }
      ]
    },
    {
      "cell_type": "code",
      "metadata": {
        "id": "lLFfHtlqP0qG",
        "colab_type": "code",
        "colab": {
          "base_uri": "https://localhost:8080/",
          "height": 281
        },
        "outputId": "60822cf7-ef33-4cf9-921f-dbdbba52138e"
      },
      "source": [
        "import matplotlib.pyplot as plt\n",
        "loss = history.history['loss']\n",
        "val_loss = history.history['val_loss']\n",
        "epochs = range(1, len(loss) + 1)\n",
        "plt.figure()\n",
        "plt.plot(epochs, loss, 'bo', label='Training loss')\n",
        "plt.plot(epochs, val_loss, 'b', label='Validation loss')\n",
        "plt.title('Training and validation loss')\n",
        "plt.legend()\n",
        "plt.show()"
      ],
      "execution_count": null,
      "outputs": [
        {
          "output_type": "display_data",
          "data": {
            "image/png": "[encoded data removed]",
            "text/plain": [
              "<Figure size 432x288 with 1 Axes>"
            ]
          },
          "metadata": {
            "tags": [],
            "needs_background": "light"
          }
        }
      ]
    },
    {
      "cell_type": "markdown",
      "metadata": {
        "id": "6m_Q6ryHbShQ",
        "colab_type": "text"
      },
      "source": [
        "**A first Recurrent Baseline**\n",
        "\n",
        "*   Using GRU based model so that to reduce computational complexity  \n",
        "\n"
      ]
    },
    {
      "cell_type": "code",
      "metadata": {
        "id": "59gkLgyKQCmx",
        "colab_type": "code",
        "colab": {
          "base_uri": "https://localhost:8080/",
          "height": 727
        },
        "outputId": "e9265ac7-641d-4cc0-e075-030b46346bea"
      },
      "source": [
        "from keras.models import Sequential\n",
        "from keras import layers\n",
        "from keras.optimizers import RMSprop\n",
        "model = Sequential()\n",
        "model.add(layers.GRU(32, input_shape=(None, float_data.shape[-1])))\n",
        "model.add(layers.Dense(1))\n",
        "\n",
        "model.compile(optimizer=RMSprop(), loss='mae')\n",
        "\n",
        "history = model.fit_generator(train_gen,\n",
        "                              steps_per_epoch=500,\n",
        "                              epochs=20,\n",
        "                              validation_data=val_gen,\n",
        "                              validation_steps=val_steps)"
      ],
      "execution_count": null,
      "outputs": [
        {
          "output_type": "stream",
          "text": [
            "Epoch 1/20\n",
            "500/500 [==============================] - 126s 252ms/step - loss: 0.3019 - val_loss: 0.3374\n",
            "Epoch 2/20\n",
            "500/500 [==============================] - 125s 251ms/step - loss: 0.2834 - val_loss: 0.3271\n",
            "Epoch 3/20\n",
            "500/500 [==============================] - 127s 253ms/step - loss: 0.2754 - val_loss: 0.3629\n",
            "Epoch 4/20\n",
            "500/500 [==============================] - 126s 253ms/step - loss: 0.2695 - val_loss: 0.3666\n",
            "Epoch 5/20\n",
            "500/500 [==============================] - 127s 255ms/step - loss: 0.2656 - val_loss: 0.3619\n",
            "Epoch 6/20\n",
            "500/500 [==============================] - 126s 252ms/step - loss: 0.2607 - val_loss: 0.3519\n",
            "Epoch 7/20\n",
            "500/500 [==============================] - 126s 252ms/step - loss: 0.2574 - val_loss: 0.3876\n",
            "Epoch 8/20\n",
            "500/500 [==============================] - 128s 255ms/step - loss: 0.2536 - val_loss: 0.4133\n",
            "Epoch 9/20\n",
            "500/500 [==============================] - 126s 252ms/step - loss: 0.2502 - val_loss: 0.3886\n",
            "Epoch 10/20\n",
            "500/500 [==============================] - 126s 253ms/step - loss: 0.2457 - val_loss: 0.3997\n",
            "Epoch 11/20\n",
            "500/500 [==============================] - 127s 255ms/step - loss: 0.2433 - val_loss: 0.4034\n",
            "Epoch 12/20\n",
            "500/500 [==============================] - 127s 254ms/step - loss: 0.2397 - val_loss: 0.4647\n",
            "Epoch 13/20\n",
            "500/500 [==============================] - 128s 256ms/step - loss: 0.2357 - val_loss: 0.4637\n",
            "Epoch 14/20\n",
            "500/500 [==============================] - 127s 254ms/step - loss: 0.2317 - val_loss: 0.4334\n",
            "Epoch 15/20\n",
            "500/500 [==============================] - 128s 255ms/step - loss: 0.2267 - val_loss: 0.3650\n",
            "Epoch 16/20\n",
            "500/500 [==============================] - 128s 255ms/step - loss: 0.2233 - val_loss: 0.4096\n",
            "Epoch 17/20\n",
            "500/500 [==============================] - 127s 253ms/step - loss: 0.2212 - val_loss: 0.3918\n",
            "Epoch 18/20\n",
            "500/500 [==============================] - 127s 255ms/step - loss: 0.2183 - val_loss: 0.3828\n",
            "Epoch 19/20\n",
            "500/500 [==============================] - 128s 256ms/step - loss: 0.2156 - val_loss: 0.3780\n",
            "Epoch 20/20\n",
            "500/500 [==============================] - 128s 256ms/step - loss: 0.2134 - val_loss: 0.3801\n"
          ],
          "name": "stdout"
        }
      ]
    },
    {
      "cell_type": "code",
      "metadata": {
        "id": "E9n5pcTtcMwY",
        "colab_type": "code",
        "colab": {
          "base_uri": "https://localhost:8080/",
          "height": 281
        },
        "outputId": "c279dda5-eb7d-4146-876e-cc6ffd09258e"
      },
      "source": [
        "import matplotlib.pyplot as plt\n",
        "loss = history.history['loss']\n",
        "val_loss = history.history['val_loss']\n",
        "epochs = range(1, len(loss) + 1)\n",
        "plt.figure()\n",
        "plt.plot(epochs, loss, 'bo', label='Training loss')\n",
        "plt.plot(epochs, val_loss, 'b', label='Validation loss')\n",
        "plt.title('Training and validation loss')\n",
        "plt.legend()\n",
        "plt.show()"
      ],
      "execution_count": null,
      "outputs": [
        {
          "output_type": "display_data",
          "data": {
            "image/png": "[encoded data removed]",
            "text/plain": [
              "<Figure size 432x288 with 1 Axes>"
            ]
          },
          "metadata": {
            "tags": [],
            "needs_background": "light"
          }
        }
      ]
    },
    {
      "cell_type": "markdown",
      "metadata": {
        "id": "LAaK3HSrGTds",
        "colab_type": "text"
      },
      "source": [
        "We can see from curves that model is overfitting thus lacking generalization"
      ]
    },
    {
      "cell_type": "markdown",
      "metadata": {
        "id": "qyN__c4yGLAe",
        "colab_type": "text"
      },
      "source": [
        "Using Recurrent dropout to fight overfitting"
      ]
    },
    {
      "cell_type": "code",
      "metadata": {
        "id": "KdCCJPJ5rJnk",
        "colab_type": "code",
        "colab": {
          "base_uri": "https://localhost:8080/",
          "height": 1000
        },
        "outputId": "855bbaaf-2fb4-4060-ceb2-6d099c0f2194"
      },
      "source": [
        "from keras import Sequential\n",
        "from keras import layers\n",
        "from keras.optimizers import RMSprop\n",
        "\n",
        "model = Sequential()\n",
        "model.add(layers.GRU(32,\n",
        "                     dropout = 0.2,\n",
        "                     input_shape=(None, float_data.shape[-1])))\n",
        "model.add(layers.Dense(1))\n",
        "#compiling model\n",
        "model.compile(optimizer = RMSprop(),loss = \"mae\")\n",
        "\n",
        "history = model.fit_generator(train_gen,\n",
        "                              steps_per_epoch = 500,\n",
        "                              epochs = 40,\n",
        "                              validation_data = val_gen,\n",
        "                              validation_steps = val_steps)"
      ],
      "execution_count": null,
      "outputs": [
        {
          "output_type": "stream",
          "text": [
            "Epoch 1/40\n",
            "500/500 [==============================] - 126s 252ms/step - loss: 0.3409 - val_loss: 0.0967\n",
            "Epoch 2/40\n",
            "500/500 [==============================] - 126s 252ms/step - loss: 0.3062 - val_loss: 0.1206\n",
            "Epoch 3/40\n",
            "500/500 [==============================] - 127s 254ms/step - loss: 0.2991 - val_loss: 0.1445\n",
            "Epoch 4/40\n",
            "500/500 [==============================] - 127s 254ms/step - loss: 0.2958 - val_loss: 0.1320\n",
            "Epoch 5/40\n",
            "500/500 [==============================] - 126s 252ms/step - loss: 0.2939 - val_loss: 0.1618\n",
            "Epoch 6/40\n",
            "500/500 [==============================] - 126s 253ms/step - loss: 0.2903 - val_loss: 0.1806\n",
            "Epoch 7/40\n",
            "500/500 [==============================] - 126s 251ms/step - loss: 0.2860 - val_loss: 0.1996\n",
            "Epoch 8/40\n",
            "500/500 [==============================] - 127s 253ms/step - loss: 0.2851 - val_loss: 0.2194\n",
            "Epoch 9/40\n",
            "500/500 [==============================] - 126s 252ms/step - loss: 0.2831 - val_loss: 0.2289\n",
            "Epoch 10/40\n",
            "500/500 [==============================] - 126s 252ms/step - loss: 0.2809 - val_loss: 0.2323\n",
            "Epoch 11/40\n",
            "500/500 [==============================] - 126s 252ms/step - loss: 0.2791 - val_loss: 0.2308\n",
            "Epoch 12/40\n",
            "500/500 [==============================] - 125s 251ms/step - loss: 0.2768 - val_loss: 0.2420\n",
            "Epoch 13/40\n",
            "500/500 [==============================] - 127s 254ms/step - loss: 0.2766 - val_loss: 0.2230\n",
            "Epoch 14/40\n",
            "500/500 [==============================] - 129s 258ms/step - loss: 0.2742 - val_loss: 0.2139\n",
            "Epoch 15/40\n",
            "500/500 [==============================] - 130s 259ms/step - loss: 0.2725 - val_loss: 0.2559\n",
            "Epoch 16/40\n",
            "500/500 [==============================] - 129s 257ms/step - loss: 0.2714 - val_loss: 0.2391\n",
            "Epoch 17/40\n",
            "500/500 [==============================] - 126s 251ms/step - loss: 0.2676 - val_loss: 0.2395\n",
            "Epoch 18/40\n",
            "500/500 [==============================] - 127s 253ms/step - loss: 0.2675 - val_loss: 0.2621\n",
            "Epoch 19/40\n",
            "500/500 [==============================] - 126s 253ms/step - loss: 0.2658 - val_loss: 0.2313\n",
            "Epoch 20/40\n",
            "500/500 [==============================] - 126s 251ms/step - loss: 0.2652 - val_loss: 0.2281\n",
            "Epoch 21/40\n",
            "500/500 [==============================] - 126s 252ms/step - loss: 0.2625 - val_loss: 0.2292\n",
            "Epoch 22/40\n",
            "500/500 [==============================] - 125s 250ms/step - loss: 0.2608 - val_loss: 0.1933\n",
            "Epoch 23/40\n",
            "500/500 [==============================] - 126s 252ms/step - loss: 0.2598 - val_loss: 0.2192\n",
            "Epoch 24/40\n",
            "500/500 [==============================] - 127s 253ms/step - loss: 0.2590 - val_loss: 0.2145\n",
            "Epoch 25/40\n",
            "500/500 [==============================] - 131s 261ms/step - loss: 0.2577 - val_loss: 0.2017\n",
            "Epoch 26/40\n",
            "500/500 [==============================] - 133s 266ms/step - loss: 0.2548 - val_loss: 0.1977\n",
            "Epoch 27/40\n",
            "500/500 [==============================] - 127s 254ms/step - loss: 0.2533 - val_loss: 0.2184\n",
            "Epoch 28/40\n",
            "500/500 [==============================] - 126s 252ms/step - loss: 0.2525 - val_loss: 0.2733\n",
            "Epoch 29/40\n",
            "500/500 [==============================] - 126s 251ms/step - loss: 0.2526 - val_loss: 0.2284\n",
            "Epoch 30/40\n",
            "500/500 [==============================] - 125s 250ms/step - loss: 0.2522 - val_loss: 0.2316\n",
            "Epoch 31/40\n",
            "500/500 [==============================] - 126s 252ms/step - loss: 0.2509 - val_loss: 0.2238\n",
            "Epoch 32/40\n",
            "500/500 [==============================] - 125s 250ms/step - loss: 0.2485 - val_loss: 0.2336\n",
            "Epoch 33/40\n",
            "500/500 [==============================] - 125s 250ms/step - loss: 0.2485 - val_loss: 0.2363\n",
            "Epoch 34/40\n",
            "500/500 [==============================] - 125s 249ms/step - loss: 0.2465 - val_loss: 0.2131\n",
            "Epoch 35/40\n",
            "500/500 [==============================] - 123s 247ms/step - loss: 0.2447 - val_loss: 0.2316\n",
            "Epoch 36/40\n",
            "500/500 [==============================] - 124s 248ms/step - loss: 0.2448 - val_loss: 0.2347\n",
            "Epoch 37/40\n",
            "500/500 [==============================] - 124s 247ms/step - loss: 0.2426 - val_loss: 0.2091\n",
            "Epoch 38/40\n",
            "500/500 [==============================] - 124s 248ms/step - loss: 0.2425 - val_loss: 0.2484\n",
            "Epoch 39/40\n",
            "500/500 [==============================] - 124s 248ms/step - loss: 0.2396 - val_loss: 0.1938\n",
            "Epoch 40/40\n",
            "500/500 [==============================] - 124s 247ms/step - loss: 0.2395 - val_loss: 0.2354\n"
          ],
          "name": "stdout"
        }
      ]
    },
    {
      "cell_type": "code",
      "metadata": {
        "id": "4WRVdZp5Ib4P",
        "colab_type": "code",
        "colab": {
          "base_uri": "https://localhost:8080/",
          "height": 212
        },
        "outputId": "a8410937-2e24-4047-c277-5f479a1d8372"
      },
      "source": [
        "model.summary()"
      ],
      "execution_count": null,
      "outputs": [
        {
          "output_type": "stream",
          "text": [
            "Model: \"sequential_1\"\n",
            "_________________________________________________________________\n",
            "Layer (type)                 Output Shape              Param #   \n",
            "=================================================================\n",
            "gru_1 (GRU)                  (None, 32)                4512      \n",
            "_________________________________________________________________\n",
            "dense_1 (Dense)              (None, 1)                 33        \n",
            "=================================================================\n",
            "Total params: 4,545\n",
            "Trainable params: 4,545\n",
            "Non-trainable params: 0\n",
            "_________________________________________________________________\n"
          ],
          "name": "stdout"
        }
      ]
    },
    {
      "cell_type": "code",
      "metadata": {
        "id": "oVHOgUjMPE5y",
        "colab_type": "code",
        "colab": {
          "base_uri": "https://localhost:8080/",
          "height": 281
        },
        "outputId": "eefc9a5d-f504-418e-d563-a7e067ac56f0"
      },
      "source": [
        "import matplotlib.pyplot as plt\n",
        "loss = history.history['loss']\n",
        "val_loss = history.history['val_loss']\n",
        "epochs = range(1, len(loss) + 1)\n",
        "plt.figure()\n",
        "plt.plot(epochs, loss, 'bo', label='Training loss')\n",
        "plt.plot(epochs, val_loss, 'b', label='Validation loss')\n",
        "plt.title('Training and validation loss')\n",
        "plt.legend()\n",
        "plt.show()"
      ],
      "execution_count": null,
      "outputs": [
        {
          "output_type": "display_data",
          "data": {
            "image/png": "[encoded data removed]",
            "text/plain": [
              "<Figure size 432x288 with 1 Axes>"
            ]
          },
          "metadata": {
            "tags": [],
            "needs_background": "light"
          }
        }
      ]
    },
    {
      "cell_type": "markdown",
      "metadata": {
        "id": "XtDHMjxIPJ_L",
        "colab_type": "text"
      },
      "source": [
        "The graph shows that we are no longer overfitting but we have hit a performance bottle neck and we have to increase model complexity"
      ]
    },
    {
      "cell_type": "markdown",
      "metadata": {
        "id": "pC9ogXrUPmID",
        "colab_type": "text"
      },
      "source": [
        "Training and evaluating a dropout-regularized,stacked GRU model"
      ]
    },
    {
      "cell_type": "code",
      "metadata": {
        "id": "VCJ_OMx7PHPc",
        "colab_type": "code",
        "colab": {
          "base_uri": "https://localhost:8080/",
          "height": 391
        },
        "outputId": "24d124a9-bac6-46e0-d3e0-95ad051f6ceb"
      },
      "source": [
        "from tensorflow.keras.models import Sequential\n",
        "from tensorflow.keras import layers\n",
        "from tensorflow.keras.optimizers import RMSprop\n",
        "\n",
        "model = Sequential()\n",
        "model.add(layers.GRU(32,dropout=0.1,recurrent_dropout=0.5,return_sequences=True,input_shape=(None, float_data.shape[-1])))\n",
        "model.add(layers.GRU(64, activation='relu',dropout=0.1,recurrent_dropout=0.5))\n",
        "model.add(layers.Dense(1))\n",
        "\n",
        "model.compile(optimizer=RMSprop(), loss='mae')\n",
        "history = model.fit_generator(train_gen,\n",
        "                              steps_per_epoch=200,      #500\n",
        "                              epochs=10,               #40\n",
        "                              validation_data=val_gen,\n",
        "                              validation_steps=val_steps)"
      ],
      "execution_count": 10,
      "outputs": [
        {
          "output_type": "stream",
          "text": [
            "WARNING:tensorflow:From <ipython-input-10-f8be9a20d04f>:15: Model.fit_generator (from tensorflow.python.keras.engine.training) is deprecated and will be removed in a future version.\n",
            "Instructions for updating:\n",
            "Please use Model.fit, which supports generators.\n",
            "Epoch 1/10\n",
            "200/200 [==============================] - 214s 1s/step - loss: 0.3374 - val_loss: 0.2956\n",
            "Epoch 2/10\n",
            "200/200 [==============================] - 213s 1s/step - loss: 0.3130 - val_loss: 0.2763\n",
            "Epoch 3/10\n",
            "200/200 [==============================] - 209s 1s/step - loss: 0.3073 - val_loss: 0.2831\n",
            "Epoch 4/10\n",
            "200/200 [==============================] - 208s 1s/step - loss: 0.3033 - val_loss: 0.2772\n",
            "Epoch 5/10\n",
            "200/200 [==============================] - 209s 1s/step - loss: 0.3011 - val_loss: 0.2758\n",
            "Epoch 6/10\n",
            "200/200 [==============================] - 210s 1s/step - loss: 0.2965 - val_loss: 0.2709\n",
            "Epoch 7/10\n",
            "200/200 [==============================] - 210s 1s/step - loss: 0.2927 - val_loss: 0.2773\n",
            "Epoch 8/10\n",
            "200/200 [==============================] - 210s 1s/step - loss: 0.2912 - val_loss: 0.2835\n",
            "Epoch 9/10\n",
            "200/200 [==============================] - 210s 1s/step - loss: 0.2906 - val_loss: 0.2666\n",
            "Epoch 10/10\n",
            "200/200 [==============================] - 211s 1s/step - loss: 0.2848 - val_loss: 0.2794\n"
          ],
          "name": "stdout"
        }
      ]
    },
    {
      "cell_type": "code",
      "metadata": {
        "id": "G_MVafpyTvMi",
        "colab_type": "code",
        "colab": {
          "base_uri": "https://localhost:8080/",
          "height": 245
        },
        "outputId": "88614b99-7c23-442b-ba09-c46ea49eed26"
      },
      "source": [
        "model.summary()"
      ],
      "execution_count": 11,
      "outputs": [
        {
          "output_type": "stream",
          "text": [
            "Model: \"sequential_1\"\n",
            "_________________________________________________________________\n",
            "Layer (type)                 Output Shape              Param #   \n",
            "=================================================================\n",
            "gru (GRU)                    (None, None, 32)          4608      \n",
            "_________________________________________________________________\n",
            "gru_1 (GRU)                  (None, 64)                18816     \n",
            "_________________________________________________________________\n",
            "dense (Dense)                (None, 1)                 65        \n",
            "=================================================================\n",
            "Total params: 23,489\n",
            "Trainable params: 23,489\n",
            "Non-trainable params: 0\n",
            "_________________________________________________________________\n"
          ],
          "name": "stdout"
        }
      ]
    },
    {
      "cell_type": "code",
      "metadata": {
        "id": "qVevHoQjTwRC",
        "colab_type": "code",
        "colab": {
          "base_uri": "https://localhost:8080/",
          "height": 281
        },
        "outputId": "b888e10a-1558-4f40-bfc2-4159d4e4c138"
      },
      "source": [
        "import matplotlib.pyplot as plt\n",
        "loss = history.history['loss']\n",
        "val_loss = history.history['val_loss']\n",
        "epochs = range(1, len(loss) + 1)\n",
        "plt.figure()\n",
        "plt.plot(epochs, loss, 'bo', label='Training loss')\n",
        "plt.plot(epochs, val_loss, 'b', label='Validation loss')\n",
        "plt.title('Training and validation loss')\n",
        "plt.legend()\n",
        "plt.show()"
      ],
      "execution_count": 12,
      "outputs": [
        {
          "output_type": "display_data",
          "data": {
            "image/png": "[encoded data removed]",
            "text/plain": [
              "<Figure size 432x288 with 1 Axes>"
            ]
          },
          "metadata": {
            "tags": [],
            "needs_background": "light"
          }
        }
      ]
    },
    {
      "cell_type": "markdown",
      "metadata": {
        "id": "-mATOBCdria_",
        "colab_type": "text"
      },
      "source": [
        "**Using Bi-directional RNN's**"
      ]
    },
    {
      "cell_type": "code",
      "metadata": {
        "id": "pbT0KRtZwI4L",
        "colab_type": "code",
        "colab": {}
      },
      "source": [
        "#Writing a Python Generator  It yields a tuple (samples, targets),where samples is one batch of input data and targets is the corresponding array of target temperatures. It takes the following arguments:\n",
        "#data,lookback,delay,min_index,max_index,shuffle,batch_size,step\n",
        "def reverse_order_generator(data, lookback, delay, min_index, max_index,shuffle=False, batch_size=128, step=6):\n",
        "    if max_index is None: \n",
        "        max_index = len(data) - delay - 1 \n",
        "    i = min_index + lookback \n",
        "    while 1:\n",
        "        if shuffle: \n",
        "            #Generate random rows\n",
        "            rows = np.random.randint(min_index + lookback, max_index, size=batch_size)\n",
        "        else:\n",
        "            if i + batch_size >= max_index: \n",
        "                i = min_index + lookback    \n",
        "            rows = np.arange(i, min(i + batch_size, max_index))\n",
        "            i += len(rows) # \n",
        "        samples = np.zeros((len(rows),lookback // step,data.shape[-1])) \n",
        "        targets = np.zeros((len(rows),))\n",
        "        for j, row in enumerate(rows):\n",
        "            indices = range(rows[j] - lookback, rows[j], step)\n",
        "            samples[j] = data[indices]\n",
        "            targets[j] = data[rows[j] + delay][1]\n",
        "        yield samples[:, ::-1, :], targets    #the step which shuffle the time steps\n",
        "train_gen_reverse = reverse_order_generator(\n",
        "    float_data,\n",
        "    lookback=lookback,\n",
        "    delay=delay,\n",
        "    min_index=0,\n",
        "    max_index=200000,\n",
        "    shuffle=True,\n",
        "    step=step, \n",
        "    batch_size=batch_size)\n",
        "val_gen_reverse = reverse_order_generator(\n",
        "    float_data,\n",
        "    lookback=lookback,\n",
        "    delay=delay,\n",
        "    min_index=200001,\n",
        "    max_index=300000,\n",
        "    step=step,\n",
        "    batch_size=batch_size)        "
      ],
      "execution_count": 14,
      "outputs": []
    },
    {
      "cell_type": "code",
      "metadata": {
        "id": "Q2S0lpvbseVK",
        "colab_type": "code",
        "colab": {
          "base_uri": "https://localhost:8080/",
          "height": 667
        },
        "outputId": "aed8b1e8-fa76-4037-b4f9-c0843afcf625"
      },
      "source": [
        "model = Sequential()\n",
        "model.add(layers.GRU(32,\n",
        "                     dropout = 0.2,\n",
        "                     input_shape=(None, float_data.shape[-1])))\n",
        "model.add(layers.Dense(1))\n",
        "#compiling model\n",
        "model.compile(optimizer = RMSprop(),loss = \"mae\")\n",
        "\n",
        "history = model.fit_generator(train_gen,\n",
        "                              steps_per_epoch = 500,\n",
        "                              epochs = 20,\n",
        "                              validation_data = val_gen,\n",
        "                              validation_steps = val_steps)"
      ],
      "execution_count": 16,
      "outputs": [
        {
          "output_type": "stream",
          "text": [
            "Epoch 1/20\n",
            "500/500 [==============================] - 93s 185ms/step - loss: 0.3275 - val_loss: 0.2757\n",
            "Epoch 2/20\n",
            "500/500 [==============================] - 94s 187ms/step - loss: 0.3053 - val_loss: 0.2781\n",
            "Epoch 3/20\n",
            "500/500 [==============================] - 93s 185ms/step - loss: 0.2976 - val_loss: 0.2815\n",
            "Epoch 4/20\n",
            "500/500 [==============================] - 94s 188ms/step - loss: 0.2938 - val_loss: 0.2720\n",
            "Epoch 5/20\n",
            "500/500 [==============================] - 94s 188ms/step - loss: 0.2877 - val_loss: 0.2764\n",
            "Epoch 6/20\n",
            "500/500 [==============================] - 96s 192ms/step - loss: 0.2838 - val_loss: 0.2720\n",
            "Epoch 7/20\n",
            "500/500 [==============================] - 95s 190ms/step - loss: 0.2805 - val_loss: 0.2767\n",
            "Epoch 8/20\n",
            "500/500 [==============================] - 94s 188ms/step - loss: 0.2769 - val_loss: 0.2738\n",
            "Epoch 9/20\n",
            "500/500 [==============================] - 95s 189ms/step - loss: 0.2710 - val_loss: 0.2774\n",
            "Epoch 10/20\n",
            "500/500 [==============================] - 95s 189ms/step - loss: 0.2692 - val_loss: 0.2838\n",
            "Epoch 11/20\n",
            "500/500 [==============================] - 94s 188ms/step - loss: 0.2660 - val_loss: 0.2784\n",
            "Epoch 12/20\n",
            "500/500 [==============================] - 94s 188ms/step - loss: 0.2609 - val_loss: 0.2811\n",
            "Epoch 13/20\n",
            "500/500 [==============================] - 100s 200ms/step - loss: 0.2569 - val_loss: 0.2820\n",
            "Epoch 14/20\n",
            "500/500 [==============================] - 97s 194ms/step - loss: 0.2547 - val_loss: 0.2855\n",
            "Epoch 15/20\n",
            "500/500 [==============================] - 94s 189ms/step - loss: 0.2495 - val_loss: 0.2871\n",
            "Epoch 16/20\n",
            "500/500 [==============================] - 94s 189ms/step - loss: 0.2487 - val_loss: 0.2876\n",
            "Epoch 17/20\n",
            "500/500 [==============================] - 98s 196ms/step - loss: 0.2448 - val_loss: 0.2912\n",
            "Epoch 18/20\n",
            "500/500 [==============================] - 95s 191ms/step - loss: 0.2421 - val_loss: 0.2984\n",
            "Epoch 19/20\n",
            "500/500 [==============================] - 94s 188ms/step - loss: 0.2374 - val_loss: 0.2981\n",
            "Epoch 20/20\n",
            "500/500 [==============================] - 94s 188ms/step - loss: 0.2350 - val_loss: 0.3017\n"
          ],
          "name": "stdout"
        }
      ]
    },
    {
      "cell_type": "code",
      "metadata": {
        "id": "NnwJSMjxsfe2",
        "colab_type": "code",
        "colab": {
          "base_uri": "https://localhost:8080/",
          "height": 212
        },
        "outputId": "324e5df6-1585-42a4-b246-9bb19dadd2fd"
      },
      "source": [
        "model.summary()"
      ],
      "execution_count": 17,
      "outputs": [
        {
          "output_type": "stream",
          "text": [
            "Model: \"sequential_3\"\n",
            "_________________________________________________________________\n",
            "Layer (type)                 Output Shape              Param #   \n",
            "=================================================================\n",
            "gru_3 (GRU)                  (None, 32)                4608      \n",
            "_________________________________________________________________\n",
            "dense_2 (Dense)              (None, 1)                 33        \n",
            "=================================================================\n",
            "Total params: 4,641\n",
            "Trainable params: 4,641\n",
            "Non-trainable params: 0\n",
            "_________________________________________________________________\n"
          ],
          "name": "stdout"
        }
      ]
    },
    {
      "cell_type": "code",
      "metadata": {
        "id": "oMLa5d8vsqHJ",
        "colab_type": "code",
        "colab": {
          "base_uri": "https://localhost:8080/",
          "height": 281
        },
        "outputId": "5b47a296-37fe-4b68-a615-245774ea0ba5"
      },
      "source": [
        "loss = history.history['loss']\n",
        "val_loss = history.history['val_loss']\n",
        "epochs = range(1, len(loss) + 1)\n",
        "plt.figure()\n",
        "plt.plot(epochs, loss, 'bo', label='Training loss')\n",
        "plt.plot(epochs, val_loss, 'b', label='Validation loss')\n",
        "plt.title('Training and validation loss')\n",
        "plt.legend()\n",
        "plt.show()"
      ],
      "execution_count": 18,
      "outputs": [
        {
          "output_type": "display_data",
          "data": {
            "image/png": "[encoded data removed]",
            "text/plain": [
              "<Figure size 432x288 with 1 Axes>"
            ]
          },
          "metadata": {
            "tags": [],
            "needs_background": "light"
          }
        }
      ]
    },
    {
      "cell_type": "markdown",
      "metadata": {
        "id": "HyzBnyust7Kr",
        "colab_type": "text"
      },
      "source": [
        "Training and evaluating a bidirectional network"
      ]
    },
    {
      "cell_type": "code",
      "metadata": {
        "id": "AuWIkWyquvtx",
        "colab_type": "code",
        "colab": {
          "base_uri": "https://localhost:8080/",
          "height": 342
        },
        "outputId": "26c4df76-849f-41d7-d795-38250892e54a"
      },
      "source": [
        "model = Sequential()\n",
        "model.add(layers.Bidirectional(\n",
        "    layers.GRU(32), input_shape=(None, float_data.shape[-1])))\n",
        "model.add(layers.Dense(1))\n",
        "\n",
        "model.compile(optimizer=RMSprop(), loss='mae')\n",
        "history = model.fit_generator(train_gen,\n",
        "                              steps_per_epoch=300,\n",
        "                              epochs=10,\n",
        "                              validation_data=val_gen,\n",
        "                              validation_steps=val_steps)"
      ],
      "execution_count": 21,
      "outputs": [
        {
          "output_type": "stream",
          "text": [
            "Epoch 1/10\n",
            "300/300 [==============================] - 113s 376ms/step - loss: 0.3074 - val_loss: 0.2736\n",
            "Epoch 2/10\n",
            "300/300 [==============================] - 112s 373ms/step - loss: 0.2797 - val_loss: 0.2711\n",
            "Epoch 3/10\n",
            "300/300 [==============================] - 112s 373ms/step - loss: 0.2763 - val_loss: 0.2807\n",
            "Epoch 4/10\n",
            "300/300 [==============================] - 111s 370ms/step - loss: 0.2698 - val_loss: 0.2602\n",
            "Epoch 5/10\n",
            "300/300 [==============================] - 113s 377ms/step - loss: 0.2669 - val_loss: 0.2642\n",
            "Epoch 6/10\n",
            "300/300 [==============================] - 112s 373ms/step - loss: 0.2639 - val_loss: 0.2651\n",
            "Epoch 7/10\n",
            "300/300 [==============================] - 111s 371ms/step - loss: 0.2608 - val_loss: 0.2662\n",
            "Epoch 8/10\n",
            "300/300 [==============================] - 111s 371ms/step - loss: 0.2588 - val_loss: 0.2695\n",
            "Epoch 9/10\n",
            "300/300 [==============================] - 113s 376ms/step - loss: 0.2544 - val_loss: 0.2670\n",
            "Epoch 10/10\n",
            "300/300 [==============================] - 112s 372ms/step - loss: 0.2505 - val_loss: 0.2672\n"
          ],
          "name": "stdout"
        }
      ]
    },
    {
      "cell_type": "code",
      "metadata": {
        "id": "TP97nfXWu60K",
        "colab_type": "code",
        "colab": {
          "base_uri": "https://localhost:8080/",
          "height": 281
        },
        "outputId": "96f73da4-c23a-4c1f-9a77-ee587e15c557"
      },
      "source": [
        "loss = history.history['loss']\n",
        "val_loss = history.history['val_loss']\n",
        "epochs = range(1, len(loss) + 1)\n",
        "plt.figure()\n",
        "plt.plot(epochs, loss, 'bo', label='Training loss')\n",
        "plt.plot(epochs, val_loss, 'b', label='Validation loss')\n",
        "plt.title('Training and validation loss')\n",
        "plt.legend()\n",
        "plt.show()"
      ],
      "execution_count": 22,
      "outputs": [
        {
          "output_type": "display_data",
          "data": {
            "image/png": "[encoded data removed]",
            "text/plain": [
              "<Figure size 432x288 with 1 Axes>"
            ]
          },
          "metadata": {
            "tags": [],
            "needs_background": "light"
          }
        }
      ]
    },
    {
      "cell_type": "markdown",
      "metadata": {
        "id": "CJe-AwVCvDDl",
        "colab_type": "text"
      },
      "source": [
        "It performs about as well as the regular GRU layer. It's easy to understand why: all of the predictive capacity must be coming from the chronological half of the network, since the anti-chronological half is known to be severely underperforming on this task "
      ]
    },
    {
      "cell_type": "markdown",
      "metadata": {
        "id": "5tEFyI9UvhIR",
        "colab_type": "text"
      },
      "source": [
        "**Things learnt**\n",
        "\n",
        "\n",
        "*   As I first learned in Chapter 4, when approaching a new problem, it is good to first establish common sense baselines for your metric of choice. If I don't have a baseline to beat, I can't tell if you are making any real progress.\n",
        "*   Try simple models before expensive ones, to justify the additional expense. Sometimes a simple model will turn out to be your best option.\n",
        "*   On data where temporal ordering matters, recurrent networks are a great fit and easily outperform models that first flatten the temporal data.\n",
        "*   To use dropout with recurrent networks, one should use a time-constant dropout mask and recurrent dropout mask. This is built into Keras recurrent layers, so all you have to do is use the dropout and recurrent_dropout arguments of recurrent layers.\n",
        "*   Stacked RNNs provide more representational power than a single RNN layer. They are also much more expensive, and thus not always worth it. While they offer clear gains on complex problems (e.g. machine translation), they might not always be relevant to smaller, simpler problems.\n",
        "*   Bidirectional RNNs, which look at a sequence both ways, are very useful on natural language processing problems. However, they will not be strong performers on sequence data where the recent past is much more informative than the beginning of the sequence.\n",
        "\n",
        "\n"
      ]
    }
  ]
}