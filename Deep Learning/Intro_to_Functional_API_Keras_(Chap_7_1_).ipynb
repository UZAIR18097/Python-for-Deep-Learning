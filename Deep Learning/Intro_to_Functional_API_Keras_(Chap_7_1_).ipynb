{
  "nbformat": 4,
  "nbformat_minor": 0,
  "metadata": {
    "colab": {
      "name": "Intro to Functional API Keras (Chap 7.1 ).ipynb",
      "provenance": [],
      "collapsed_sections": []
    },
    "kernelspec": {
      "name": "python3",
      "display_name": "Python 3"
    }
  },
  "cells": [
    {
      "cell_type": "code",
      "metadata": {
        "id": "zRn8S7yLh1io",
        "colab_type": "code",
        "colab": {}
      },
      "source": [
        "from keras.models import  Model\n",
        "from keras import layers\n",
        "from keras import Input\n",
        "import numpy as np\n",
        "from IPython.display import SVG\n",
        "from keras.utils.vis_utils import model_to_dot\n",
        "from tensorflow.keras.utils import to_categorical"
      ],
      "execution_count": null,
      "outputs": []
    },
    {
      "cell_type": "markdown",
      "metadata": {
        "id": "jiuYqX1Gir39",
        "colab_type": "text"
      },
      "source": [
        "Defining Simple Model"
      ]
    },
    {
      "cell_type": "code",
      "metadata": {
        "id": "smrUsNndiVAT",
        "colab_type": "code",
        "colab": {}
      },
      "source": [
        "input_tensor = Input(shape=(64,))\n",
        "x = layers.Dense(32, activation='relu')(input_tensor)\n",
        "x = layers.Dense(32, activation='relu')(x)\n",
        "output_tensor = layers.Dense(10, activation='softmax')(x)\n",
        "model = Model(input_tensor, output_tensor)"
      ],
      "execution_count": null,
      "outputs": []
    },
    {
      "cell_type": "code",
      "metadata": {
        "id": "zpOGDRjQijGA",
        "colab_type": "code",
        "colab": {
          "base_uri": "https://localhost:8080/",
          "height": 301
        },
        "outputId": "66948122-e56c-4220-c7df-062be6ac69ce"
      },
      "source": [
        "model.summary()"
      ],
      "execution_count": null,
      "outputs": [
        {
          "output_type": "stream",
          "text": [
            "Model: \"model_1\"\n",
            "_________________________________________________________________\n",
            "Layer (type)                 Output Shape              Param #   \n",
            "=================================================================\n",
            "input_1 (InputLayer)         (None, 64)                0         \n",
            "_________________________________________________________________\n",
            "dense_1 (Dense)              (None, 32)                2080      \n",
            "_________________________________________________________________\n",
            "dense_2 (Dense)              (None, 32)                1056      \n",
            "_________________________________________________________________\n",
            "dense_3 (Dense)              (None, 10)                330       \n",
            "=================================================================\n",
            "Total params: 3,466\n",
            "Trainable params: 3,466\n",
            "Non-trainable params: 0\n",
            "_________________________________________________________________\n"
          ],
          "name": "stdout"
        }
      ]
    },
    {
      "cell_type": "markdown",
      "metadata": {
        "id": "W5rGHew4jtE-",
        "colab_type": "text"
      },
      "source": [
        "Compiling Model"
      ]
    },
    {
      "cell_type": "code",
      "metadata": {
        "id": "0F9DItugi9mj",
        "colab_type": "code",
        "colab": {}
      },
      "source": [
        "model.compile(optimizer='rmsprop', loss='categorical_crossentropy')"
      ],
      "execution_count": null,
      "outputs": []
    },
    {
      "cell_type": "markdown",
      "metadata": {
        "id": "p6mWkjV3jyJG",
        "colab_type": "text"
      },
      "source": [
        "Creating data"
      ]
    },
    {
      "cell_type": "code",
      "metadata": {
        "id": "HCvA6iIWjvG4",
        "colab_type": "code",
        "colab": {}
      },
      "source": [
        "import numpy as np\n",
        "x_train = np.random.random((1000, 64))\n",
        "y_train = np.random.random((1000, 10))"
      ],
      "execution_count": null,
      "outputs": []
    },
    {
      "cell_type": "markdown",
      "metadata": {
        "id": "pouElKLUj23v",
        "colab_type": "text"
      },
      "source": [
        "Training model"
      ]
    },
    {
      "cell_type": "code",
      "metadata": {
        "id": "3h6UWBjgjzR7",
        "colab_type": "code",
        "colab": {
          "base_uri": "https://localhost:8080/",
          "height": 390
        },
        "outputId": "d710acea-a550-445d-e29a-58823ce6a80d"
      },
      "source": [
        "model.fit(x_train, y_train, epochs=10, batch_size=128)"
      ],
      "execution_count": null,
      "outputs": [
        {
          "output_type": "stream",
          "text": [
            "Epoch 1/10\n",
            "1000/1000 [==============================] - 0s 291us/step - loss: 11.7763\n",
            "Epoch 2/10\n",
            "1000/1000 [==============================] - 0s 15us/step - loss: 12.8899\n",
            "Epoch 3/10\n",
            "1000/1000 [==============================] - 0s 20us/step - loss: 15.4961\n",
            "Epoch 4/10\n",
            "1000/1000 [==============================] - 0s 21us/step - loss: 19.3235\n",
            "Epoch 5/10\n",
            "1000/1000 [==============================] - 0s 16us/step - loss: 24.0850\n",
            "Epoch 6/10\n",
            "1000/1000 [==============================] - 0s 18us/step - loss: 28.3660\n",
            "Epoch 7/10\n",
            "1000/1000 [==============================] - 0s 16us/step - loss: 32.7057\n",
            "Epoch 8/10\n",
            "1000/1000 [==============================] - 0s 22us/step - loss: 37.3821\n",
            "Epoch 9/10\n",
            "1000/1000 [==============================] - 0s 20us/step - loss: 42.7997\n",
            "Epoch 10/10\n",
            "1000/1000 [==============================] - 0s 19us/step - loss: 48.3816\n"
          ],
          "name": "stdout"
        },
        {
          "output_type": "execute_result",
          "data": {
            "text/plain": [
              "<keras.callbacks.callbacks.History at 0x7ff201d00550>"
            ]
          },
          "metadata": {
            "tags": []
          },
          "execution_count": 8
        }
      ]
    },
    {
      "cell_type": "code",
      "metadata": {
        "id": "sclzAtpEj4XH",
        "colab_type": "code",
        "colab": {
          "base_uri": "https://localhost:8080/",
          "height": 52
        },
        "outputId": "5eebc7b8-5cbe-4d04-e02a-fa306c5a6114"
      },
      "source": [
        "score = model.evaluate(x_train, y_train)\n",
        "print(score)"
      ],
      "execution_count": null,
      "outputs": [
        {
          "output_type": "stream",
          "text": [
            "1000/1000 [==============================] - 0s 27us/step\n",
            "51.605576965332034\n"
          ],
          "name": "stdout"
        }
      ]
    },
    {
      "cell_type": "markdown",
      "metadata": {
        "id": "IhncA6dvkLM_",
        "colab_type": "text"
      },
      "source": [
        "Multi Input Models(A question answering model)"
      ]
    },
    {
      "cell_type": "code",
      "metadata": {
        "id": "7HRqPA22j-oG",
        "colab_type": "code",
        "colab": {}
      },
      "source": [
        "text_vocabulary_size = 10000\n",
        "question_vocabulary_size = 10000\n",
        "answer_vocabulary_size = 500"
      ],
      "execution_count": null,
      "outputs": []
    },
    {
      "cell_type": "code",
      "metadata": {
        "id": "D1cSw9L8qPGw",
        "colab_type": "code",
        "colab": {}
      },
      "source": [
        "\n",
        "# The text input is a variable-length sequence of integers. \n",
        "# Note that you we can optionally name the inputs.\n",
        "text_input = Input(shape=(None,), dtype='int32', name='text')\n",
        "embedded_text = layers.Embedding(text_vocabulary_size,64)(text_input)\n",
        "# Encodes the vectors in a single vector via an LSTM\n",
        "encoded_text = layers.LSTM(32)(embedded_text)\n",
        "# Same process (with different layer instances) for the question\n",
        "question_input = Input(shape=(None,),dtype='int32',name='question')\n",
        "embedded_question = layers.Embedding(question_vocabulary_size,32)(question_input)\n",
        "encoded_question = layers.LSTM(16)(embedded_question) \n",
        "# Concatenates the encoded question and encoded text\n",
        "concatenated = layers.concatenate([encoded_text, encoded_question],axis=-1)\n",
        "# Adds a softmax classifier on top\n",
        "answer = layers.Dense(answer_vocabulary_size, activation='softmax')(concatenated)\n",
        "# At model instantiation, you specify the two inputs and the output.\n",
        "model = Model([text_input, question_input], answer)\n",
        "model.compile(optimizer='rmsprop',loss='categorical_crossentropy',metrics=['acc'])"
      ],
      "execution_count": null,
      "outputs": []
    },
    {
      "cell_type": "code",
      "metadata": {
        "id": "ALtxgzXGplSF",
        "colab_type": "code",
        "colab": {
          "base_uri": "https://localhost:8080/",
          "height": 1000
        },
        "outputId": "44cb2f98-3028-4ae5-cd7d-57f5d30fa4a2"
      },
      "source": [
        "model.summary()\n",
        "SVG(model_to_dot(model,show_shapes=True).create(prog='dot', format='svg'))"
      ],
      "execution_count": null,
      "outputs": [
        {
          "output_type": "stream",
          "text": [
            "Model: \"model_6\"\n",
            "__________________________________________________________________________________________________\n",
            "Layer (type)                    Output Shape         Param #     Connected to                     \n",
            "==================================================================================================\n",
            "text (InputLayer)               (None, None)         0                                            \n",
            "__________________________________________________________________________________________________\n",
            "question (InputLayer)           (None, None)         0                                            \n",
            "__________________________________________________________________________________________________\n",
            "embedding_7 (Embedding)         (None, None, 64)     640000      text[0][0]                       \n",
            "__________________________________________________________________________________________________\n",
            "embedding_8 (Embedding)         (None, None, 32)     320000      question[0][0]                   \n",
            "__________________________________________________________________________________________________\n",
            "lstm_11 (LSTM)                  (None, 32)           12416       embedding_7[0][0]                \n",
            "__________________________________________________________________________________________________\n",
            "lstm_12 (LSTM)                  (None, 16)           3136        embedding_8[0][0]                \n",
            "__________________________________________________________________________________________________\n",
            "concatenate_4 (Concatenate)     (None, 48)           0           lstm_11[0][0]                    \n",
            "                                                                 lstm_12[0][0]                    \n",
            "__________________________________________________________________________________________________\n",
            "dense_7 (Dense)                 (None, 500)          24500       concatenate_4[0][0]              \n",
            "==================================================================================================\n",
            "Total params: 1,000,052\n",
            "Trainable params: 1,000,052\n",
            "Non-trainable params: 0\n",
            "__________________________________________________________________________________________________\n"
          ],
          "name": "stdout"
        },
        {
          "output_type": "execute_result",
          "data": {
            "text/plain": [
              "<IPython.core.display.SVG object>"
            ],
            "image/svg+xml": "<svg height=\"516pt\" viewBox=\"0.00 0.00 722.00 387.00\" width=\"963pt\" xmlns=\"http://www.w3.org/2000/svg\" xmlns:xlink=\"http://www.w3.org/1999/xlink\">\n<g class=\"graph\" id=\"graph0\" transform=\"scale(1.3333 1.3333) rotate(0) translate(4 383)\">\n<title>G</title>\n<polygon fill=\"#ffffff\" points=\"-4,4 -4,-383 718,-383 718,4 -4,4\" stroke=\"transparent\"/>\n<!-- 140677258746848 -->\n<g class=\"node\" id=\"node1\">\n<title>140677258746848</title>\n<polygon fill=\"none\" points=\"42.5,-332.5 42.5,-378.5 305.5,-378.5 305.5,-332.5 42.5,-332.5\" stroke=\"#000000\"/>\n<text fill=\"#000000\" font-family=\"Times,serif\" font-size=\"14.00\" text-anchor=\"middle\" x=\"97\" y=\"-351.8\">text: InputLayer</text>\n<polyline fill=\"none\" points=\"151.5,-332.5 151.5,-378.5 \" stroke=\"#000000\"/>\n<text fill=\"#000000\" font-family=\"Times,serif\" font-size=\"14.00\" text-anchor=\"middle\" x=\"180.5\" y=\"-363.3\">input:</text>\n<polyline fill=\"none\" points=\"151.5,-355.5 209.5,-355.5 \" stroke=\"#000000\"/>\n<text fill=\"#000000\" font-family=\"Times,serif\" font-size=\"14.00\" text-anchor=\"middle\" x=\"180.5\" y=\"-340.3\">output:</text>\n<polyline fill=\"none\" points=\"209.5,-332.5 209.5,-378.5 \" stroke=\"#000000\"/>\n<text fill=\"#000000\" font-family=\"Times,serif\" font-size=\"14.00\" text-anchor=\"middle\" x=\"257.5\" y=\"-363.3\">(None, None)</text>\n<polyline fill=\"none\" points=\"209.5,-355.5 305.5,-355.5 \" stroke=\"#000000\"/>\n<text fill=\"#000000\" font-family=\"Times,serif\" font-size=\"14.00\" text-anchor=\"middle\" x=\"257.5\" y=\"-340.3\">(None, None)</text>\n</g>\n<!-- 140677258746960 -->\n<g class=\"node\" id=\"node3\">\n<title>140677258746960</title>\n<polygon fill=\"none\" points=\"0,-249.5 0,-295.5 348,-295.5 348,-249.5 0,-249.5\" stroke=\"#000000\"/>\n<text fill=\"#000000\" font-family=\"Times,serif\" font-size=\"14.00\" text-anchor=\"middle\" x=\"85.5\" y=\"-268.8\">embedding_7: Embedding</text>\n<polyline fill=\"none\" points=\"171,-249.5 171,-295.5 \" stroke=\"#000000\"/>\n<text fill=\"#000000\" font-family=\"Times,serif\" font-size=\"14.00\" text-anchor=\"middle\" x=\"200\" y=\"-280.3\">input:</text>\n<polyline fill=\"none\" points=\"171,-272.5 229,-272.5 \" stroke=\"#000000\"/>\n<text fill=\"#000000\" font-family=\"Times,serif\" font-size=\"14.00\" text-anchor=\"middle\" x=\"200\" y=\"-257.3\">output:</text>\n<polyline fill=\"none\" points=\"229,-249.5 229,-295.5 \" stroke=\"#000000\"/>\n<text fill=\"#000000\" font-family=\"Times,serif\" font-size=\"14.00\" text-anchor=\"middle\" x=\"288.5\" y=\"-280.3\">(None, None)</text>\n<polyline fill=\"none\" points=\"229,-272.5 348,-272.5 \" stroke=\"#000000\"/>\n<text fill=\"#000000\" font-family=\"Times,serif\" font-size=\"14.00\" text-anchor=\"middle\" x=\"288.5\" y=\"-257.3\">(None, None, 64)</text>\n</g>\n<!-- 140677258746848&#45;&gt;140677258746960 -->\n<g class=\"edge\" id=\"edge1\">\n<title>140677258746848-&gt;140677258746960</title>\n<path d=\"M174,-332.3799C174,-324.1745 174,-314.7679 174,-305.8786\" fill=\"none\" stroke=\"#000000\"/>\n<polygon fill=\"#000000\" points=\"177.5001,-305.784 174,-295.784 170.5001,-305.784 177.5001,-305.784\" stroke=\"#000000\"/>\n</g>\n<!-- 140677258844424 -->\n<g class=\"node\" id=\"node2\">\n<title>140677258844424</title>\n<polygon fill=\"none\" points=\"394.5,-332.5 394.5,-378.5 685.5,-378.5 685.5,-332.5 394.5,-332.5\" stroke=\"#000000\"/>\n<text fill=\"#000000\" font-family=\"Times,serif\" font-size=\"14.00\" text-anchor=\"middle\" x=\"463\" y=\"-351.8\">question: InputLayer</text>\n<polyline fill=\"none\" points=\"531.5,-332.5 531.5,-378.5 \" stroke=\"#000000\"/>\n<text fill=\"#000000\" font-family=\"Times,serif\" font-size=\"14.00\" text-anchor=\"middle\" x=\"560.5\" y=\"-363.3\">input:</text>\n<polyline fill=\"none\" points=\"531.5,-355.5 589.5,-355.5 \" stroke=\"#000000\"/>\n<text fill=\"#000000\" font-family=\"Times,serif\" font-size=\"14.00\" text-anchor=\"middle\" x=\"560.5\" y=\"-340.3\">output:</text>\n<polyline fill=\"none\" points=\"589.5,-332.5 589.5,-378.5 \" stroke=\"#000000\"/>\n<text fill=\"#000000\" font-family=\"Times,serif\" font-size=\"14.00\" text-anchor=\"middle\" x=\"637.5\" y=\"-363.3\">(None, None)</text>\n<polyline fill=\"none\" points=\"589.5,-355.5 685.5,-355.5 \" stroke=\"#000000\"/>\n<text fill=\"#000000\" font-family=\"Times,serif\" font-size=\"14.00\" text-anchor=\"middle\" x=\"637.5\" y=\"-340.3\">(None, None)</text>\n</g>\n<!-- 140677270350312 -->\n<g class=\"node\" id=\"node4\">\n<title>140677270350312</title>\n<polygon fill=\"none\" points=\"366,-249.5 366,-295.5 714,-295.5 714,-249.5 366,-249.5\" stroke=\"#000000\"/>\n<text fill=\"#000000\" font-family=\"Times,serif\" font-size=\"14.00\" text-anchor=\"middle\" x=\"451.5\" y=\"-268.8\">embedding_8: Embedding</text>\n<polyline fill=\"none\" points=\"537,-249.5 537,-295.5 \" stroke=\"#000000\"/>\n<text fill=\"#000000\" font-family=\"Times,serif\" font-size=\"14.00\" text-anchor=\"middle\" x=\"566\" y=\"-280.3\">input:</text>\n<polyline fill=\"none\" points=\"537,-272.5 595,-272.5 \" stroke=\"#000000\"/>\n<text fill=\"#000000\" font-family=\"Times,serif\" font-size=\"14.00\" text-anchor=\"middle\" x=\"566\" y=\"-257.3\">output:</text>\n<polyline fill=\"none\" points=\"595,-249.5 595,-295.5 \" stroke=\"#000000\"/>\n<text fill=\"#000000\" font-family=\"Times,serif\" font-size=\"14.00\" text-anchor=\"middle\" x=\"654.5\" y=\"-280.3\">(None, None)</text>\n<polyline fill=\"none\" points=\"595,-272.5 714,-272.5 \" stroke=\"#000000\"/>\n<text fill=\"#000000\" font-family=\"Times,serif\" font-size=\"14.00\" text-anchor=\"middle\" x=\"654.5\" y=\"-257.3\">(None, None, 32)</text>\n</g>\n<!-- 140677258844424&#45;&gt;140677270350312 -->\n<g class=\"edge\" id=\"edge2\">\n<title>140677258844424-&gt;140677270350312</title>\n<path d=\"M540,-332.3799C540,-324.1745 540,-314.7679 540,-305.8786\" fill=\"none\" stroke=\"#000000\"/>\n<polygon fill=\"#000000\" points=\"543.5001,-305.784 540,-295.784 536.5001,-305.784 543.5001,-305.784\" stroke=\"#000000\"/>\n</g>\n<!-- 140677269381976 -->\n<g class=\"node\" id=\"node5\">\n<title>140677269381976</title>\n<polygon fill=\"none\" points=\"61,-166.5 61,-212.5 347,-212.5 347,-166.5 61,-166.5\" stroke=\"#000000\"/>\n<text fill=\"#000000\" font-family=\"Times,serif\" font-size=\"14.00\" text-anchor=\"middle\" x=\"115.5\" y=\"-185.8\">lstm_11: LSTM</text>\n<polyline fill=\"none\" points=\"170,-166.5 170,-212.5 \" stroke=\"#000000\"/>\n<text fill=\"#000000\" font-family=\"Times,serif\" font-size=\"14.00\" text-anchor=\"middle\" x=\"199\" y=\"-197.3\">input:</text>\n<polyline fill=\"none\" points=\"170,-189.5 228,-189.5 \" stroke=\"#000000\"/>\n<text fill=\"#000000\" font-family=\"Times,serif\" font-size=\"14.00\" text-anchor=\"middle\" x=\"199\" y=\"-174.3\">output:</text>\n<polyline fill=\"none\" points=\"228,-166.5 228,-212.5 \" stroke=\"#000000\"/>\n<text fill=\"#000000\" font-family=\"Times,serif\" font-size=\"14.00\" text-anchor=\"middle\" x=\"287.5\" y=\"-197.3\">(None, None, 64)</text>\n<polyline fill=\"none\" points=\"228,-189.5 347,-189.5 \" stroke=\"#000000\"/>\n<text fill=\"#000000\" font-family=\"Times,serif\" font-size=\"14.00\" text-anchor=\"middle\" x=\"287.5\" y=\"-174.3\">(None, 32)</text>\n</g>\n<!-- 140677258746960&#45;&gt;140677269381976 -->\n<g class=\"edge\" id=\"edge3\">\n<title>140677258746960-&gt;140677269381976</title>\n<path d=\"M182.3567,-249.3799C185.3869,-240.9962 188.8705,-231.3584 192.1447,-222.2996\" fill=\"none\" stroke=\"#000000\"/>\n<polygon fill=\"#000000\" points=\"195.4764,-223.3783 195.5841,-212.784 188.8932,-220.9988 195.4764,-223.3783\" stroke=\"#000000\"/>\n</g>\n<!-- 140677258746904 -->\n<g class=\"node\" id=\"node6\">\n<title>140677258746904</title>\n<polygon fill=\"none\" points=\"380.5,-166.5 380.5,-212.5 667.5,-212.5 667.5,-166.5 380.5,-166.5\" stroke=\"#000000\"/>\n<text fill=\"#000000\" font-family=\"Times,serif\" font-size=\"14.00\" text-anchor=\"middle\" x=\"435.5\" y=\"-185.8\">lstm_12: LSTM</text>\n<polyline fill=\"none\" points=\"490.5,-166.5 490.5,-212.5 \" stroke=\"#000000\"/>\n<text fill=\"#000000\" font-family=\"Times,serif\" font-size=\"14.00\" text-anchor=\"middle\" x=\"519.5\" y=\"-197.3\">input:</text>\n<polyline fill=\"none\" points=\"490.5,-189.5 548.5,-189.5 \" stroke=\"#000000\"/>\n<text fill=\"#000000\" font-family=\"Times,serif\" font-size=\"14.00\" text-anchor=\"middle\" x=\"519.5\" y=\"-174.3\">output:</text>\n<polyline fill=\"none\" points=\"548.5,-166.5 548.5,-212.5 \" stroke=\"#000000\"/>\n<text fill=\"#000000\" font-family=\"Times,serif\" font-size=\"14.00\" text-anchor=\"middle\" x=\"608\" y=\"-197.3\">(None, None, 32)</text>\n<polyline fill=\"none\" points=\"548.5,-189.5 667.5,-189.5 \" stroke=\"#000000\"/>\n<text fill=\"#000000\" font-family=\"Times,serif\" font-size=\"14.00\" text-anchor=\"middle\" x=\"608\" y=\"-174.3\">(None, 16)</text>\n</g>\n<!-- 140677270350312&#45;&gt;140677258746904 -->\n<g class=\"edge\" id=\"edge4\">\n<title>140677270350312-&gt;140677258746904</title>\n<path d=\"M535.5431,-249.3799C533.9614,-241.1745 532.148,-231.7679 530.4344,-222.8786\" fill=\"none\" stroke=\"#000000\"/>\n<polygon fill=\"#000000\" points=\"533.8182,-221.9407 528.4885,-212.784 526.9447,-223.2658 533.8182,-221.9407\" stroke=\"#000000\"/>\n</g>\n<!-- 140677258747632 -->\n<g class=\"node\" id=\"node7\">\n<title>140677258747632</title>\n<polygon fill=\"none\" points=\"160,-83.5 160,-129.5 552,-129.5 552,-83.5 160,-83.5\" stroke=\"#000000\"/>\n<text fill=\"#000000\" font-family=\"Times,serif\" font-size=\"14.00\" text-anchor=\"middle\" x=\"247.5\" y=\"-102.8\">concatenate_4: Concatenate</text>\n<polyline fill=\"none\" points=\"335,-83.5 335,-129.5 \" stroke=\"#000000\"/>\n<text fill=\"#000000\" font-family=\"Times,serif\" font-size=\"14.00\" text-anchor=\"middle\" x=\"364\" y=\"-114.3\">input:</text>\n<polyline fill=\"none\" points=\"335,-106.5 393,-106.5 \" stroke=\"#000000\"/>\n<text fill=\"#000000\" font-family=\"Times,serif\" font-size=\"14.00\" text-anchor=\"middle\" x=\"364\" y=\"-91.3\">output:</text>\n<polyline fill=\"none\" points=\"393,-83.5 393,-129.5 \" stroke=\"#000000\"/>\n<text fill=\"#000000\" font-family=\"Times,serif\" font-size=\"14.00\" text-anchor=\"middle\" x=\"472.5\" y=\"-114.3\">[(None, 32), (None, 16)]</text>\n<polyline fill=\"none\" points=\"393,-106.5 552,-106.5 \" stroke=\"#000000\"/>\n<text fill=\"#000000\" font-family=\"Times,serif\" font-size=\"14.00\" text-anchor=\"middle\" x=\"472.5\" y=\"-91.3\">(None, 48)</text>\n</g>\n<!-- 140677269381976&#45;&gt;140677258747632 -->\n<g class=\"edge\" id=\"edge5\">\n<title>140677269381976-&gt;140677258747632</title>\n<path d=\"M246.3405,-166.3799C264.4646,-156.4832 285.7892,-144.8388 304.7916,-134.4625\" fill=\"none\" stroke=\"#000000\"/>\n<polygon fill=\"#000000\" points=\"306.5239,-137.5044 313.6232,-129.6399 303.1691,-131.3607 306.5239,-137.5044\" stroke=\"#000000\"/>\n</g>\n<!-- 140677258746904&#45;&gt;140677258747632 -->\n<g class=\"edge\" id=\"edge6\">\n<title>140677258746904-&gt;140677258747632</title>\n<path d=\"M477.2026,-166.3799C456.9894,-156.3936 433.1746,-144.6279 412.0292,-134.1811\" fill=\"none\" stroke=\"#000000\"/>\n<polygon fill=\"#000000\" points=\"413.3533,-130.9315 402.8375,-129.6399 410.2527,-137.2073 413.3533,-130.9315\" stroke=\"#000000\"/>\n</g>\n<!-- 140677258747408 -->\n<g class=\"node\" id=\"node8\">\n<title>140677258747408</title>\n<polygon fill=\"none\" points=\"230,-.5 230,-46.5 482,-46.5 482,-.5 230,-.5\" stroke=\"#000000\"/>\n<text fill=\"#000000\" font-family=\"Times,serif\" font-size=\"14.00\" text-anchor=\"middle\" x=\"283.5\" y=\"-19.8\">dense_7: Dense</text>\n<polyline fill=\"none\" points=\"337,-.5 337,-46.5 \" stroke=\"#000000\"/>\n<text fill=\"#000000\" font-family=\"Times,serif\" font-size=\"14.00\" text-anchor=\"middle\" x=\"366\" y=\"-31.3\">input:</text>\n<polyline fill=\"none\" points=\"337,-23.5 395,-23.5 \" stroke=\"#000000\"/>\n<text fill=\"#000000\" font-family=\"Times,serif\" font-size=\"14.00\" text-anchor=\"middle\" x=\"366\" y=\"-8.3\">output:</text>\n<polyline fill=\"none\" points=\"395,-.5 395,-46.5 \" stroke=\"#000000\"/>\n<text fill=\"#000000\" font-family=\"Times,serif\" font-size=\"14.00\" text-anchor=\"middle\" x=\"438.5\" y=\"-31.3\">(None, 48)</text>\n<polyline fill=\"none\" points=\"395,-23.5 482,-23.5 \" stroke=\"#000000\"/>\n<text fill=\"#000000\" font-family=\"Times,serif\" font-size=\"14.00\" text-anchor=\"middle\" x=\"438.5\" y=\"-8.3\">(None, 500)</text>\n</g>\n<!-- 140677258747632&#45;&gt;140677258747408 -->\n<g class=\"edge\" id=\"edge7\">\n<title>140677258747632-&gt;140677258747408</title>\n<path d=\"M356,-83.3799C356,-75.1745 356,-65.7679 356,-56.8786\" fill=\"none\" stroke=\"#000000\"/>\n<polygon fill=\"#000000\" points=\"359.5001,-56.784 356,-46.784 352.5001,-56.784 359.5001,-56.784\" stroke=\"#000000\"/>\n</g>\n</g>\n</svg>"
          },
          "metadata": {
            "tags": []
          },
          "execution_count": 47
        }
      ]
    },
    {
      "cell_type": "markdown",
      "metadata": {
        "id": "pu4zDwdPmpXM",
        "colab_type": "text"
      },
      "source": [
        "Feeding data into Model"
      ]
    },
    {
      "cell_type": "code",
      "metadata": {
        "id": "0P12o4sDml4q",
        "colab_type": "code",
        "colab": {
          "base_uri": "https://localhost:8080/",
          "height": 798
        },
        "outputId": "56d57b9b-8e4d-4d17-eae7-d4cbeb28669e"
      },
      "source": [
        "#generates dummy data\n",
        "num_samples = 1000 \n",
        "max_length = 100\n",
        "\n",
        "# Generates dummy Numpy data\n",
        "text = np.random.randint(1, text_vocabulary_size,size=(num_samples, max_length))\n",
        "question = np.random.randint(1, question_vocabulary_size,size=(num_samples, max_length)) \n",
        "# Answers are one-hot encoded, not integers\n",
        "# answers = np.random.randint(0, 1,size=(num_samples, answer_vocabulary_size))\n",
        "answers = np.random.randint(answer_vocabulary_size, size=(num_samples))\n",
        "answers = to_categorical(answers, answer_vocabulary_size)\n",
        "\n",
        "# Fitting using a list of inputs\n",
        "print('-'*10,\"First training run with list of NumPy arrays\",'-'*60)\n",
        "model.fit([text, question], answers, epochs=10, batch_size=128)\n",
        "print()\n",
        "\n",
        "# Fitting using a dictionary of inputs (only if inputs are named)\n",
        "print('-'*10,\"Second training run with dictionary and named inputs\",'-'*60)\n",
        "model.fit({'text': text, 'question': question}, answers,epochs=10, batch_size=128)"
      ],
      "execution_count": null,
      "outputs": [
        {
          "output_type": "stream",
          "text": [
            "---------- First training run with list of NumPy arrays ------------------------------------------------------------\n",
            "Epoch 1/10\n",
            "1000/1000 [==============================] - 1s 1ms/step - loss: 6.2739 - acc: 0.0040\n",
            "Epoch 2/10\n",
            "1000/1000 [==============================] - 1s 1ms/step - loss: 6.1745 - acc: 0.0060\n",
            "Epoch 3/10\n",
            "1000/1000 [==============================] - 1s 1ms/step - loss: 6.1145 - acc: 0.0060\n",
            "Epoch 4/10\n",
            "1000/1000 [==============================] - 1s 1ms/step - loss: 6.0737 - acc: 0.0060\n",
            "Epoch 5/10\n",
            "1000/1000 [==============================] - 1s 1ms/step - loss: 6.0454 - acc: 0.0070\n",
            "Epoch 6/10\n",
            "1000/1000 [==============================] - 1s 1ms/step - loss: 6.0244 - acc: 0.0090\n",
            "Epoch 7/10\n",
            "1000/1000 [==============================] - 1s 1ms/step - loss: 6.0103 - acc: 0.0090\n",
            "Epoch 8/10\n",
            "1000/1000 [==============================] - 1s 1ms/step - loss: 5.9998 - acc: 0.0090\n",
            "Epoch 9/10\n",
            "1000/1000 [==============================] - 1s 1ms/step - loss: 5.9910 - acc: 0.0090\n",
            "Epoch 10/10\n",
            "1000/1000 [==============================] - 1s 1ms/step - loss: 5.9819 - acc: 0.0090\n",
            "\n",
            "---------- Second training run with dictionary and named inputs ------------------------------------------------------------\n",
            "Epoch 1/10\n",
            "1000/1000 [==============================] - 1s 1ms/step - loss: 5.9763 - acc: 0.0090\n",
            "Epoch 2/10\n",
            "1000/1000 [==============================] - 1s 1ms/step - loss: 5.9685 - acc: 0.0090\n",
            "Epoch 3/10\n",
            "1000/1000 [==============================] - 1s 1ms/step - loss: 5.9547 - acc: 0.0090\n",
            "Epoch 4/10\n",
            "1000/1000 [==============================] - 1s 1ms/step - loss: 5.9279 - acc: 0.0090\n",
            "Epoch 5/10\n",
            "1000/1000 [==============================] - 1s 1ms/step - loss: 5.8906 - acc: 0.0100\n",
            "Epoch 6/10\n",
            "1000/1000 [==============================] - 1s 1ms/step - loss: 5.8488 - acc: 0.0090\n",
            "Epoch 7/10\n",
            "1000/1000 [==============================] - 1s 1ms/step - loss: 5.7929 - acc: 0.0090\n",
            "Epoch 8/10\n",
            "1000/1000 [==============================] - 1s 1ms/step - loss: 5.7346 - acc: 0.0090\n",
            "Epoch 9/10\n",
            "1000/1000 [==============================] - 1s 1ms/step - loss: 5.6708 - acc: 0.0100\n",
            "Epoch 10/10\n",
            "1000/1000 [==============================] - 1s 1ms/step - loss: 5.6035 - acc: 0.0110\n"
          ],
          "name": "stdout"
        },
        {
          "output_type": "execute_result",
          "data": {
            "text/plain": [
              "<keras.callbacks.callbacks.History at 0x7ff1fa052710>"
            ]
          },
          "metadata": {
            "tags": []
          },
          "execution_count": 56
        }
      ]
    },
    {
      "cell_type": "markdown",
      "metadata": {
        "id": "3VJvP1xqAMLz",
        "colab_type": "text"
      },
      "source": [
        "Multi Output Models"
      ]
    },
    {
      "cell_type": "code",
      "metadata": {
        "id": "y508FjknnaiA",
        "colab_type": "code",
        "colab": {
          "base_uri": "https://localhost:8080/",
          "height": 34
        },
        "outputId": "7bd5b0b9-98d8-4300-d9e3-55f96aa77b0d"
      },
      "source": [
        "vocabulary_size = 50000\n",
        "num_income_groups = 10\n",
        "#Designing Model\n",
        "posts_input = Input(shape=(None,), dtype='int32', name='posts')\n",
        "# embedded_posts = layers.Embedding(256, vocabulary_size)(posts_input) \n",
        "embedded_posts = layers.Embedding(vocabulary_size,256)(posts_input)\n",
        "x = layers.Conv1D(128, 5, activation='relu', padding='same')(embedded_posts)\n",
        "x = layers.MaxPooling1D(5)(x)\n",
        "x = layers.Conv1D(256, 5, activation='relu', padding='same')(x)\n",
        "x = layers.Conv1D(256, 5, activation='relu', padding='same')(x)\n",
        "x = layers.MaxPooling1D(5)(x)\n",
        "x = layers.Conv1D(256, 5, activation='relu', padding='same')(x)\n",
        "x = layers.Conv1D(256, 5, activation='relu', padding='same')(x) \n",
        "x = layers.GlobalMaxPooling1D()(x)\n",
        "x = layers.Dense(128, activation='relu')(x) \n",
        "\n",
        "# Note that the output layers are given names.\n",
        "age_prediction = layers.Dense(1, name='age')(x)\n",
        "income_prediction = layers.Dense(num_income_groups, activation='softmax',name='income')(x)\n",
        "gender_prediction = layers.Dense(1, activation='sigmoid', name='gender')(x)\n",
        "model = Model(posts_input,[age_prediction, income_prediction, gender_prediction])\n",
        "\n",
        "print(\"Model is ready!\")"
      ],
      "execution_count": null,
      "outputs": [
        {
          "output_type": "stream",
          "text": [
            "Model is ready!\n"
          ],
          "name": "stdout"
        }
      ]
    },
    {
      "cell_type": "markdown",
      "metadata": {
        "id": "DxLQlLPhHQPr",
        "colab_type": "text"
      },
      "source": [
        "Compilation options of a multi-output model: multiple losses"
      ]
    },
    {
      "cell_type": "code",
      "metadata": {
        "id": "JL8W62HRHRi9",
        "colab_type": "code",
        "colab": {}
      },
      "source": [
        "model.compile(optimizer='rmsprop', loss=['mse', 'categorical_crossentropy', 'binary_crossentropy'])\n",
        "\n",
        "# Equivalent (possible only if you give names to the output layers)\n",
        "model.compile(optimizer='rmsprop',loss={'age': 'mse',\n",
        "                                        'income': 'categorical_crossentropy',\n",
        "                                        'gender': 'binary_crossentropy'})"
      ],
      "execution_count": null,
      "outputs": []
    },
    {
      "cell_type": "markdown",
      "metadata": {
        "id": "UF0Go-LLHU6R",
        "colab_type": "text"
      },
      "source": [
        "Solution to imbalanced loss contributions"
      ]
    },
    {
      "cell_type": "code",
      "metadata": {
        "id": "Wc6kfNp_HYHA",
        "colab_type": "code",
        "colab": {}
      },
      "source": [
        "# Equivalent (possible only if you give names to the output layers)\n",
        "model.compile(optimizer='rmsprop',\n",
        "              loss={'age': 'mse','income': 'categorical_crossentropy','gender': 'binary_crossentropy'},\n",
        "              loss_weights={'age': 0.25,\n",
        "                            'income': 1.,\n",
        "                            'gender': 10.})"
      ],
      "execution_count": null,
      "outputs": []
    },
    {
      "cell_type": "code",
      "metadata": {
        "id": "1LdLy76HCje0",
        "colab_type": "code",
        "colab": {
          "base_uri": "https://localhost:8080/",
          "height": 1000
        },
        "outputId": "b7caf0a8-6859-4a9b-a708-a8238b49bf04"
      },
      "source": [
        "model.summary()\n",
        "\n",
        "from IPython.display import SVG\n",
        "from keras.utils.vis_utils import model_to_dot\n",
        "\n",
        "SVG(model_to_dot(model,show_shapes=True).create(prog='dot', format='svg'))"
      ],
      "execution_count": null,
      "outputs": [
        {
          "output_type": "stream",
          "text": [
            "Model: \"model_10\"\n",
            "__________________________________________________________________________________________________\n",
            "Layer (type)                    Output Shape         Param #     Connected to                     \n",
            "==================================================================================================\n",
            "posts (InputLayer)              (None, None)         0                                            \n",
            "__________________________________________________________________________________________________\n",
            "embedding_13 (Embedding)        (None, None, 256)    12800000    posts[0][0]                      \n",
            "__________________________________________________________________________________________________\n",
            "conv1d_21 (Conv1D)              (None, None, 128)    163968      embedding_13[0][0]               \n",
            "__________________________________________________________________________________________________\n",
            "max_pooling1d_9 (MaxPooling1D)  (None, None, 128)    0           conv1d_21[0][0]                  \n",
            "__________________________________________________________________________________________________\n",
            "conv1d_22 (Conv1D)              (None, None, 256)    164096      max_pooling1d_9[0][0]            \n",
            "__________________________________________________________________________________________________\n",
            "conv1d_23 (Conv1D)              (None, None, 256)    327936      conv1d_22[0][0]                  \n",
            "__________________________________________________________________________________________________\n",
            "max_pooling1d_10 (MaxPooling1D) (None, None, 256)    0           conv1d_23[0][0]                  \n",
            "__________________________________________________________________________________________________\n",
            "conv1d_24 (Conv1D)              (None, None, 256)    327936      max_pooling1d_10[0][0]           \n",
            "__________________________________________________________________________________________________\n",
            "conv1d_25 (Conv1D)              (None, None, 256)    327936      conv1d_24[0][0]                  \n",
            "__________________________________________________________________________________________________\n",
            "global_max_pooling1d_5 (GlobalM (None, 256)          0           conv1d_25[0][0]                  \n",
            "__________________________________________________________________________________________________\n",
            "dense_12 (Dense)                (None, 128)          32896       global_max_pooling1d_5[0][0]     \n",
            "__________________________________________________________________________________________________\n",
            "age (Dense)                     (None, 1)            129         dense_12[0][0]                   \n",
            "__________________________________________________________________________________________________\n",
            "income (Dense)                  (None, 10)           1290        dense_12[0][0]                   \n",
            "__________________________________________________________________________________________________\n",
            "gender (Dense)                  (None, 1)            129         dense_12[0][0]                   \n",
            "==================================================================================================\n",
            "Total params: 14,146,316\n",
            "Trainable params: 14,146,316\n",
            "Non-trainable params: 0\n",
            "__________________________________________________________________________________________________\n"
          ],
          "name": "stdout"
        },
        {
          "output_type": "execute_result",
          "data": {
            "text/plain": [
              "<IPython.core.display.SVG object>"
            ],
            "image/svg+xml": "<svg height=\"1291pt\" viewBox=\"0.00 0.00 757.50 968.00\" width=\"1010pt\" xmlns=\"http://www.w3.org/2000/svg\" xmlns:xlink=\"http://www.w3.org/1999/xlink\">\n<g class=\"graph\" id=\"graph0\" transform=\"scale(1.3333 1.3333) rotate(0) translate(4 964)\">\n<title>G</title>\n<polygon fill=\"#ffffff\" points=\"-4,4 -4,-964 753.5,-964 753.5,4 -4,4\" stroke=\"transparent\"/>\n<!-- 140677248746888 -->\n<g class=\"node\" id=\"node1\">\n<title>140677248746888</title>\n<polygon fill=\"none\" points=\"229.5,-913.5 229.5,-959.5 500.5,-959.5 500.5,-913.5 229.5,-913.5\" stroke=\"#000000\"/>\n<text fill=\"#000000\" font-family=\"Times,serif\" font-size=\"14.00\" text-anchor=\"middle\" x=\"288\" y=\"-932.8\">posts: InputLayer</text>\n<polyline fill=\"none\" points=\"346.5,-913.5 346.5,-959.5 \" stroke=\"#000000\"/>\n<text fill=\"#000000\" font-family=\"Times,serif\" font-size=\"14.00\" text-anchor=\"middle\" x=\"375.5\" y=\"-944.3\">input:</text>\n<polyline fill=\"none\" points=\"346.5,-936.5 404.5,-936.5 \" stroke=\"#000000\"/>\n<text fill=\"#000000\" font-family=\"Times,serif\" font-size=\"14.00\" text-anchor=\"middle\" x=\"375.5\" y=\"-921.3\">output:</text>\n<polyline fill=\"none\" points=\"404.5,-913.5 404.5,-959.5 \" stroke=\"#000000\"/>\n<text fill=\"#000000\" font-family=\"Times,serif\" font-size=\"14.00\" text-anchor=\"middle\" x=\"452.5\" y=\"-944.3\">(None, None)</text>\n<polyline fill=\"none\" points=\"404.5,-936.5 500.5,-936.5 \" stroke=\"#000000\"/>\n<text fill=\"#000000\" font-family=\"Times,serif\" font-size=\"14.00\" text-anchor=\"middle\" x=\"452.5\" y=\"-921.3\">(None, None)</text>\n</g>\n<!-- 140677248747000 -->\n<g class=\"node\" id=\"node2\">\n<title>140677248747000</title>\n<polygon fill=\"none\" points=\"183.5,-830.5 183.5,-876.5 546.5,-876.5 546.5,-830.5 183.5,-830.5\" stroke=\"#000000\"/>\n<text fill=\"#000000\" font-family=\"Times,serif\" font-size=\"14.00\" text-anchor=\"middle\" x=\"273\" y=\"-849.8\">embedding_13: Embedding</text>\n<polyline fill=\"none\" points=\"362.5,-830.5 362.5,-876.5 \" stroke=\"#000000\"/>\n<text fill=\"#000000\" font-family=\"Times,serif\" font-size=\"14.00\" text-anchor=\"middle\" x=\"391.5\" y=\"-861.3\">input:</text>\n<polyline fill=\"none\" points=\"362.5,-853.5 420.5,-853.5 \" stroke=\"#000000\"/>\n<text fill=\"#000000\" font-family=\"Times,serif\" font-size=\"14.00\" text-anchor=\"middle\" x=\"391.5\" y=\"-838.3\">output:</text>\n<polyline fill=\"none\" points=\"420.5,-830.5 420.5,-876.5 \" stroke=\"#000000\"/>\n<text fill=\"#000000\" font-family=\"Times,serif\" font-size=\"14.00\" text-anchor=\"middle\" x=\"483.5\" y=\"-861.3\">(None, None)</text>\n<polyline fill=\"none\" points=\"420.5,-853.5 546.5,-853.5 \" stroke=\"#000000\"/>\n<text fill=\"#000000\" font-family=\"Times,serif\" font-size=\"14.00\" text-anchor=\"middle\" x=\"483.5\" y=\"-838.3\">(None, None, 256)</text>\n</g>\n<!-- 140677248746888&#45;&gt;140677248747000 -->\n<g class=\"edge\" id=\"edge1\">\n<title>140677248746888-&gt;140677248747000</title>\n<path d=\"M365,-913.3799C365,-905.1745 365,-895.7679 365,-886.8786\" fill=\"none\" stroke=\"#000000\"/>\n<polygon fill=\"#000000\" points=\"368.5001,-886.784 365,-876.784 361.5001,-886.784 368.5001,-886.784\" stroke=\"#000000\"/>\n</g>\n<!-- 140677248747056 -->\n<g class=\"node\" id=\"node3\">\n<title>140677248747056</title>\n<polygon fill=\"none\" points=\"203,-747.5 203,-793.5 527,-793.5 527,-747.5 203,-747.5\" stroke=\"#000000\"/>\n<text fill=\"#000000\" font-family=\"Times,serif\" font-size=\"14.00\" text-anchor=\"middle\" x=\"273\" y=\"-766.8\">conv1d_21: Conv1D</text>\n<polyline fill=\"none\" points=\"343,-747.5 343,-793.5 \" stroke=\"#000000\"/>\n<text fill=\"#000000\" font-family=\"Times,serif\" font-size=\"14.00\" text-anchor=\"middle\" x=\"372\" y=\"-778.3\">input:</text>\n<polyline fill=\"none\" points=\"343,-770.5 401,-770.5 \" stroke=\"#000000\"/>\n<text fill=\"#000000\" font-family=\"Times,serif\" font-size=\"14.00\" text-anchor=\"middle\" x=\"372\" y=\"-755.3\">output:</text>\n<polyline fill=\"none\" points=\"401,-747.5 401,-793.5 \" stroke=\"#000000\"/>\n<text fill=\"#000000\" font-family=\"Times,serif\" font-size=\"14.00\" text-anchor=\"middle\" x=\"464\" y=\"-778.3\">(None, None, 256)</text>\n<polyline fill=\"none\" points=\"401,-770.5 527,-770.5 \" stroke=\"#000000\"/>\n<text fill=\"#000000\" font-family=\"Times,serif\" font-size=\"14.00\" text-anchor=\"middle\" x=\"464\" y=\"-755.3\">(None, None, 128)</text>\n</g>\n<!-- 140677248747000&#45;&gt;140677248747056 -->\n<g class=\"edge\" id=\"edge2\">\n<title>140677248747000-&gt;140677248747056</title>\n<path d=\"M365,-830.3799C365,-822.1745 365,-812.7679 365,-803.8786\" fill=\"none\" stroke=\"#000000\"/>\n<polygon fill=\"#000000\" points=\"368.5001,-803.784 365,-793.784 361.5001,-803.784 368.5001,-803.784\" stroke=\"#000000\"/>\n</g>\n<!-- 140677248747616 -->\n<g class=\"node\" id=\"node4\">\n<title>140677248747616</title>\n<polygon fill=\"none\" points=\"162.5,-664.5 162.5,-710.5 567.5,-710.5 567.5,-664.5 162.5,-664.5\" stroke=\"#000000\"/>\n<text fill=\"#000000\" font-family=\"Times,serif\" font-size=\"14.00\" text-anchor=\"middle\" x=\"273\" y=\"-683.8\">max_pooling1d_9: MaxPooling1D</text>\n<polyline fill=\"none\" points=\"383.5,-664.5 383.5,-710.5 \" stroke=\"#000000\"/>\n<text fill=\"#000000\" font-family=\"Times,serif\" font-size=\"14.00\" text-anchor=\"middle\" x=\"412.5\" y=\"-695.3\">input:</text>\n<polyline fill=\"none\" points=\"383.5,-687.5 441.5,-687.5 \" stroke=\"#000000\"/>\n<text fill=\"#000000\" font-family=\"Times,serif\" font-size=\"14.00\" text-anchor=\"middle\" x=\"412.5\" y=\"-672.3\">output:</text>\n<polyline fill=\"none\" points=\"441.5,-664.5 441.5,-710.5 \" stroke=\"#000000\"/>\n<text fill=\"#000000\" font-family=\"Times,serif\" font-size=\"14.00\" text-anchor=\"middle\" x=\"504.5\" y=\"-695.3\">(None, None, 128)</text>\n<polyline fill=\"none\" points=\"441.5,-687.5 567.5,-687.5 \" stroke=\"#000000\"/>\n<text fill=\"#000000\" font-family=\"Times,serif\" font-size=\"14.00\" text-anchor=\"middle\" x=\"504.5\" y=\"-672.3\">(None, None, 128)</text>\n</g>\n<!-- 140677248747056&#45;&gt;140677248747616 -->\n<g class=\"edge\" id=\"edge3\">\n<title>140677248747056-&gt;140677248747616</title>\n<path d=\"M365,-747.3799C365,-739.1745 365,-729.7679 365,-720.8786\" fill=\"none\" stroke=\"#000000\"/>\n<polygon fill=\"#000000\" points=\"368.5001,-720.784 365,-710.784 361.5001,-720.784 368.5001,-720.784\" stroke=\"#000000\"/>\n</g>\n<!-- 140677248747952 -->\n<g class=\"node\" id=\"node5\">\n<title>140677248747952</title>\n<polygon fill=\"none\" points=\"203,-581.5 203,-627.5 527,-627.5 527,-581.5 203,-581.5\" stroke=\"#000000\"/>\n<text fill=\"#000000\" font-family=\"Times,serif\" font-size=\"14.00\" text-anchor=\"middle\" x=\"273\" y=\"-600.8\">conv1d_22: Conv1D</text>\n<polyline fill=\"none\" points=\"343,-581.5 343,-627.5 \" stroke=\"#000000\"/>\n<text fill=\"#000000\" font-family=\"Times,serif\" font-size=\"14.00\" text-anchor=\"middle\" x=\"372\" y=\"-612.3\">input:</text>\n<polyline fill=\"none\" points=\"343,-604.5 401,-604.5 \" stroke=\"#000000\"/>\n<text fill=\"#000000\" font-family=\"Times,serif\" font-size=\"14.00\" text-anchor=\"middle\" x=\"372\" y=\"-589.3\">output:</text>\n<polyline fill=\"none\" points=\"401,-581.5 401,-627.5 \" stroke=\"#000000\"/>\n<text fill=\"#000000\" font-family=\"Times,serif\" font-size=\"14.00\" text-anchor=\"middle\" x=\"464\" y=\"-612.3\">(None, None, 128)</text>\n<polyline fill=\"none\" points=\"401,-604.5 527,-604.5 \" stroke=\"#000000\"/>\n<text fill=\"#000000\" font-family=\"Times,serif\" font-size=\"14.00\" text-anchor=\"middle\" x=\"464\" y=\"-589.3\">(None, None, 256)</text>\n</g>\n<!-- 140677248747616&#45;&gt;140677248747952 -->\n<g class=\"edge\" id=\"edge4\">\n<title>140677248747616-&gt;140677248747952</title>\n<path d=\"M365,-664.3799C365,-656.1745 365,-646.7679 365,-637.8786\" fill=\"none\" stroke=\"#000000\"/>\n<polygon fill=\"#000000\" points=\"368.5001,-637.784 365,-627.784 361.5001,-637.784 368.5001,-637.784\" stroke=\"#000000\"/>\n</g>\n<!-- 140677248747672 -->\n<g class=\"node\" id=\"node6\">\n<title>140677248747672</title>\n<polygon fill=\"none\" points=\"203,-498.5 203,-544.5 527,-544.5 527,-498.5 203,-498.5\" stroke=\"#000000\"/>\n<text fill=\"#000000\" font-family=\"Times,serif\" font-size=\"14.00\" text-anchor=\"middle\" x=\"273\" y=\"-517.8\">conv1d_23: Conv1D</text>\n<polyline fill=\"none\" points=\"343,-498.5 343,-544.5 \" stroke=\"#000000\"/>\n<text fill=\"#000000\" font-family=\"Times,serif\" font-size=\"14.00\" text-anchor=\"middle\" x=\"372\" y=\"-529.3\">input:</text>\n<polyline fill=\"none\" points=\"343,-521.5 401,-521.5 \" stroke=\"#000000\"/>\n<text fill=\"#000000\" font-family=\"Times,serif\" font-size=\"14.00\" text-anchor=\"middle\" x=\"372\" y=\"-506.3\">output:</text>\n<polyline fill=\"none\" points=\"401,-498.5 401,-544.5 \" stroke=\"#000000\"/>\n<text fill=\"#000000\" font-family=\"Times,serif\" font-size=\"14.00\" text-anchor=\"middle\" x=\"464\" y=\"-529.3\">(None, None, 256)</text>\n<polyline fill=\"none\" points=\"401,-521.5 527,-521.5 \" stroke=\"#000000\"/>\n<text fill=\"#000000\" font-family=\"Times,serif\" font-size=\"14.00\" text-anchor=\"middle\" x=\"464\" y=\"-506.3\">(None, None, 256)</text>\n</g>\n<!-- 140677248747952&#45;&gt;140677248747672 -->\n<g class=\"edge\" id=\"edge5\">\n<title>140677248747952-&gt;140677248747672</title>\n<path d=\"M365,-581.3799C365,-573.1745 365,-563.7679 365,-554.8786\" fill=\"none\" stroke=\"#000000\"/>\n<polygon fill=\"#000000\" points=\"368.5001,-554.784 365,-544.784 361.5001,-554.784 368.5001,-554.784\" stroke=\"#000000\"/>\n</g>\n<!-- 140677251559608 -->\n<g class=\"node\" id=\"node7\">\n<title>140677251559608</title>\n<polygon fill=\"none\" points=\"158.5,-415.5 158.5,-461.5 571.5,-461.5 571.5,-415.5 158.5,-415.5\" stroke=\"#000000\"/>\n<text fill=\"#000000\" font-family=\"Times,serif\" font-size=\"14.00\" text-anchor=\"middle\" x=\"273\" y=\"-434.8\">max_pooling1d_10: MaxPooling1D</text>\n<polyline fill=\"none\" points=\"387.5,-415.5 387.5,-461.5 \" stroke=\"#000000\"/>\n<text fill=\"#000000\" font-family=\"Times,serif\" font-size=\"14.00\" text-anchor=\"middle\" x=\"416.5\" y=\"-446.3\">input:</text>\n<polyline fill=\"none\" points=\"387.5,-438.5 445.5,-438.5 \" stroke=\"#000000\"/>\n<text fill=\"#000000\" font-family=\"Times,serif\" font-size=\"14.00\" text-anchor=\"middle\" x=\"416.5\" y=\"-423.3\">output:</text>\n<polyline fill=\"none\" points=\"445.5,-415.5 445.5,-461.5 \" stroke=\"#000000\"/>\n<text fill=\"#000000\" font-family=\"Times,serif\" font-size=\"14.00\" text-anchor=\"middle\" x=\"508.5\" y=\"-446.3\">(None, None, 256)</text>\n<polyline fill=\"none\" points=\"445.5,-438.5 571.5,-438.5 \" stroke=\"#000000\"/>\n<text fill=\"#000000\" font-family=\"Times,serif\" font-size=\"14.00\" text-anchor=\"middle\" x=\"508.5\" y=\"-423.3\">(None, None, 256)</text>\n</g>\n<!-- 140677248747672&#45;&gt;140677251559608 -->\n<g class=\"edge\" id=\"edge6\">\n<title>140677248747672-&gt;140677251559608</title>\n<path d=\"M365,-498.3799C365,-490.1745 365,-480.7679 365,-471.8786\" fill=\"none\" stroke=\"#000000\"/>\n<polygon fill=\"#000000\" points=\"368.5001,-471.784 365,-461.784 361.5001,-471.784 368.5001,-471.784\" stroke=\"#000000\"/>\n</g>\n<!-- 140677269396840 -->\n<g class=\"node\" id=\"node8\">\n<title>140677269396840</title>\n<polygon fill=\"none\" points=\"203,-332.5 203,-378.5 527,-378.5 527,-332.5 203,-332.5\" stroke=\"#000000\"/>\n<text fill=\"#000000\" font-family=\"Times,serif\" font-size=\"14.00\" text-anchor=\"middle\" x=\"273\" y=\"-351.8\">conv1d_24: Conv1D</text>\n<polyline fill=\"none\" points=\"343,-332.5 343,-378.5 \" stroke=\"#000000\"/>\n<text fill=\"#000000\" font-family=\"Times,serif\" font-size=\"14.00\" text-anchor=\"middle\" x=\"372\" y=\"-363.3\">input:</text>\n<polyline fill=\"none\" points=\"343,-355.5 401,-355.5 \" stroke=\"#000000\"/>\n<text fill=\"#000000\" font-family=\"Times,serif\" font-size=\"14.00\" text-anchor=\"middle\" x=\"372\" y=\"-340.3\">output:</text>\n<polyline fill=\"none\" points=\"401,-332.5 401,-378.5 \" stroke=\"#000000\"/>\n<text fill=\"#000000\" font-family=\"Times,serif\" font-size=\"14.00\" text-anchor=\"middle\" x=\"464\" y=\"-363.3\">(None, None, 256)</text>\n<polyline fill=\"none\" points=\"401,-355.5 527,-355.5 \" stroke=\"#000000\"/>\n<text fill=\"#000000\" font-family=\"Times,serif\" font-size=\"14.00\" text-anchor=\"middle\" x=\"464\" y=\"-340.3\">(None, None, 256)</text>\n</g>\n<!-- 140677251559608&#45;&gt;140677269396840 -->\n<g class=\"edge\" id=\"edge7\">\n<title>140677251559608-&gt;140677269396840</title>\n<path d=\"M365,-415.3799C365,-407.1745 365,-397.7679 365,-388.8786\" fill=\"none\" stroke=\"#000000\"/>\n<polygon fill=\"#000000\" points=\"368.5001,-388.784 365,-378.784 361.5001,-388.784 368.5001,-388.784\" stroke=\"#000000\"/>\n</g>\n<!-- 140677269396056 -->\n<g class=\"node\" id=\"node9\">\n<title>140677269396056</title>\n<polygon fill=\"none\" points=\"203,-249.5 203,-295.5 527,-295.5 527,-249.5 203,-249.5\" stroke=\"#000000\"/>\n<text fill=\"#000000\" font-family=\"Times,serif\" font-size=\"14.00\" text-anchor=\"middle\" x=\"273\" y=\"-268.8\">conv1d_25: Conv1D</text>\n<polyline fill=\"none\" points=\"343,-249.5 343,-295.5 \" stroke=\"#000000\"/>\n<text fill=\"#000000\" font-family=\"Times,serif\" font-size=\"14.00\" text-anchor=\"middle\" x=\"372\" y=\"-280.3\">input:</text>\n<polyline fill=\"none\" points=\"343,-272.5 401,-272.5 \" stroke=\"#000000\"/>\n<text fill=\"#000000\" font-family=\"Times,serif\" font-size=\"14.00\" text-anchor=\"middle\" x=\"372\" y=\"-257.3\">output:</text>\n<polyline fill=\"none\" points=\"401,-249.5 401,-295.5 \" stroke=\"#000000\"/>\n<text fill=\"#000000\" font-family=\"Times,serif\" font-size=\"14.00\" text-anchor=\"middle\" x=\"464\" y=\"-280.3\">(None, None, 256)</text>\n<polyline fill=\"none\" points=\"401,-272.5 527,-272.5 \" stroke=\"#000000\"/>\n<text fill=\"#000000\" font-family=\"Times,serif\" font-size=\"14.00\" text-anchor=\"middle\" x=\"464\" y=\"-257.3\">(None, None, 256)</text>\n</g>\n<!-- 140677269396840&#45;&gt;140677269396056 -->\n<g class=\"edge\" id=\"edge8\">\n<title>140677269396840-&gt;140677269396056</title>\n<path d=\"M365,-332.3799C365,-324.1745 365,-314.7679 365,-305.8786\" fill=\"none\" stroke=\"#000000\"/>\n<polygon fill=\"#000000\" points=\"368.5001,-305.784 365,-295.784 361.5001,-305.784 368.5001,-305.784\" stroke=\"#000000\"/>\n</g>\n<!-- 140677257933152 -->\n<g class=\"node\" id=\"node10\">\n<title>140677257933152</title>\n<polygon fill=\"none\" points=\"121,-166.5 121,-212.5 609,-212.5 609,-166.5 121,-166.5\" stroke=\"#000000\"/>\n<text fill=\"#000000\" font-family=\"Times,serif\" font-size=\"14.00\" text-anchor=\"middle\" x=\"273\" y=\"-185.8\">global_max_pooling1d_5: GlobalMaxPooling1D</text>\n<polyline fill=\"none\" points=\"425,-166.5 425,-212.5 \" stroke=\"#000000\"/>\n<text fill=\"#000000\" font-family=\"Times,serif\" font-size=\"14.00\" text-anchor=\"middle\" x=\"454\" y=\"-197.3\">input:</text>\n<polyline fill=\"none\" points=\"425,-189.5 483,-189.5 \" stroke=\"#000000\"/>\n<text fill=\"#000000\" font-family=\"Times,serif\" font-size=\"14.00\" text-anchor=\"middle\" x=\"454\" y=\"-174.3\">output:</text>\n<polyline fill=\"none\" points=\"483,-166.5 483,-212.5 \" stroke=\"#000000\"/>\n<text fill=\"#000000\" font-family=\"Times,serif\" font-size=\"14.00\" text-anchor=\"middle\" x=\"546\" y=\"-197.3\">(None, None, 256)</text>\n<polyline fill=\"none\" points=\"483,-189.5 609,-189.5 \" stroke=\"#000000\"/>\n<text fill=\"#000000\" font-family=\"Times,serif\" font-size=\"14.00\" text-anchor=\"middle\" x=\"546\" y=\"-174.3\">(None, 256)</text>\n</g>\n<!-- 140677269396056&#45;&gt;140677257933152 -->\n<g class=\"edge\" id=\"edge9\">\n<title>140677269396056-&gt;140677257933152</title>\n<path d=\"M365,-249.3799C365,-241.1745 365,-231.7679 365,-222.8786\" fill=\"none\" stroke=\"#000000\"/>\n<polygon fill=\"#000000\" points=\"368.5001,-222.784 365,-212.784 361.5001,-222.784 368.5001,-222.784\" stroke=\"#000000\"/>\n</g>\n<!-- 140677252254296 -->\n<g class=\"node\" id=\"node11\">\n<title>140677252254296</title>\n<polygon fill=\"none\" points=\"235.5,-83.5 235.5,-129.5 494.5,-129.5 494.5,-83.5 235.5,-83.5\" stroke=\"#000000\"/>\n<text fill=\"#000000\" font-family=\"Times,serif\" font-size=\"14.00\" text-anchor=\"middle\" x=\"292.5\" y=\"-102.8\">dense_12: Dense</text>\n<polyline fill=\"none\" points=\"349.5,-83.5 349.5,-129.5 \" stroke=\"#000000\"/>\n<text fill=\"#000000\" font-family=\"Times,serif\" font-size=\"14.00\" text-anchor=\"middle\" x=\"378.5\" y=\"-114.3\">input:</text>\n<polyline fill=\"none\" points=\"349.5,-106.5 407.5,-106.5 \" stroke=\"#000000\"/>\n<text fill=\"#000000\" font-family=\"Times,serif\" font-size=\"14.00\" text-anchor=\"middle\" x=\"378.5\" y=\"-91.3\">output:</text>\n<polyline fill=\"none\" points=\"407.5,-83.5 407.5,-129.5 \" stroke=\"#000000\"/>\n<text fill=\"#000000\" font-family=\"Times,serif\" font-size=\"14.00\" text-anchor=\"middle\" x=\"451\" y=\"-114.3\">(None, 256)</text>\n<polyline fill=\"none\" points=\"407.5,-106.5 494.5,-106.5 \" stroke=\"#000000\"/>\n<text fill=\"#000000\" font-family=\"Times,serif\" font-size=\"14.00\" text-anchor=\"middle\" x=\"451\" y=\"-91.3\">(None, 128)</text>\n</g>\n<!-- 140677257933152&#45;&gt;140677252254296 -->\n<g class=\"edge\" id=\"edge10\">\n<title>140677257933152-&gt;140677252254296</title>\n<path d=\"M365,-166.3799C365,-158.1745 365,-148.7679 365,-139.8786\" fill=\"none\" stroke=\"#000000\"/>\n<polygon fill=\"#000000\" points=\"368.5001,-139.784 365,-129.784 361.5001,-139.784 368.5001,-139.784\" stroke=\"#000000\"/>\n</g>\n<!-- 140677252253792 -->\n<g class=\"node\" id=\"node12\">\n<title>140677252253792</title>\n<polygon fill=\"none\" points=\"0,-.5 0,-46.5 224,-46.5 224,-.5 0,-.5\" stroke=\"#000000\"/>\n<text fill=\"#000000\" font-family=\"Times,serif\" font-size=\"14.00\" text-anchor=\"middle\" x=\"39.5\" y=\"-19.8\">age: Dense</text>\n<polyline fill=\"none\" points=\"79,-.5 79,-46.5 \" stroke=\"#000000\"/>\n<text fill=\"#000000\" font-family=\"Times,serif\" font-size=\"14.00\" text-anchor=\"middle\" x=\"108\" y=\"-31.3\">input:</text>\n<polyline fill=\"none\" points=\"79,-23.5 137,-23.5 \" stroke=\"#000000\"/>\n<text fill=\"#000000\" font-family=\"Times,serif\" font-size=\"14.00\" text-anchor=\"middle\" x=\"108\" y=\"-8.3\">output:</text>\n<polyline fill=\"none\" points=\"137,-.5 137,-46.5 \" stroke=\"#000000\"/>\n<text fill=\"#000000\" font-family=\"Times,serif\" font-size=\"14.00\" text-anchor=\"middle\" x=\"180.5\" y=\"-31.3\">(None, 128)</text>\n<polyline fill=\"none\" points=\"137,-23.5 224,-23.5 \" stroke=\"#000000\"/>\n<text fill=\"#000000\" font-family=\"Times,serif\" font-size=\"14.00\" text-anchor=\"middle\" x=\"180.5\" y=\"-8.3\">(None, 1)</text>\n</g>\n<!-- 140677252254296&#45;&gt;140677252253792 -->\n<g class=\"edge\" id=\"edge11\">\n<title>140677252254296-&gt;140677252253792</title>\n<path d=\"M294.8614,-83.4901C262.9174,-73.0105 224.9463,-60.5535 191.9051,-49.7139\" fill=\"none\" stroke=\"#000000\"/>\n<polygon fill=\"#000000\" points=\"192.8679,-46.3463 182.2751,-46.5547 190.6858,-52.9975 192.8679,-46.3463\" stroke=\"#000000\"/>\n</g>\n<!-- 140677252503984 -->\n<g class=\"node\" id=\"node13\">\n<title>140677252503984</title>\n<polygon fill=\"none\" points=\"242,-.5 242,-46.5 488,-46.5 488,-.5 242,-.5\" stroke=\"#000000\"/>\n<text fill=\"#000000\" font-family=\"Times,serif\" font-size=\"14.00\" text-anchor=\"middle\" x=\"292.5\" y=\"-19.8\">income: Dense</text>\n<polyline fill=\"none\" points=\"343,-.5 343,-46.5 \" stroke=\"#000000\"/>\n<text fill=\"#000000\" font-family=\"Times,serif\" font-size=\"14.00\" text-anchor=\"middle\" x=\"372\" y=\"-31.3\">input:</text>\n<polyline fill=\"none\" points=\"343,-23.5 401,-23.5 \" stroke=\"#000000\"/>\n<text fill=\"#000000\" font-family=\"Times,serif\" font-size=\"14.00\" text-anchor=\"middle\" x=\"372\" y=\"-8.3\">output:</text>\n<polyline fill=\"none\" points=\"401,-.5 401,-46.5 \" stroke=\"#000000\"/>\n<text fill=\"#000000\" font-family=\"Times,serif\" font-size=\"14.00\" text-anchor=\"middle\" x=\"444.5\" y=\"-31.3\">(None, 128)</text>\n<polyline fill=\"none\" points=\"401,-23.5 488,-23.5 \" stroke=\"#000000\"/>\n<text fill=\"#000000\" font-family=\"Times,serif\" font-size=\"14.00\" text-anchor=\"middle\" x=\"444.5\" y=\"-8.3\">(None, 10)</text>\n</g>\n<!-- 140677252254296&#45;&gt;140677252503984 -->\n<g class=\"edge\" id=\"edge12\">\n<title>140677252254296-&gt;140677252503984</title>\n<path d=\"M365,-83.3799C365,-75.1745 365,-65.7679 365,-56.8786\" fill=\"none\" stroke=\"#000000\"/>\n<polygon fill=\"#000000\" points=\"368.5001,-56.784 365,-46.784 361.5001,-56.784 368.5001,-56.784\" stroke=\"#000000\"/>\n</g>\n<!-- 140677255296392 -->\n<g class=\"node\" id=\"node14\">\n<title>140677255296392</title>\n<polygon fill=\"none\" points=\"506.5,-.5 506.5,-46.5 749.5,-46.5 749.5,-.5 506.5,-.5\" stroke=\"#000000\"/>\n<text fill=\"#000000\" font-family=\"Times,serif\" font-size=\"14.00\" text-anchor=\"middle\" x=\"555.5\" y=\"-19.8\">gender: Dense</text>\n<polyline fill=\"none\" points=\"604.5,-.5 604.5,-46.5 \" stroke=\"#000000\"/>\n<text fill=\"#000000\" font-family=\"Times,serif\" font-size=\"14.00\" text-anchor=\"middle\" x=\"633.5\" y=\"-31.3\">input:</text>\n<polyline fill=\"none\" points=\"604.5,-23.5 662.5,-23.5 \" stroke=\"#000000\"/>\n<text fill=\"#000000\" font-family=\"Times,serif\" font-size=\"14.00\" text-anchor=\"middle\" x=\"633.5\" y=\"-8.3\">output:</text>\n<polyline fill=\"none\" points=\"662.5,-.5 662.5,-46.5 \" stroke=\"#000000\"/>\n<text fill=\"#000000\" font-family=\"Times,serif\" font-size=\"14.00\" text-anchor=\"middle\" x=\"706\" y=\"-31.3\">(None, 128)</text>\n<polyline fill=\"none\" points=\"662.5,-23.5 749.5,-23.5 \" stroke=\"#000000\"/>\n<text fill=\"#000000\" font-family=\"Times,serif\" font-size=\"14.00\" text-anchor=\"middle\" x=\"706\" y=\"-8.3\">(None, 1)</text>\n</g>\n<!-- 140677252254296&#45;&gt;140677255296392 -->\n<g class=\"edge\" id=\"edge13\">\n<title>140677252254296-&gt;140677255296392</title>\n<path d=\"M437.9109,-83.4901C471.26,-72.9655 510.9284,-60.4466 545.3785,-49.5745\" fill=\"none\" stroke=\"#000000\"/>\n<polygon fill=\"#000000\" points=\"546.4643,-52.902 554.9473,-46.5547 544.3575,-46.2266 546.4643,-52.902\" stroke=\"#000000\"/>\n</g>\n</g>\n</svg>"
          },
          "metadata": {
            "tags": []
          },
          "execution_count": 70
        }
      ]
    },
    {
      "cell_type": "code",
      "metadata": {
        "id": "cTqHRXRKD69b",
        "colab_type": "code",
        "colab": {
          "base_uri": "https://localhost:8080/",
          "height": 463
        },
        "outputId": "afd77c5e-a3f8-419a-a8dd-2f4be2b8099d"
      },
      "source": [
        "#generating data\n",
        "TRACE = False\n",
        "\n",
        "num_samples = 1000 \n",
        "max_length = 100 \n",
        "\n",
        "posts = np.random.randint(1, vocabulary_size, size=(num_samples, max_length))\n",
        "if TRACE:\n",
        "    print(\"*** POSTS ***\")\n",
        "    print(posts.shape)\n",
        "    print(posts[:10])\n",
        "    print()\n",
        "\n",
        "age_targets = np.random.randint(0, 100, size=(num_samples,1))\n",
        "if TRACE:\n",
        "    print(\"*** AGE ***\")\n",
        "    print(age_targets.shape)\n",
        "    print(age_targets[:10])\n",
        "    print()\n",
        "\n",
        "income_targets = np.random.randint(1, num_income_groups, size=(num_samples,1))\n",
        "income_targets = to_categorical(income_targets,num_income_groups)\n",
        "if TRACE:\n",
        "    print(\"*** INCOME ***\")\n",
        "    print(income_targets.shape)\n",
        "    print(income_targets[:10])\n",
        "    print()\n",
        "\n",
        "gender_targets = np.random.randint(0, 2, size=(num_samples,1))\n",
        "if TRACE:\n",
        "    print(\"*** GENDER ***\")\n",
        "    print(gender_targets.shape)\n",
        "    print(gender_targets[:10])\n",
        "    print()\n",
        "\n",
        "print('-'*10, \"First training run with NumPy arrays\", '-'*60)\n",
        "# age_targets, income_targets, and gender_targets are assumed to be Numpy arrays.\n",
        "\n",
        "#fitting model\n",
        "model.fit(posts, [age_targets, income_targets, gender_targets], epochs=10, batch_size=64)\n",
        "\n",
        "print('-'*10,\"Second training run with dictionary and named outputs\",'-'*60)"
      ],
      "execution_count": null,
      "outputs": [
        {
          "output_type": "stream",
          "text": [
            "---------- First training run with NumPy arrays ------------------------------------------------------------\n"
          ],
          "name": "stdout"
        },
        {
          "output_type": "stream",
          "text": [
            "/usr/local/lib/python3.6/dist-packages/tensorflow/python/framework/indexed_slices.py:434: UserWarning: Converting sparse IndexedSlices to a dense Tensor of unknown shape. This may consume a large amount of memory.\n",
            "  \"Converting sparse IndexedSlices to a dense Tensor of unknown shape. \"\n"
          ],
          "name": "stderr"
        },
        {
          "output_type": "stream",
          "text": [
            "Epoch 1/10\n",
            "1000/1000 [==============================] - 9s 9ms/step - loss: 504.8411 - age_loss: 1917.1328 - income_loss: 8.2259 - gender_loss: 1.1619\n",
            "Epoch 2/10\n",
            "1000/1000 [==============================] - 8s 8ms/step - loss: 165.2228 - age_loss: 627.4891 - income_loss: 4.3864 - gender_loss: 0.8376\n",
            "Epoch 3/10\n",
            "1000/1000 [==============================] - 8s 8ms/step - loss: 190.4757 - age_loss: 709.6337 - income_loss: 2.7044 - gender_loss: 0.9027\n",
            "Epoch 4/10\n",
            "1000/1000 [==============================] - 8s 8ms/step - loss: 134.2041 - age_loss: 490.1766 - income_loss: 2.2693 - gender_loss: 0.7927\n",
            "Epoch 5/10\n",
            "1000/1000 [==============================] - 8s 8ms/step - loss: 127.1711 - age_loss: 462.7672 - income_loss: 2.2671 - gender_loss: 0.8266\n",
            "Epoch 6/10\n",
            "1000/1000 [==============================] - 8s 8ms/step - loss: 111.0557 - age_loss: 392.2523 - income_loss: 2.3356 - gender_loss: 0.9390\n",
            "Epoch 7/10\n",
            "1000/1000 [==============================] - 8s 8ms/step - loss: 96.3329 - age_loss: 355.5505 - income_loss: 2.3012 - gender_loss: 1.0017\n",
            "Epoch 8/10\n",
            "1000/1000 [==============================] - 8s 8ms/step - loss: 89.7529 - age_loss: 312.0517 - income_loss: 2.2839 - gender_loss: 0.8813\n",
            "Epoch 9/10\n",
            "1000/1000 [==============================] - 8s 8ms/step - loss: 78.0338 - age_loss: 264.9072 - income_loss: 2.3102 - gender_loss: 0.8710\n",
            "Epoch 10/10\n",
            "1000/1000 [==============================] - 9s 9ms/step - loss: 80.2321 - age_loss: 280.0326 - income_loss: 2.2939 - gender_loss: 0.8161\n",
            "---------- Second training run with dictionary and named outputs ------------------------------------------------------------\n"
          ],
          "name": "stdout"
        }
      ]
    }
  ]
}