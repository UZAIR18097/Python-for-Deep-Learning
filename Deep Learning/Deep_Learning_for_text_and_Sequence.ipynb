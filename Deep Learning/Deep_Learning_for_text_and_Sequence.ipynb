{
  "nbformat": 4,
  "nbformat_minor": 0,
  "metadata": {
    "colab": {
      "name": "Deep Learning for text and Sequence.ipynb",
      "provenance": [],
      "collapsed_sections": []
    },
    "kernelspec": {
      "name": "python3",
      "display_name": "Python 3"
    }
  },
  "cells": [
    {
      "cell_type": "code",
      "metadata": {
        "id": "Wk-9fxxywb1R",
        "colab_type": "code",
        "colab": {}
      },
      "source": [
        "#word encoding\n",
        "import numpy as np\n",
        "samples = ['The cat sat on the mat.', 'The dog ate my homework.']\n",
        "token_index = {}\n",
        "for sample in samples:\n",
        "  for word in sample.split():\n",
        "    if word not in token_index:\n",
        "      token_index[word] = len(token_index) + 1\n",
        "max_length = 10\n",
        "results = np.zeros(shape=(len(samples),max_length,max(token_index.values()) + 1))\n",
        "for i, sample in enumerate(samples):\n",
        "  for j, word in list(enumerate(sample.split()))[:max_length]:\n",
        "    index = token_index.get(word)\n",
        "    results[i, j, index] = 1"
      ],
      "execution_count": null,
      "outputs": []
    },
    {
      "cell_type": "code",
      "metadata": {
        "id": "bRcPVH_mzEf6",
        "colab_type": "code",
        "colab": {
          "base_uri": "https://localhost:8080/",
          "height": 374
        },
        "outputId": "532c6b95-23f8-4f41-da04-ff409ff1fe31"
      },
      "source": [
        "results"
      ],
      "execution_count": null,
      "outputs": [
        {
          "output_type": "execute_result",
          "data": {
            "text/plain": [
              "array([[[0., 1., 0., 0., 0., 0., 0., 0., 0., 0., 0.],\n",
              "        [0., 0., 1., 0., 0., 0., 0., 0., 0., 0., 0.],\n",
              "        [0., 0., 0., 1., 0., 0., 0., 0., 0., 0., 0.],\n",
              "        [0., 0., 0., 0., 1., 0., 0., 0., 0., 0., 0.],\n",
              "        [0., 0., 0., 0., 0., 1., 0., 0., 0., 0., 0.],\n",
              "        [0., 0., 0., 0., 0., 0., 1., 0., 0., 0., 0.],\n",
              "        [0., 0., 0., 0., 0., 0., 0., 0., 0., 0., 0.],\n",
              "        [0., 0., 0., 0., 0., 0., 0., 0., 0., 0., 0.],\n",
              "        [0., 0., 0., 0., 0., 0., 0., 0., 0., 0., 0.],\n",
              "        [0., 0., 0., 0., 0., 0., 0., 0., 0., 0., 0.]],\n",
              "\n",
              "       [[0., 1., 0., 0., 0., 0., 0., 0., 0., 0., 0.],\n",
              "        [0., 0., 0., 0., 0., 0., 0., 1., 0., 0., 0.],\n",
              "        [0., 0., 0., 0., 0., 0., 0., 0., 1., 0., 0.],\n",
              "        [0., 0., 0., 0., 0., 0., 0., 0., 0., 1., 0.],\n",
              "        [0., 0., 0., 0., 0., 0., 0., 0., 0., 0., 1.],\n",
              "        [0., 0., 0., 0., 0., 0., 0., 0., 0., 0., 0.],\n",
              "        [0., 0., 0., 0., 0., 0., 0., 0., 0., 0., 0.],\n",
              "        [0., 0., 0., 0., 0., 0., 0., 0., 0., 0., 0.],\n",
              "        [0., 0., 0., 0., 0., 0., 0., 0., 0., 0., 0.],\n",
              "        [0., 0., 0., 0., 0., 0., 0., 0., 0., 0., 0.]]])"
            ]
          },
          "metadata": {
            "tags": []
          },
          "execution_count": 2
        }
      ]
    },
    {
      "cell_type": "code",
      "metadata": {
        "id": "0Db2G2rkzQlN",
        "colab_type": "code",
        "colab": {}
      },
      "source": [
        "#character level encoding\n",
        "import string\n",
        "samples = ['The cat sat on the mat.', 'The dog ate my homework.']\n",
        "characters = string.printable\n",
        "token_index = dict(zip(range(1, len(characters) + 1), characters))\n",
        "max_length = 50\n",
        "results = np.zeros((len(samples), max_length, max(token_index.keys()) + 1))\n",
        "for i, sample in enumerate(samples):\n",
        "  for j, character in enumerate(sample):\n",
        "    index = token_index.get(character)\n",
        "    results[i, j, index] = 1"
      ],
      "execution_count": null,
      "outputs": []
    },
    {
      "cell_type": "code",
      "metadata": {
        "id": "UqVSZxJ-z7W8",
        "colab_type": "code",
        "colab": {
          "base_uri": "https://localhost:8080/",
          "height": 272
        },
        "outputId": "71bd29ec-ed9a-4339-bde7-b4dfce6e6dff"
      },
      "source": [
        "results"
      ],
      "execution_count": null,
      "outputs": [
        {
          "output_type": "execute_result",
          "data": {
            "text/plain": [
              "array([[[1., 1., 1., ..., 1., 1., 1.],\n",
              "        [1., 1., 1., ..., 1., 1., 1.],\n",
              "        [1., 1., 1., ..., 1., 1., 1.],\n",
              "        ...,\n",
              "        [0., 0., 0., ..., 0., 0., 0.],\n",
              "        [0., 0., 0., ..., 0., 0., 0.],\n",
              "        [0., 0., 0., ..., 0., 0., 0.]],\n",
              "\n",
              "       [[1., 1., 1., ..., 1., 1., 1.],\n",
              "        [1., 1., 1., ..., 1., 1., 1.],\n",
              "        [1., 1., 1., ..., 1., 1., 1.],\n",
              "        ...,\n",
              "        [0., 0., 0., ..., 0., 0., 0.],\n",
              "        [0., 0., 0., ..., 0., 0., 0.],\n",
              "        [0., 0., 0., ..., 0., 0., 0.]]])"
            ]
          },
          "metadata": {
            "tags": []
          },
          "execution_count": 4
        }
      ]
    },
    {
      "cell_type": "code",
      "metadata": {
        "id": "O057ICxyz8lZ",
        "colab_type": "code",
        "colab": {
          "base_uri": "https://localhost:8080/",
          "height": 51
        },
        "outputId": "549cd336-c147-4138-d51a-ef4b61db4147"
      },
      "source": [
        "#Using Keras for word-level one-hot encoding\n",
        "from keras.preprocessing.text import Tokenizer\n",
        "samples = ['The cat sat on the mat.', 'The dog ate my homework.']\n",
        "tokenizer = Tokenizer(num_words=1000) #Creates a tokenizer, configured to only take into account the 1,000 most common words\n",
        "tokenizer.fit_on_texts(samples)\n",
        "sequences = tokenizer.texts_to_sequences(samples) #Turns strings into lists of integer indices\n",
        "one_hot_results = tokenizer.texts_to_matrix(samples, mode='binary')\n",
        "word_index = tokenizer.word_index\n",
        "print('Found %s unique tokens.' % len(word_index))"
      ],
      "execution_count": null,
      "outputs": [
        {
          "output_type": "stream",
          "text": [
            "Using TensorFlow backend.\n"
          ],
          "name": "stderr"
        },
        {
          "output_type": "stream",
          "text": [
            "Found 9 unique tokens.\n"
          ],
          "name": "stdout"
        }
      ]
    },
    {
      "cell_type": "code",
      "metadata": {
        "id": "XsMm5LHy7dg0",
        "colab_type": "code",
        "colab": {
          "base_uri": "https://localhost:8080/",
          "height": 34
        },
        "outputId": "4f25fe6c-b815-4e67-fbc9-4e3e4389549d"
      },
      "source": [
        "sequences"
      ],
      "execution_count": null,
      "outputs": [
        {
          "output_type": "execute_result",
          "data": {
            "text/plain": [
              "[[1, 2, 3, 4, 1, 5], [1, 6, 7, 8, 9]]"
            ]
          },
          "metadata": {
            "tags": []
          },
          "execution_count": 6
        }
      ]
    },
    {
      "cell_type": "code",
      "metadata": {
        "id": "A0US_d_17cPf",
        "colab_type": "code",
        "colab": {
          "base_uri": "https://localhost:8080/",
          "height": 34
        },
        "outputId": "a2380ece-4602-4884-fd3f-0e49aa30f519"
      },
      "source": [
        "len(word_index)"
      ],
      "execution_count": null,
      "outputs": [
        {
          "output_type": "execute_result",
          "data": {
            "text/plain": [
              "9"
            ]
          },
          "metadata": {
            "tags": []
          },
          "execution_count": 7
        }
      ]
    },
    {
      "cell_type": "code",
      "metadata": {
        "id": "G5CQxaSN75yu",
        "colab_type": "code",
        "colab": {
          "base_uri": "https://localhost:8080/",
          "height": 34
        },
        "outputId": "759e9370-d116-4ac1-858f-39ab297cf3e3"
      },
      "source": [
        "#Word-level one-hot encoding with hashing trick (toy example)\n",
        "samples = ['The cat sat on the mat.', 'The dog ate my homework.']\n",
        "dimensionality = 1000  #Stores the words as vectors of size 1,000. If you have close to 1,000 words (or more), you’ll see many hash collisions,which will decrease the accuracy of this encoding method\n",
        "max_length = 10\n",
        "results = np.zeros((len(samples), max_length, dimensionality))\n",
        "for i, sample in enumerate(samples):\n",
        "  for j, word in list(enumerate(sample.split()))[:max_length]:\n",
        "    index = abs(hash(word)) % dimensionality\n",
        "    results[i, j, index] = 1.\n",
        "results.shape"
      ],
      "execution_count": null,
      "outputs": [
        {
          "output_type": "execute_result",
          "data": {
            "text/plain": [
              "(2, 10, 1000)"
            ]
          },
          "metadata": {
            "tags": []
          },
          "execution_count": 8
        }
      ]
    },
    {
      "cell_type": "code",
      "metadata": {
        "id": "PObsgeQW-C2M",
        "colab_type": "code",
        "colab": {}
      },
      "source": [
        "#using word embeddings to reduce dimensionality \n",
        "#learning word embeddings with the embeddeding layer\n",
        "from keras.layers import Embedding\n",
        "embedding_layer = Embedding(1000, 64) #embedding takes two argument:number of possible tokens and dimensionality of the embeddings\n",
        "\n"
      ],
      "execution_count": null,
      "outputs": []
    },
    {
      "cell_type": "markdown",
      "metadata": {
        "id": "0K9rjb_NFPFF",
        "colab_type": "text"
      },
      "source": [
        "Loading IMDB movie data set "
      ]
    },
    {
      "cell_type": "code",
      "metadata": {
        "id": "lESES0K7BOq5",
        "colab_type": "code",
        "colab": {
          "base_uri": "https://localhost:8080/",
          "height": 51
        },
        "outputId": "8895ed01-4233-46c9-8a13-9ba354aa38db"
      },
      "source": [
        "# Loading the IMDB data for use with an Embedding layer\n",
        "from keras.datasets import imdb\n",
        "from keras import preprocessing\n",
        "\n",
        "max_features = 10000 #number of words to be taken as features\n",
        "maxlen = 20 #cut off text after 20 words\n",
        "(x_train, y_train), (x_test, y_test) = imdb.load_data(num_words=max_features) #loading data as list of integers of only 10,000 words\n",
        "x_train = preprocessing.sequence.pad_sequences(x_train, maxlen=maxlen) #converting into 2D tensors where .pad_sequnece would convert all sequences into same length\n",
        "x_test = preprocessing.sequence.pad_sequences(x_test, maxlen=maxlen)"
      ],
      "execution_count": null,
      "outputs": [
        {
          "output_type": "stream",
          "text": [
            "Downloading data from https://s3.amazonaws.com/text-datasets/imdb.npz\n",
            "17465344/17464789 [==============================] - 3s 0us/step\n"
          ],
          "name": "stdout"
        }
      ]
    },
    {
      "cell_type": "code",
      "metadata": {
        "id": "uv9ufIlLGRfv",
        "colab_type": "code",
        "colab": {
          "base_uri": "https://localhost:8080/",
          "height": 136
        },
        "outputId": "5cba8479-516d-4608-8661-13e3f3a76753"
      },
      "source": [
        "x_train"
      ],
      "execution_count": null,
      "outputs": [
        {
          "output_type": "execute_result",
          "data": {
            "text/plain": [
              "array([[  65,   16,   38, ...,   19,  178,   32],\n",
              "       [  23,    4, 1690, ...,   16,  145,   95],\n",
              "       [1352,   13,  191, ...,    7,  129,  113],\n",
              "       ...,\n",
              "       [  11, 1818, 7561, ...,    4, 3586,    2],\n",
              "       [  92,  401,  728, ...,   12,    9,   23],\n",
              "       [ 764,   40,    4, ...,  204,  131,    9]], dtype=int32)"
            ]
          },
          "metadata": {
            "tags": []
          },
          "execution_count": 11
        }
      ]
    },
    {
      "cell_type": "code",
      "metadata": {
        "id": "REUIOpAyGW5j",
        "colab_type": "code",
        "colab": {
          "base_uri": "https://localhost:8080/",
          "height": 255
        },
        "outputId": "63bff000-b438-4490-bf56-572b0cc8bf5d"
      },
      "source": [
        "#Using an Embedding layer and classifier on the IMDB data\n",
        "from keras.models import Sequential\n",
        "from keras.layers import Flatten, Dense\n",
        "model = Sequential()\n",
        "model.add(Embedding(10000,8,input_length=maxlen))\n",
        "model.add(Flatten()) #flattens 3D tensor of embeddings into 2D tensor of shape (samples,maxlength*8)\n",
        "model.add(Dense(1, activation='sigmoid')) #adding the classifier on top\n",
        "model.compile(optimizer='rmsprop', loss='binary_crossentropy', metrics=['acc'])\n",
        "model.summary()"
      ],
      "execution_count": null,
      "outputs": [
        {
          "output_type": "stream",
          "text": [
            "Model: \"sequential_1\"\n",
            "_________________________________________________________________\n",
            "Layer (type)                 Output Shape              Param #   \n",
            "=================================================================\n",
            "embedding_2 (Embedding)      (None, 20, 8)             80000     \n",
            "_________________________________________________________________\n",
            "flatten_1 (Flatten)          (None, 160)               0         \n",
            "_________________________________________________________________\n",
            "dense_1 (Dense)              (None, 1)                 161       \n",
            "=================================================================\n",
            "Total params: 80,161\n",
            "Trainable params: 80,161\n",
            "Non-trainable params: 0\n",
            "_________________________________________________________________\n"
          ],
          "name": "stdout"
        }
      ]
    },
    {
      "cell_type": "code",
      "metadata": {
        "id": "z0M0qZJUNl6-",
        "colab_type": "code",
        "colab": {
          "base_uri": "https://localhost:8080/",
          "height": 428
        },
        "outputId": "e96e1d2d-92bd-42af-bf1d-a810b6abe215"
      },
      "source": [
        "history = model.fit(x_train, y_train,\n",
        "epochs=10,\n",
        "batch_size=32,\n",
        "validation_split=0.2)"
      ],
      "execution_count": null,
      "outputs": [
        {
          "output_type": "stream",
          "text": [
            "/usr/local/lib/python3.6/dist-packages/tensorflow/python/framework/indexed_slices.py:434: UserWarning: Converting sparse IndexedSlices to a dense Tensor of unknown shape. This may consume a large amount of memory.\n",
            "  \"Converting sparse IndexedSlices to a dense Tensor of unknown shape. \"\n"
          ],
          "name": "stderr"
        },
        {
          "output_type": "stream",
          "text": [
            "Train on 20000 samples, validate on 5000 samples\n",
            "Epoch 1/10\n",
            "20000/20000 [==============================] - 1s 73us/step - loss: 0.6661 - acc: 0.6456 - val_loss: 0.6161 - val_acc: 0.6998\n",
            "Epoch 2/10\n",
            "20000/20000 [==============================] - 1s 60us/step - loss: 0.5414 - acc: 0.7535 - val_loss: 0.5266 - val_acc: 0.7296\n",
            "Epoch 3/10\n",
            "20000/20000 [==============================] - 1s 58us/step - loss: 0.4619 - acc: 0.7883 - val_loss: 0.5008 - val_acc: 0.7472\n",
            "Epoch 4/10\n",
            "20000/20000 [==============================] - 1s 59us/step - loss: 0.4219 - acc: 0.8081 - val_loss: 0.4951 - val_acc: 0.7500\n",
            "Epoch 5/10\n",
            "20000/20000 [==============================] - 1s 58us/step - loss: 0.3940 - acc: 0.8245 - val_loss: 0.4941 - val_acc: 0.7524\n",
            "Epoch 6/10\n",
            "20000/20000 [==============================] - 1s 58us/step - loss: 0.3712 - acc: 0.8368 - val_loss: 0.4968 - val_acc: 0.7530\n",
            "Epoch 7/10\n",
            "20000/20000 [==============================] - 1s 59us/step - loss: 0.3507 - acc: 0.8484 - val_loss: 0.5008 - val_acc: 0.7582\n",
            "Epoch 8/10\n",
            "20000/20000 [==============================] - 1s 58us/step - loss: 0.3316 - acc: 0.8590 - val_loss: 0.5072 - val_acc: 0.7566\n",
            "Epoch 9/10\n",
            "20000/20000 [==============================] - 1s 59us/step - loss: 0.3134 - acc: 0.8686 - val_loss: 0.5159 - val_acc: 0.7542\n",
            "Epoch 10/10\n",
            "20000/20000 [==============================] - 1s 58us/step - loss: 0.2956 - acc: 0.8784 - val_loss: 0.5244 - val_acc: 0.7486\n"
          ],
          "name": "stdout"
        }
      ]
    },
    {
      "cell_type": "markdown",
      "metadata": {
        "id": "KS922qE3QwBK",
        "colab_type": "text"
      },
      "source": [
        "**Loading Data from scratch**"
      ]
    },
    {
      "cell_type": "markdown",
      "metadata": {
        "id": "4a4DGshrOa31",
        "colab_type": "text"
      },
      "source": [
        "Using pretrained word embeddings"
      ]
    },
    {
      "cell_type": "code",
      "metadata": {
        "id": "_7URc0SWyN3X",
        "colab_type": "code",
        "colab": {
          "base_uri": "https://localhost:8080/",
          "height": 52
        },
        "outputId": "1eba2245-0307-4178-f69d-b5811c7bc0a3"
      },
      "source": [
        "import os\n",
        "print(os.listdir(\"/content/drive/My Drive/imdb data/data\"))\n",
        "print(os.listdir(\"/content/drive/My Drive/imdb data/data/train\"))"
      ],
      "execution_count": null,
      "outputs": [
        {
          "output_type": "stream",
          "text": [
            "['.DS_Store', 'test', 'train']\n",
            "['pos', 'neg']\n"
          ],
          "name": "stdout"
        }
      ]
    },
    {
      "cell_type": "code",
      "metadata": {
        "id": "MBrTY6xFRtVT",
        "colab_type": "code",
        "colab": {
          "base_uri": "https://localhost:8080/",
          "height": 54
        },
        "outputId": "b030d9f6-1675-4738-c894-a2b572a9e372"
      },
      "source": [
        "#positive review\n",
        "f = open(\"/content/drive/My Drive/imdb data/data/train/pos/10002_8.txt\")\n",
        "print(f.read())"
      ],
      "execution_count": null,
      "outputs": [
        {
          "output_type": "stream",
          "text": [
            "I saw this film in a sneak preview, and it is delightful. The cinematography is unusually creative, the acting is good, and the story is fabulous. If this movie does not do well, it won't be because it doesn't deserve to. Before this film, I didn't realize how charming Shia Lebouf could be. He does a marvelous, self-contained, job as the lead. There's something incredibly sweet about him, and it makes the movie even better. The other actors do a good job as well, and the film contains moments of really high suspense, more than one might expect from a movie about golf. Sports movies are a dime a dozen, but this one stands out. <br /><br />This is one I'd recommend to anyone.\n"
          ],
          "name": "stdout"
        }
      ]
    },
    {
      "cell_type": "code",
      "metadata": {
        "id": "THbmwuFeSNQQ",
        "colab_type": "code",
        "colab": {
          "base_uri": "https://localhost:8080/",
          "height": 54
        },
        "outputId": "36243f94-0476-4082-ca11-154c4cdd3fe4"
      },
      "source": [
        "#negative review\n",
        "z = open (\"/content/drive/My Drive/imdb data/data/train/neg/1009_3.txt\")\n",
        "print(z.read())"
      ],
      "execution_count": null,
      "outputs": [
        {
          "output_type": "stream",
          "text": [
            "This movie lacked credibility for two reasons. One, no mayor of a major city, and New York is certainly as major as it gets. Would allow a borough in his city to degenerate into such a violent place to live; especially for voters who could have much to say about his or her future job security. All of the victims in the movie were mostly elderly, Jewish or defenseless. At 62-years of age, I have never seen a movie that depicted such utter lack of respect for authority as this movie did. Even \"Escape from New York,\" which was fictional, up front, i.e. they told you that this was science fiction, didn't resort to such deep-seated violence. In this movie, most of the elderly victims were victimized and yet had guns but were unwilling to use them. Also, in this movie and I have not seen the prior two, is more lawless than the \"Escape\" movie. Secondly, gangs as far as my research shows have never been as cooperative as this movie makes them out to be. On the one hand they catch a gang member from another gang working in their area and he's killed. Yet when the heroes start shooting at the local gang bangers, the next gang over is welcomed with open arms. Outside gang members are always viewed as outsiders and are stopped. We are supposed to believe that when automatic weapons are used against our gang, the other gangs want to be all into it. Why did the outside gangs come to help? I believe that more than one gang from outside came to help. What did they come for? Another question, why was the gang leader in jail and why do fellow jail inmates ask his permission to attack Bronson's character? This was not a great movie and I could go on, but I won't.\n"
          ],
          "name": "stdout"
        }
      ]
    },
    {
      "cell_type": "code",
      "metadata": {
        "id": "6qHk5oJ1krA6",
        "colab_type": "code",
        "colab": {}
      },
      "source": [
        "#processing labels of imdb data set\n",
        "#let’s collect the individual training reviews into a list of strings, one string per review. I will also collect the review labels (positive/negative) into a labels list.\n",
        "import os\n",
        "imdb_dir = \"/content/drive/My Drive/imdb data/data\"\n",
        "train_dir = os.path.join(imdb_dir, 'train')\n",
        "labels = []\n",
        "texts = []\n",
        "for label_type in ['neg', 'pos']:\n",
        "  dir_name = os.path.join(train_dir, label_type)\n",
        "  for fname in os.listdir(dir_name):\n",
        "    if fname[-4:] == '.txt':\n",
        "      f = open(os.path.join(dir_name, fname))\n",
        "      texts.append(f.read())\n",
        "      f.close()\n",
        "      if label_type == 'neg':\n",
        "        labels.append(0)\n",
        "      else:\n",
        "        labels.append(1)"
      ],
      "execution_count": 5,
      "outputs": []
    },
    {
      "cell_type": "markdown",
      "metadata": {
        "id": "EgrqA5U-obhI",
        "colab_type": "text"
      },
      "source": [
        "I will restrict the training to only 200 samples"
      ]
    },
    {
      "cell_type": "code",
      "metadata": {
        "id": "Zsgd1wPBlLWV",
        "colab_type": "code",
        "colab": {
          "base_uri": "https://localhost:8080/",
          "height": 34
        },
        "outputId": "67dbd853-5386-41c1-9d2b-3408d18f3403"
      },
      "source": [
        "from keras.preprocessing.text import Tokenizer\n",
        "from keras.preprocessing.sequence import pad_sequences\n",
        "import numpy as np\n",
        "\n",
        "maxlen = 100 #Cuts off reviews after 100 words\n",
        "training_samples = 200 #Trains on 200 samples\n",
        "validation_samples = 1000 #Validates on 1000 samples\n",
        "max_words = 10000 #Considers only the top 10,000 words in the dataset\n",
        "tokenizer = Tokenizer(num_words=max_words)\n",
        "tokenizer.fit_on_texts(texts)\n",
        "sequences = tokenizer.texts_to_sequences(texts)"
      ],
      "execution_count": 6,
      "outputs": [
        {
          "output_type": "stream",
          "text": [
            "Using TensorFlow backend.\n"
          ],
          "name": "stderr"
        }
      ]
    },
    {
      "cell_type": "code",
      "metadata": {
        "id": "ED_kY2C0luy7",
        "colab_type": "code",
        "colab": {
          "base_uri": "https://localhost:8080/",
          "height": 34
        },
        "outputId": "c63dc3ba-b365-4e32-c9d5-c3296e2f7337"
      },
      "source": [
        "word_index = tokenizer.word_index\n",
        "print('Found %s unique tokens.' % len(word_index))"
      ],
      "execution_count": 7,
      "outputs": [
        {
          "output_type": "stream",
          "text": [
            "Found 50063 unique tokens.\n"
          ],
          "name": "stdout"
        }
      ]
    },
    {
      "cell_type": "code",
      "metadata": {
        "id": "qLXcx-aXmLqG",
        "colab_type": "code",
        "colab": {}
      },
      "source": [
        "#padding sequence to ensure that all sequences in the list have same length\n",
        "from tensorflow.keras.preprocessing.sequence import pad_sequences\n",
        "data = pad_sequences(sequences, maxlen=maxlen)  #maxlen =100\n"
      ],
      "execution_count": 8,
      "outputs": []
    },
    {
      "cell_type": "code",
      "metadata": {
        "id": "Fqzk72AZpJ0O",
        "colab_type": "code",
        "colab": {
          "base_uri": "https://localhost:8080/",
          "height": 52
        },
        "outputId": "50e77b69-36e9-4adb-c46c-f02a70ebef52"
      },
      "source": [
        "labels = np.asarray(labels)\n",
        "print('Shape of data tensor:', data.shape)\n",
        "print('Shape of label tensor:', labels.shape)"
      ],
      "execution_count": 9,
      "outputs": [
        {
          "output_type": "stream",
          "text": [
            "Shape of data tensor: (8010, 100)\n",
            "Shape of label tensor: (8010,)\n"
          ],
          "name": "stdout"
        }
      ]
    },
    {
      "cell_type": "code",
      "metadata": {
        "id": "gNDH4f9cpXp7",
        "colab_type": "code",
        "colab": {}
      },
      "source": [
        "#shuffling data because first samples are neg then positive\n",
        "indices = np.arange(data.shape[0])\n",
        "np.random.shuffle(indices)\n",
        "data = data[indices]\n",
        "labels = labels[indices]"
      ],
      "execution_count": 10,
      "outputs": []
    },
    {
      "cell_type": "code",
      "metadata": {
        "id": "aOSSllJUqCi5",
        "colab_type": "code",
        "colab": {}
      },
      "source": [
        "#splitting data\n",
        "x_train = data[:training_samples] # training_samples = 200 \n",
        "y_train = labels[:training_samples]\n",
        "x_val = data[training_samples: training_samples + validation_samples] #validate on 1000 samples\n",
        "y_val = labels[training_samples: training_samples + validation_samples]"
      ],
      "execution_count": 11,
      "outputs": []
    },
    {
      "cell_type": "code",
      "metadata": {
        "id": "9eLPW8vPqCeU",
        "colab_type": "code",
        "colab": {
          "base_uri": "https://localhost:8080/",
          "height": 34
        },
        "outputId": "f8333d7d-d8db-462f-efb9-f53cc0ad00d7"
      },
      "source": [
        "#parsing the glove word embeddings file\n",
        "glove_dir = '/content/drive/My Drive/glove.6B.zip (Unzipped Files)'\n",
        "embeddings_index = {}\n",
        "f = open(os.path.join(glove_dir, 'glove.6B.100d.txt'))\n",
        "for line in f:\n",
        "  values = line.split()\n",
        "  word = values[0]\n",
        "  coefs = np.asarray(values[1:], dtype='float32')\n",
        "  embeddings_index[word] = coefs\n",
        "f.close()\n",
        "print('Found %s word vectors.' % len(embeddings_index))"
      ],
      "execution_count": 18,
      "outputs": [
        {
          "output_type": "stream",
          "text": [
            "Found 400000 word vectors.\n"
          ],
          "name": "stdout"
        }
      ]
    },
    {
      "cell_type": "code",
      "metadata": {
        "id": "krq-QslFXeuC",
        "colab_type": "code",
        "colab": {
          "base_uri": "https://localhost:8080/",
          "height": 1000
        },
        "outputId": "e1e043e7-345b-4d57-8000-bd85575866bf"
      },
      "source": [
        "word_index"
      ],
      "execution_count": 30,
      "outputs": [
        {
          "output_type": "execute_result",
          "data": {
            "text/plain": [
              "{'the': 1,\n",
              " 'and': 2,\n",
              " 'a': 3,\n",
              " 'of': 4,\n",
              " 'to': 5,\n",
              " 'is': 6,\n",
              " 'br': 7,\n",
              " 'in': 8,\n",
              " 'it': 9,\n",
              " 'i': 10,\n",
              " 'this': 11,\n",
              " 'that': 12,\n",
              " 'was': 13,\n",
              " 'as': 14,\n",
              " 'for': 15,\n",
              " 'with': 16,\n",
              " 'movie': 17,\n",
              " 'but': 18,\n",
              " 'film': 19,\n",
              " 'on': 20,\n",
              " 'you': 21,\n",
              " 'not': 22,\n",
              " 'are': 23,\n",
              " 'his': 24,\n",
              " 'have': 25,\n",
              " 'be': 26,\n",
              " 'one': 27,\n",
              " 'he': 28,\n",
              " 'at': 29,\n",
              " 'all': 30,\n",
              " 'by': 31,\n",
              " 'an': 32,\n",
              " 'they': 33,\n",
              " 'who': 34,\n",
              " 'like': 35,\n",
              " 'so': 36,\n",
              " 'from': 37,\n",
              " 'her': 38,\n",
              " 'or': 39,\n",
              " 'if': 40,\n",
              " 'about': 41,\n",
              " 'out': 42,\n",
              " 'just': 43,\n",
              " \"it's\": 44,\n",
              " 'has': 45,\n",
              " 'some': 46,\n",
              " 'there': 47,\n",
              " 'what': 48,\n",
              " 'more': 49,\n",
              " 'good': 50,\n",
              " 'when': 51,\n",
              " 'very': 52,\n",
              " 'up': 53,\n",
              " 'no': 54,\n",
              " 'she': 55,\n",
              " 'my': 56,\n",
              " 'would': 57,\n",
              " 'time': 58,\n",
              " 'even': 59,\n",
              " 'which': 60,\n",
              " 'only': 61,\n",
              " 'see': 62,\n",
              " 'their': 63,\n",
              " 'really': 64,\n",
              " 'can': 65,\n",
              " 'story': 66,\n",
              " 'had': 67,\n",
              " 'me': 68,\n",
              " 'well': 69,\n",
              " 'were': 70,\n",
              " 'much': 71,\n",
              " 'we': 72,\n",
              " 'than': 73,\n",
              " 'great': 74,\n",
              " 'do': 75,\n",
              " 'other': 76,\n",
              " 'been': 77,\n",
              " 'him': 78,\n",
              " 'get': 79,\n",
              " 'will': 80,\n",
              " 'bad': 81,\n",
              " 'into': 82,\n",
              " 'because': 83,\n",
              " 'how': 84,\n",
              " 'also': 85,\n",
              " 'most': 86,\n",
              " 'people': 87,\n",
              " 'first': 88,\n",
              " 'its': 89,\n",
              " \"don't\": 90,\n",
              " 'them': 91,\n",
              " 'then': 92,\n",
              " 'too': 93,\n",
              " 'made': 94,\n",
              " 'way': 95,\n",
              " 'after': 96,\n",
              " 'make': 97,\n",
              " 'think': 98,\n",
              " 'movies': 99,\n",
              " 'could': 100,\n",
              " 'any': 101,\n",
              " 'characters': 102,\n",
              " 'watch': 103,\n",
              " 'two': 104,\n",
              " 'seen': 105,\n",
              " 'films': 106,\n",
              " 'character': 107,\n",
              " 'many': 108,\n",
              " 'love': 109,\n",
              " 'show': 110,\n",
              " 'life': 111,\n",
              " 'being': 112,\n",
              " 'never': 113,\n",
              " 'where': 114,\n",
              " 'did': 115,\n",
              " 'plot': 116,\n",
              " 'best': 117,\n",
              " 'know': 118,\n",
              " 'acting': 119,\n",
              " 'your': 120,\n",
              " 'little': 121,\n",
              " 'over': 122,\n",
              " 'off': 123,\n",
              " 'ever': 124,\n",
              " 'does': 125,\n",
              " 'scene': 126,\n",
              " 'better': 127,\n",
              " 'say': 128,\n",
              " 'man': 129,\n",
              " 'these': 130,\n",
              " 'end': 131,\n",
              " 'still': 132,\n",
              " 'why': 133,\n",
              " 'scenes': 134,\n",
              " 'such': 135,\n",
              " 'while': 136,\n",
              " 'here': 137,\n",
              " 'something': 138,\n",
              " 'through': 139,\n",
              " 'should': 140,\n",
              " 'those': 141,\n",
              " 'go': 142,\n",
              " 'now': 143,\n",
              " \"i'm\": 144,\n",
              " 'real': 145,\n",
              " 'watching': 146,\n",
              " 'back': 147,\n",
              " \"didn't\": 148,\n",
              " 'years': 149,\n",
              " 'funny': 150,\n",
              " 'another': 151,\n",
              " 'thing': 152,\n",
              " 'before': 153,\n",
              " 'actors': 154,\n",
              " \"doesn't\": 155,\n",
              " 'find': 156,\n",
              " '10': 157,\n",
              " 'nothing': 158,\n",
              " 'look': 159,\n",
              " 'work': 160,\n",
              " 'lot': 161,\n",
              " 'actually': 162,\n",
              " 'going': 163,\n",
              " 'makes': 164,\n",
              " 'same': 165,\n",
              " 'old': 166,\n",
              " 'though': 167,\n",
              " 'director': 168,\n",
              " 'down': 169,\n",
              " 'every': 170,\n",
              " 'horror': 171,\n",
              " 'quite': 172,\n",
              " 'again': 173,\n",
              " 'want': 174,\n",
              " 'part': 175,\n",
              " 'things': 176,\n",
              " 'new': 177,\n",
              " 'few': 178,\n",
              " 'both': 179,\n",
              " 'us': 180,\n",
              " 'world': 181,\n",
              " 'around': 182,\n",
              " 'thought': 183,\n",
              " 'music': 184,\n",
              " 'give': 185,\n",
              " 'pretty': 186,\n",
              " 'however': 187,\n",
              " 'seems': 188,\n",
              " \"can't\": 189,\n",
              " 'take': 190,\n",
              " 'long': 191,\n",
              " 'enough': 192,\n",
              " 'big': 193,\n",
              " \"i've\": 194,\n",
              " 'own': 195,\n",
              " 'cast': 196,\n",
              " 'between': 197,\n",
              " 'fact': 198,\n",
              " 'must': 199,\n",
              " \"that's\": 200,\n",
              " 'times': 201,\n",
              " 'young': 202,\n",
              " 'comedy': 203,\n",
              " 'saw': 204,\n",
              " 'got': 205,\n",
              " 'point': 206,\n",
              " 'guy': 207,\n",
              " 'right': 208,\n",
              " 'may': 209,\n",
              " 'always': 210,\n",
              " 'almost': 211,\n",
              " 'interesting': 212,\n",
              " \"there's\": 213,\n",
              " 'come': 214,\n",
              " 'without': 215,\n",
              " 'gets': 216,\n",
              " 'least': 217,\n",
              " \"isn't\": 218,\n",
              " 'far': 219,\n",
              " 'feel': 220,\n",
              " 'series': 221,\n",
              " 'done': 222,\n",
              " '2': 223,\n",
              " 'bit': 224,\n",
              " 'whole': 225,\n",
              " 'minutes': 226,\n",
              " 'action': 227,\n",
              " 'original': 228,\n",
              " 'anything': 229,\n",
              " 'yet': 230,\n",
              " 'tv': 231,\n",
              " 'role': 232,\n",
              " 'kind': 233,\n",
              " 'am': 234,\n",
              " 'since': 235,\n",
              " 'each': 236,\n",
              " 'might': 237,\n",
              " 'script': 238,\n",
              " 'probably': 239,\n",
              " 'last': 240,\n",
              " 'hard': 241,\n",
              " 'away': 242,\n",
              " 'making': 243,\n",
              " 'anyone': 244,\n",
              " 'girl': 245,\n",
              " 'performance': 246,\n",
              " 'fun': 247,\n",
              " \"he's\": 248,\n",
              " 'looking': 249,\n",
              " 'found': 250,\n",
              " 'sure': 251,\n",
              " 'rather': 252,\n",
              " 'especially': 253,\n",
              " 'played': 254,\n",
              " 'worst': 255,\n",
              " 'woman': 256,\n",
              " 'believe': 257,\n",
              " 'our': 258,\n",
              " 'although': 259,\n",
              " 'trying': 260,\n",
              " 'family': 261,\n",
              " 'shows': 262,\n",
              " 'high': 263,\n",
              " 'having': 264,\n",
              " 'american': 265,\n",
              " 'everything': 266,\n",
              " 'ending': 267,\n",
              " 'play': 268,\n",
              " 'dvd': 269,\n",
              " 'place': 270,\n",
              " 'day': 271,\n",
              " 'put': 272,\n",
              " 'goes': 273,\n",
              " 'half': 274,\n",
              " 'comes': 275,\n",
              " 'maybe': 276,\n",
              " 'book': 277,\n",
              " 'main': 278,\n",
              " 'screen': 279,\n",
              " 'course': 280,\n",
              " 'three': 281,\n",
              " 'set': 282,\n",
              " 'sense': 283,\n",
              " 'worth': 284,\n",
              " 'true': 285,\n",
              " 'job': 286,\n",
              " 'different': 287,\n",
              " 'everyone': 288,\n",
              " 'effects': 289,\n",
              " 'watched': 290,\n",
              " 'once': 291,\n",
              " 'during': 292,\n",
              " 'audience': 293,\n",
              " 'himself': 294,\n",
              " 'someone': 295,\n",
              " \"wasn't\": 296,\n",
              " 'together': 297,\n",
              " 'reason': 298,\n",
              " '1': 299,\n",
              " 'night': 300,\n",
              " 'said': 301,\n",
              " 'beautiful': 302,\n",
              " 'actor': 303,\n",
              " 'instead': 304,\n",
              " 'money': 305,\n",
              " 'war': 306,\n",
              " 'short': 307,\n",
              " 'plays': 308,\n",
              " 'mind': 309,\n",
              " 'seem': 310,\n",
              " 'death': 311,\n",
              " 'takes': 312,\n",
              " 'idea': 313,\n",
              " 'friends': 314,\n",
              " 'later': 315,\n",
              " 'left': 316,\n",
              " 'used': 317,\n",
              " 'looks': 318,\n",
              " 'seeing': 319,\n",
              " 'special': 320,\n",
              " 'else': 321,\n",
              " 'fan': 322,\n",
              " 'year': 323,\n",
              " 'excellent': 324,\n",
              " 'completely': 325,\n",
              " 'second': 326,\n",
              " 'read': 327,\n",
              " 'production': 328,\n",
              " 'black': 329,\n",
              " 'school': 330,\n",
              " 'budget': 331,\n",
              " '3': 332,\n",
              " 'house': 333,\n",
              " 'shot': 334,\n",
              " 'star': 335,\n",
              " 'along': 336,\n",
              " 'top': 337,\n",
              " 'performances': 338,\n",
              " \"you're\": 339,\n",
              " 'next': 340,\n",
              " 'poor': 341,\n",
              " 'simply': 342,\n",
              " 'boring': 343,\n",
              " 'version': 344,\n",
              " 'either': 345,\n",
              " 'home': 346,\n",
              " 'itself': 347,\n",
              " 'let': 348,\n",
              " 'need': 349,\n",
              " 'camera': 350,\n",
              " 'wife': 351,\n",
              " 'stupid': 352,\n",
              " 'hollywood': 353,\n",
              " 'kids': 354,\n",
              " 'nice': 355,\n",
              " 'start': 356,\n",
              " 'try': 357,\n",
              " 'truly': 358,\n",
              " 'full': 359,\n",
              " 'line': 360,\n",
              " 'couple': 361,\n",
              " 'men': 362,\n",
              " 'use': 363,\n",
              " 'classic': 364,\n",
              " 'less': 365,\n",
              " 'perhaps': 366,\n",
              " 'low': 367,\n",
              " 'enjoy': 368,\n",
              " 'given': 369,\n",
              " 'person': 370,\n",
              " 'sex': 371,\n",
              " 'mother': 372,\n",
              " 'rest': 373,\n",
              " 'others': 374,\n",
              " 'recommend': 375,\n",
              " 'understand': 376,\n",
              " 'episode': 377,\n",
              " 'mr': 378,\n",
              " 'definitely': 379,\n",
              " 'getting': 380,\n",
              " 'help': 381,\n",
              " 'dead': 382,\n",
              " 'remember': 383,\n",
              " 'video': 384,\n",
              " 'wonderful': 385,\n",
              " 'women': 386,\n",
              " 'john': 387,\n",
              " 'awful': 388,\n",
              " 'wrong': 389,\n",
              " 'early': 390,\n",
              " 'terrible': 391,\n",
              " 'name': 392,\n",
              " 'came': 393,\n",
              " 'game': 394,\n",
              " 'until': 395,\n",
              " 'entertaining': 396,\n",
              " 'based': 397,\n",
              " 'face': 398,\n",
              " 'boy': 399,\n",
              " 'human': 400,\n",
              " 'laugh': 401,\n",
              " 'perfect': 402,\n",
              " 'father': 403,\n",
              " 'certainly': 404,\n",
              " 'tell': 405,\n",
              " 'went': 406,\n",
              " 'often': 407,\n",
              " 'moments': 408,\n",
              " 'sound': 409,\n",
              " 'dialogue': 410,\n",
              " 'gives': 411,\n",
              " 'piece': 412,\n",
              " 'title': 413,\n",
              " 'friend': 414,\n",
              " 'called': 415,\n",
              " 'small': 416,\n",
              " 'guys': 417,\n",
              " 'keep': 418,\n",
              " 'cinema': 419,\n",
              " 'playing': 420,\n",
              " 'style': 421,\n",
              " 'felt': 422,\n",
              " 'doing': 423,\n",
              " 'loved': 424,\n",
              " 'head': 425,\n",
              " 'finally': 426,\n",
              " 'absolutely': 427,\n",
              " 'lines': 428,\n",
              " 'drama': 429,\n",
              " 'written': 430,\n",
              " 'oh': 431,\n",
              " 'mean': 432,\n",
              " 'stars': 433,\n",
              " 'sort': 434,\n",
              " '5': 435,\n",
              " 'picture': 436,\n",
              " '4': 437,\n",
              " 'able': 438,\n",
              " 'entire': 439,\n",
              " 'final': 440,\n",
              " 'against': 441,\n",
              " 'problem': 442,\n",
              " \"couldn't\": 443,\n",
              " 'becomes': 444,\n",
              " 'several': 445,\n",
              " 'care': 446,\n",
              " 'worse': 447,\n",
              " 'art': 448,\n",
              " 'children': 449,\n",
              " 'under': 450,\n",
              " 'case': 451,\n",
              " 'history': 452,\n",
              " 'lead': 453,\n",
              " 'dark': 454,\n",
              " 'example': 455,\n",
              " 'liked': 456,\n",
              " 'yes': 457,\n",
              " 'wanted': 458,\n",
              " 'overall': 459,\n",
              " 'live': 460,\n",
              " 'become': 461,\n",
              " \"she's\": 462,\n",
              " 'heart': 463,\n",
              " 'seemed': 464,\n",
              " 'totally': 465,\n",
              " 'humor': 466,\n",
              " 'fans': 467,\n",
              " \"you'll\": 468,\n",
              " 'hope': 469,\n",
              " 'already': 470,\n",
              " 'beginning': 471,\n",
              " 'b': 472,\n",
              " \"i'd\": 473,\n",
              " 'waste': 474,\n",
              " 'direction': 475,\n",
              " 'matter': 476,\n",
              " 'flick': 477,\n",
              " 'etc': 478,\n",
              " 'lost': 479,\n",
              " 'supposed': 480,\n",
              " 'throughout': 481,\n",
              " 'act': 482,\n",
              " 'kid': 483,\n",
              " 'horrible': 484,\n",
              " 'hour': 485,\n",
              " 'guess': 486,\n",
              " 'reality': 487,\n",
              " 'lives': 488,\n",
              " 'thinking': 489,\n",
              " 'white': 490,\n",
              " 'despite': 491,\n",
              " 'wants': 492,\n",
              " 'turn': 493,\n",
              " 'myself': 494,\n",
              " 'writing': 495,\n",
              " 'side': 496,\n",
              " 'evil': 497,\n",
              " 'gave': 498,\n",
              " 'turns': 499,\n",
              " 'son': 500,\n",
              " 'amazing': 501,\n",
              " 'score': 502,\n",
              " 'viewer': 503,\n",
              " 'killed': 504,\n",
              " 'quality': 505,\n",
              " 'town': 506,\n",
              " 'themselves': 507,\n",
              " 'directed': 508,\n",
              " 'unfortunately': 509,\n",
              " 'except': 510,\n",
              " 'experience': 511,\n",
              " 'past': 512,\n",
              " 'obviously': 513,\n",
              " 'days': 514,\n",
              " 'happens': 515,\n",
              " 'fine': 516,\n",
              " 'eyes': 517,\n",
              " \"they're\": 518,\n",
              " 'parts': 519,\n",
              " 'self': 520,\n",
              " 'late': 521,\n",
              " 'kill': 522,\n",
              " \"won't\": 523,\n",
              " 'highly': 524,\n",
              " 'girls': 525,\n",
              " 'works': 526,\n",
              " 'stuff': 527,\n",
              " 'type': 528,\n",
              " 'god': 529,\n",
              " 'genre': 530,\n",
              " 'heard': 531,\n",
              " 'known': 532,\n",
              " 'slow': 533,\n",
              " 'stop': 534,\n",
              " 'run': 535,\n",
              " 'took': 536,\n",
              " 'brilliant': 537,\n",
              " 'group': 538,\n",
              " 'happen': 539,\n",
              " 'told': 540,\n",
              " 'actress': 541,\n",
              " 'soon': 542,\n",
              " 'says': 543,\n",
              " 'serious': 544,\n",
              " 'city': 545,\n",
              " 'hand': 546,\n",
              " 'starts': 547,\n",
              " 'writer': 548,\n",
              " 'voice': 549,\n",
              " 'child': 550,\n",
              " 'close': 551,\n",
              " 'tries': 552,\n",
              " 'anyway': 553,\n",
              " 'decent': 554,\n",
              " 'sometimes': 555,\n",
              " 'enjoyed': 556,\n",
              " 'husband': 557,\n",
              " 'save': 558,\n",
              " 'feeling': 559,\n",
              " 'taken': 560,\n",
              " 'relationship': 561,\n",
              " 'involved': 562,\n",
              " 'chance': 563,\n",
              " 'favorite': 564,\n",
              " 'extremely': 565,\n",
              " 'simple': 566,\n",
              " 'expect': 567,\n",
              " 'hit': 568,\n",
              " '\\x96': 569,\n",
              " 'cannot': 570,\n",
              " 'released': 571,\n",
              " 'ago': 572,\n",
              " 'lack': 573,\n",
              " 'space': 574,\n",
              " 'french': 575,\n",
              " 'crap': 576,\n",
              " 'cool': 577,\n",
              " 'saying': 578,\n",
              " 'ok': 579,\n",
              " 'hours': 580,\n",
              " 'coming': 581,\n",
              " 'words': 582,\n",
              " 'talent': 583,\n",
              " 'cinematography': 584,\n",
              " 'leave': 585,\n",
              " 'beyond': 586,\n",
              " 's': 587,\n",
              " 'shown': 588,\n",
              " 'including': 589,\n",
              " 'talk': 590,\n",
              " 'looked': 591,\n",
              " 'body': 592,\n",
              " 'cut': 593,\n",
              " 'hilarious': 594,\n",
              " 'english': 595,\n",
              " 'moment': 596,\n",
              " 'behind': 597,\n",
              " 'possible': 598,\n",
              " 'today': 599,\n",
              " 'yourself': 600,\n",
              " 'four': 601,\n",
              " 'order': 602,\n",
              " 'complete': 603,\n",
              " 'police': 604,\n",
              " 'novel': 605,\n",
              " 'mostly': 606,\n",
              " 'word': 607,\n",
              " 'happened': 608,\n",
              " 'car': 609,\n",
              " 'michael': 610,\n",
              " 'across': 611,\n",
              " 'knows': 612,\n",
              " 'seriously': 613,\n",
              " 'strong': 614,\n",
              " 'please': 615,\n",
              " 'obvious': 616,\n",
              " 'huge': 617,\n",
              " 'taking': 618,\n",
              " 'blood': 619,\n",
              " 'silly': 620,\n",
              " 'song': 621,\n",
              " 'violence': 622,\n",
              " 'knew': 623,\n",
              " 'sad': 624,\n",
              " 'opinion': 625,\n",
              " 'doctor': 626,\n",
              " 'career': 627,\n",
              " 'fight': 628,\n",
              " 'sister': 629,\n",
              " 'important': 630,\n",
              " 'roles': 631,\n",
              " 'annoying': 632,\n",
              " 'light': 633,\n",
              " 'particularly': 634,\n",
              " 'robert': 635,\n",
              " 'living': 636,\n",
              " 'level': 637,\n",
              " 'age': 638,\n",
              " 'wonder': 639,\n",
              " 'jokes': 640,\n",
              " 'jack': 641,\n",
              " 'view': 642,\n",
              " 'wish': 643,\n",
              " 'attention': 644,\n",
              " 'none': 645,\n",
              " 'gore': 646,\n",
              " 'upon': 647,\n",
              " 'interest': 648,\n",
              " 'call': 649,\n",
              " 'daughter': 650,\n",
              " 'modern': 651,\n",
              " 'basically': 652,\n",
              " 'earth': 653,\n",
              " \"wouldn't\": 654,\n",
              " 'exactly': 655,\n",
              " 'disappointed': 656,\n",
              " 'alone': 657,\n",
              " 'ten': 658,\n",
              " 'sequence': 659,\n",
              " 'stories': 660,\n",
              " 'hero': 661,\n",
              " 'soundtrack': 662,\n",
              " 'due': 663,\n",
              " 'david': 664,\n",
              " 'monster': 665,\n",
              " 'country': 666,\n",
              " 'turned': 667,\n",
              " 'started': 668,\n",
              " \"film's\": 669,\n",
              " 'ridiculous': 670,\n",
              " 'whose': 671,\n",
              " 'ends': 672,\n",
              " 'running': 673,\n",
              " 'certain': 674,\n",
              " 'opening': 675,\n",
              " 'attempt': 676,\n",
              " 'power': 677,\n",
              " 'hate': 678,\n",
              " 'usually': 679,\n",
              " 'stay': 680,\n",
              " 'change': 681,\n",
              " 'tried': 682,\n",
              " 'shots': 683,\n",
              " 'rating': 684,\n",
              " 'episodes': 685,\n",
              " 'brother': 686,\n",
              " 'dr': 687,\n",
              " 'single': 688,\n",
              " 'major': 689,\n",
              " 'romantic': 690,\n",
              " 'finds': 691,\n",
              " 'local': 692,\n",
              " 'talking': 693,\n",
              " 'murder': 694,\n",
              " 'number': 695,\n",
              " 'subject': 696,\n",
              " 'die': 697,\n",
              " 'review': 698,\n",
              " 'non': 699,\n",
              " 'killer': 700,\n",
              " 'problems': 701,\n",
              " 'somewhat': 702,\n",
              " \"aren't\": 703,\n",
              " 'sorry': 704,\n",
              " 'within': 705,\n",
              " 'minute': 706,\n",
              " 'documentary': 707,\n",
              " 'herself': 708,\n",
              " 'appears': 709,\n",
              " 'fast': 710,\n",
              " 'miss': 711,\n",
              " 'whether': 712,\n",
              " '8': 713,\n",
              " 'middle': 714,\n",
              " 'usual': 715,\n",
              " 'emotional': 716,\n",
              " 'apparently': 717,\n",
              " 'clear': 718,\n",
              " 'cheap': 719,\n",
              " 'female': 720,\n",
              " 'hell': 721,\n",
              " 'beauty': 722,\n",
              " 'surprised': 723,\n",
              " 'deal': 724,\n",
              " 'doubt': 725,\n",
              " 'ones': 726,\n",
              " 'strange': 727,\n",
              " 'james': 728,\n",
              " \"haven't\": 729,\n",
              " 'class': 730,\n",
              " 'effort': 731,\n",
              " 'entertainment': 732,\n",
              " 'giving': 733,\n",
              " 'straight': 734,\n",
              " 'theme': 735,\n",
              " 'clearly': 736,\n",
              " 'room': 737,\n",
              " 'predictable': 738,\n",
              " 'buy': 739,\n",
              " 'happy': 740,\n",
              " 'musical': 741,\n",
              " 'moving': 742,\n",
              " 'rent': 743,\n",
              " 'showing': 744,\n",
              " 'television': 745,\n",
              " 'dialog': 746,\n",
              " 'eye': 747,\n",
              " 'imagine': 748,\n",
              " 'sets': 749,\n",
              " 'add': 750,\n",
              " 'deep': 751,\n",
              " 'romance': 752,\n",
              " 'suspense': 753,\n",
              " 'parents': 754,\n",
              " 'realistic': 755,\n",
              " 'general': 756,\n",
              " 'island': 757,\n",
              " 'easy': 758,\n",
              " 'western': 759,\n",
              " 'five': 760,\n",
              " \"i'll\": 761,\n",
              " 'following': 762,\n",
              " 'above': 763,\n",
              " '9': 764,\n",
              " 'tale': 765,\n",
              " 'tells': 766,\n",
              " 'fall': 767,\n",
              " '7': 768,\n",
              " 'editing': 769,\n",
              " 'enjoyable': 770,\n",
              " 'elements': 771,\n",
              " 'check': 772,\n",
              " 'falls': 773,\n",
              " 'theater': 774,\n",
              " 'drug': 775,\n",
              " 'gone': 776,\n",
              " 'greatest': 777,\n",
              " 'comments': 778,\n",
              " 'working': 779,\n",
              " 'gay': 780,\n",
              " 'bring': 781,\n",
              " 'inside': 782,\n",
              " 'scary': 783,\n",
              " 'lots': 784,\n",
              " 't': 785,\n",
              " 'viewing': 786,\n",
              " 'radio': 787,\n",
              " 'message': 788,\n",
              " 'begin': 789,\n",
              " 'feels': 790,\n",
              " 'similar': 791,\n",
              " 'events': 792,\n",
              " 'rock': 793,\n",
              " 'ways': 794,\n",
              " 'team': 795,\n",
              " 'sit': 796,\n",
              " 'bunch': 797,\n",
              " 'named': 798,\n",
              " \"what's\": 799,\n",
              " 'near': 800,\n",
              " 'write': 801,\n",
              " 'tom': 802,\n",
              " 'mention': 803,\n",
              " 'leads': 804,\n",
              " 'powerful': 805,\n",
              " 'okay': 806,\n",
              " 'storyline': 807,\n",
              " 'easily': 808,\n",
              " 'stand': 809,\n",
              " 'release': 810,\n",
              " 'feature': 811,\n",
              " 'future': 812,\n",
              " 'crew': 813,\n",
              " 'difficult': 814,\n",
              " 'leaves': 815,\n",
              " 'points': 816,\n",
              " 'imdb': 817,\n",
              " 'dull': 818,\n",
              " \"'\": 819,\n",
              " 'surprise': 820,\n",
              " 'sequel': 821,\n",
              " 'among': 822,\n",
              " 'brain': 823,\n",
              " 'forget': 824,\n",
              " 'filmed': 825,\n",
              " 'reviews': 826,\n",
              " 'means': 827,\n",
              " 'using': 828,\n",
              " 'famous': 829,\n",
              " 'supporting': 830,\n",
              " 'killing': 831,\n",
              " 'move': 832,\n",
              " 'premise': 833,\n",
              " 'eventually': 834,\n",
              " 'water': 835,\n",
              " 'park': 836,\n",
              " 'avoid': 837,\n",
              " 'open': 838,\n",
              " 'cover': 839,\n",
              " 'thriller': 840,\n",
              " \"you've\": 841,\n",
              " 'unless': 842,\n",
              " 'crime': 843,\n",
              " 'sci': 844,\n",
              " '20': 845,\n",
              " 'follow': 846,\n",
              " 'songs': 847,\n",
              " 'reading': 848,\n",
              " 'kept': 849,\n",
              " 'interested': 850,\n",
              " 'material': 851,\n",
              " 'reasons': 852,\n",
              " 'fi': 853,\n",
              " 'actual': 854,\n",
              " 'comic': 855,\n",
              " 'learn': 856,\n",
              " 'nearly': 857,\n",
              " 'period': 858,\n",
              " 'masterpiece': 859,\n",
              " 'personal': 860,\n",
              " 'believable': 861,\n",
              " 'girlfriend': 862,\n",
              " 'dance': 863,\n",
              " 'poorly': 864,\n",
              " 'possibly': 865,\n",
              " 'paul': 866,\n",
              " 'particular': 867,\n",
              " 'somehow': 868,\n",
              " 'whatever': 869,\n",
              " 'indeed': 870,\n",
              " 'society': 871,\n",
              " 'typical': 872,\n",
              " 'incredibly': 873,\n",
              " 'british': 874,\n",
              " 'needs': 875,\n",
              " 'acted': 876,\n",
              " 'george': 877,\n",
              " 're': 878,\n",
              " 'sequences': 879,\n",
              " 'truth': 880,\n",
              " 'oscar': 881,\n",
              " 'fantastic': 882,\n",
              " 'viewers': 883,\n",
              " 'vampire': 884,\n",
              " 'previous': 885,\n",
              " 'e': 886,\n",
              " 'hear': 887,\n",
              " 'whom': 888,\n",
              " 'average': 889,\n",
              " 'question': 890,\n",
              " 'form': 891,\n",
              " 'front': 892,\n",
              " 'pay': 893,\n",
              " 'setting': 894,\n",
              " 'italian': 895,\n",
              " 'screenplay': 896,\n",
              " 'total': 897,\n",
              " 'america': 898,\n",
              " 'peter': 899,\n",
              " 'memorable': 900,\n",
              " 'superb': 901,\n",
              " 'figure': 902,\n",
              " 'forced': 903,\n",
              " 'battle': 904,\n",
              " 'weak': 905,\n",
              " 'party': 906,\n",
              " 'towards': 907,\n",
              " 'mark': 908,\n",
              " 'situation': 909,\n",
              " 'earlier': 910,\n",
              " 'cute': 911,\n",
              " 'effect': 912,\n",
              " 'unique': 913,\n",
              " 'directing': 914,\n",
              " 'box': 915,\n",
              " 'rich': 916,\n",
              " 'result': 917,\n",
              " 'de': 918,\n",
              " 'begins': 919,\n",
              " 'sounds': 920,\n",
              " 'spent': 921,\n",
              " 'cheesy': 922,\n",
              " 'worked': 923,\n",
              " 'political': 924,\n",
              " 'dumb': 925,\n",
              " 'copy': 926,\n",
              " 'development': 927,\n",
              " 'needed': 928,\n",
              " 'train': 929,\n",
              " 'became': 930,\n",
              " 'state': 931,\n",
              " 'sexual': 932,\n",
              " 'perfectly': 933,\n",
              " 'shame': 934,\n",
              " 'decided': 935,\n",
              " 'weird': 936,\n",
              " 'died': 937,\n",
              " 'crazy': 938,\n",
              " 'male': 939,\n",
              " 'otherwise': 940,\n",
              " 'free': 941,\n",
              " 'era': 942,\n",
              " \"let's\": 943,\n",
              " 'talented': 944,\n",
              " 'lame': 945,\n",
              " 'portrayed': 946,\n",
              " 'plus': 947,\n",
              " 'air': 948,\n",
              " 'king': 949,\n",
              " 'footage': 950,\n",
              " 'stage': 951,\n",
              " 'brought': 952,\n",
              " 'hot': 953,\n",
              " 'background': 954,\n",
              " 'older': 955,\n",
              " 'expected': 956,\n",
              " 'note': 957,\n",
              " 'indian': 958,\n",
              " 'credits': 959,\n",
              " 'success': 960,\n",
              " 'nature': 961,\n",
              " 'break': 962,\n",
              " 'science': 963,\n",
              " 'ideas': 964,\n",
              " 'nor': 965,\n",
              " 'appear': 966,\n",
              " 'ed': 967,\n",
              " 'pace': 968,\n",
              " 'attempts': 969,\n",
              " 'alive': 970,\n",
              " 'quickly': 971,\n",
              " 'present': 972,\n",
              " 'rate': 973,\n",
              " 'lady': 974,\n",
              " 'atmosphere': 975,\n",
              " 'features': 976,\n",
              " 'visual': 977,\n",
              " \"80's\": 978,\n",
              " 'company': 979,\n",
              " 'expecting': 980,\n",
              " \"'the\": 981,\n",
              " 'slightly': 982,\n",
              " \"we're\": 983,\n",
              " 'wasted': 984,\n",
              " 'ended': 985,\n",
              " \"who's\": 986,\n",
              " 'various': 987,\n",
              " 'secret': 988,\n",
              " 'admit': 989,\n",
              " 'hands': 990,\n",
              " 'follows': 991,\n",
              " 'forward': 992,\n",
              " 'boys': 993,\n",
              " 'produced': 994,\n",
              " 'appreciate': 995,\n",
              " 'apart': 996,\n",
              " 'members': 997,\n",
              " 'mystery': 998,\n",
              " 'agree': 999,\n",
              " 'chris': 1000,\n",
              " ...}"
            ]
          },
          "metadata": {
            "tags": []
          },
          "execution_count": 30
        }
      ]
    },
    {
      "cell_type": "code",
      "metadata": {
        "id": "Cym1KrRZqCbo",
        "colab_type": "code",
        "colab": {}
      },
      "source": [
        "#Preparing the GloVe word-embeddings matrix\n",
        "embedding_dim = 100\n",
        "embedding_matrix = np.zeros((max_words, embedding_dim))\n",
        "for word, i in word_index.items():\n",
        "  if i < max_words:\n",
        "    embedding_vector = embeddings_index.get(word)\n",
        "    if embedding_vector is not None:\n",
        "      embedding_matrix[i] = embedding_vector        #Words not found in the embedding index will be all zeros. "
      ],
      "execution_count": 19,
      "outputs": []
    },
    {
      "cell_type": "code",
      "metadata": {
        "id": "Dd8TqRn3YM8t",
        "colab_type": "code",
        "colab": {
          "base_uri": "https://localhost:8080/",
          "height": 247
        },
        "outputId": "ef1e5340-83d8-4666-e481-60d5cc0754bb"
      },
      "source": [
        "embedding_matrix"
      ],
      "execution_count": 32,
      "outputs": [
        {
          "output_type": "execute_result",
          "data": {
            "text/plain": [
              "array([[ 0.        ,  0.        ,  0.        , ...,  0.        ,\n",
              "         0.        ,  0.        ],\n",
              "       [-0.038194  , -0.24487001,  0.72812003, ..., -0.1459    ,\n",
              "         0.82779998,  0.27061999],\n",
              "       [-0.071953  ,  0.23127   ,  0.023731  , ..., -0.71894997,\n",
              "         0.86894   ,  0.19539   ],\n",
              "       ...,\n",
              "       [ 0.60074002,  0.324     ,  0.72399998, ..., -0.64135998,\n",
              "        -0.086523  , -0.13375001],\n",
              "       [ 0.47215   ,  0.10486   ,  0.65965998, ...,  0.033993  ,\n",
              "        -0.23465   , -0.19327   ],\n",
              "       [-0.28566   , -0.67711997,  0.4337    , ..., -0.12919   ,\n",
              "         0.81239003,  0.85789001]])"
            ]
          },
          "metadata": {
            "tags": []
          },
          "execution_count": 32
        }
      ]
    },
    {
      "cell_type": "code",
      "metadata": {
        "id": "jFsr9j5VXyjC",
        "colab_type": "code",
        "colab": {
          "base_uri": "https://localhost:8080/",
          "height": 301
        },
        "outputId": "307691b7-56c4-4995-cd86-6426d296068a"
      },
      "source": [
        "#DEFINING A MODEL\n",
        "from keras.models import Sequential\n",
        "from keras.layers import Embedding, Flatten, Dense\n",
        "model = Sequential()\n",
        "model.add(Embedding(max_words, embedding_dim, input_length=maxlen)) #max_words = 10,000, embedding dim = 100, maxlen = 100\n",
        "model.add(Flatten())\n",
        "model.add(Dense(32, activation='relu'))\n",
        "model.add(Dense(1, activation='sigmoid'))\n",
        "model.summary()"
      ],
      "execution_count": 31,
      "outputs": [
        {
          "output_type": "stream",
          "text": [
            "Model: \"sequential_1\"\n",
            "_________________________________________________________________\n",
            "Layer (type)                 Output Shape              Param #   \n",
            "=================================================================\n",
            "embedding_1 (Embedding)      (None, 100, 100)          1000000   \n",
            "_________________________________________________________________\n",
            "flatten_1 (Flatten)          (None, 10000)             0         \n",
            "_________________________________________________________________\n",
            "dense_1 (Dense)              (None, 32)                320032    \n",
            "_________________________________________________________________\n",
            "dense_2 (Dense)              (None, 1)                 33        \n",
            "=================================================================\n",
            "Total params: 1,320,065\n",
            "Trainable params: 1,320,065\n",
            "Non-trainable params: 0\n",
            "_________________________________________________________________\n"
          ],
          "name": "stdout"
        }
      ]
    },
    {
      "cell_type": "code",
      "metadata": {
        "id": "-3AxlMdqX4re",
        "colab_type": "code",
        "colab": {}
      },
      "source": [
        "#LOADING THE GLOVE EMBEDDINGS IN THE MODEL\n",
        "model.layers[0].set_weights([embedding_matrix])\n",
        "model.layers[0].trainable = False #the pretrained part should not be updtated"
      ],
      "execution_count": 33,
      "outputs": []
    },
    {
      "cell_type": "code",
      "metadata": {
        "id": "qlUwtXCgZYSt",
        "colab_type": "code",
        "colab": {
          "base_uri": "https://localhost:8080/",
          "height": 390
        },
        "outputId": "13a556f7-eb8b-4a93-ac84-c84a6a8476ee"
      },
      "source": [
        "#TRAINING AND EVALUATING THE MODEL\n",
        "model.compile(optimizer='rmsprop',\n",
        "loss='binary_crossentropy',\n",
        "metrics=['acc'])\n",
        "history = model.fit(x_train, y_train,\n",
        "epochs=10,\n",
        "batch_size=32,\n",
        "validation_data=(x_val, y_val))\n",
        "model.save_weights('pre_trained_glove_model.h5')"
      ],
      "execution_count": 34,
      "outputs": [
        {
          "output_type": "stream",
          "text": [
            "Train on 200 samples, validate on 1000 samples\n",
            "Epoch 1/10\n",
            "200/200 [==============================] - 0s 2ms/step - loss: 2.8940 - acc: 0.4450 - val_loss: 0.8354 - val_acc: 0.5050\n",
            "Epoch 2/10\n",
            "200/200 [==============================] - 0s 426us/step - loss: 0.4863 - acc: 0.7700 - val_loss: 0.7166 - val_acc: 0.5370\n",
            "Epoch 3/10\n",
            "200/200 [==============================] - 0s 457us/step - loss: 0.4007 - acc: 0.8150 - val_loss: 0.7547 - val_acc: 0.5340\n",
            "Epoch 4/10\n",
            "200/200 [==============================] - 0s 428us/step - loss: 0.2242 - acc: 0.9400 - val_loss: 1.1683 - val_acc: 0.5020\n",
            "Epoch 5/10\n",
            "200/200 [==============================] - 0s 437us/step - loss: 0.3384 - acc: 0.8300 - val_loss: 0.8740 - val_acc: 0.5020\n",
            "Epoch 6/10\n",
            "200/200 [==============================] - 0s 430us/step - loss: 0.1289 - acc: 0.9950 - val_loss: 0.7337 - val_acc: 0.5590\n",
            "Epoch 7/10\n",
            "200/200 [==============================] - 0s 423us/step - loss: 0.0981 - acc: 0.9800 - val_loss: 0.8712 - val_acc: 0.5270\n",
            "Epoch 8/10\n",
            "200/200 [==============================] - 0s 427us/step - loss: 0.0499 - acc: 0.9950 - val_loss: 2.5524 - val_acc: 0.4970\n",
            "Epoch 9/10\n",
            "200/200 [==============================] - 0s 492us/step - loss: 0.3741 - acc: 0.8000 - val_loss: 0.7799 - val_acc: 0.5630\n",
            "Epoch 10/10\n",
            "200/200 [==============================] - 0s 472us/step - loss: 0.0250 - acc: 1.0000 - val_loss: 0.7789 - val_acc: 0.5730\n"
          ],
          "name": "stdout"
        }
      ]
    },
    {
      "cell_type": "code",
      "metadata": {
        "id": "fid2txjpZ0yj",
        "colab_type": "code",
        "colab": {
          "base_uri": "https://localhost:8080/",
          "height": 544
        },
        "outputId": "520f149a-0e3c-47a8-d3fb-23dd1d46aefc"
      },
      "source": [
        "#Plotting the results\n",
        "import matplotlib.pyplot as plt\n",
        "acc = history.history['acc']\n",
        "val_acc = history.history['val_acc']\n",
        "loss = history.history['loss']\n",
        "val_loss = history.history['val_loss']\n",
        "epochs = range(1, len(acc) + 1)\n",
        "\n",
        "plt.plot(epochs, acc, 'bo', label='Training acc')\n",
        "plt.plot(epochs, val_acc, 'b', label='Validation acc')\n",
        "plt.title('Training and validation accuracy')\n",
        "plt.legend()\n",
        "plt.figure()\n",
        "\n",
        "plt.plot(epochs, loss, 'bo', label='Training loss')\n",
        "plt.plot(epochs, val_loss, 'b', label='Validation loss')\n",
        "plt.title('Training and validation loss')\n",
        "plt.legend()\n",
        "plt.show()"
      ],
      "execution_count": 37,
      "outputs": [
        {
          "output_type": "display_data",
          "data": {
            "image/png": "[encoded data removed]",
            "text/plain": [
              "<Figure size 432x288 with 1 Axes>"
            ]
          },
          "metadata": {
            "tags": [],
            "needs_background": "light"
          }
        },
        {
          "output_type": "display_data",
          "data": {
            "image/png": "[encoded data removed]",
            "text/plain": [
              "<Figure size 432x288 with 1 Axes>"
            ]
          },
          "metadata": {
            "tags": [],
            "needs_background": "light"
          }
        }
      ]
    },
    {
      "cell_type": "markdown",
      "metadata": {
        "id": "hF1nBw1FbeT4",
        "colab_type": "text"
      },
      "source": [
        "The model starts to overfit quickly.This is surprising as there were only 200 samples."
      ]
    },
    {
      "cell_type": "code",
      "metadata": {
        "id": "flS78rt5aItP",
        "colab_type": "code",
        "colab": {
          "base_uri": "https://localhost:8080/",
          "height": 730
        },
        "outputId": "bbc4cd08-aecd-4140-c189-2c97802c04b6"
      },
      "source": [
        "# Training the same model without pretrained word embeddings\n",
        "from keras.models import Sequential\n",
        "from keras.layers import Embedding, Flatten, Dense\n",
        "model = Sequential()\n",
        "model.add(Embedding(max_words, embedding_dim, input_length=maxlen))\n",
        "model.add(Flatten())\n",
        "model.add(Dense(32, activation='relu'))\n",
        "model.add(Dense(1, activation='sigmoid'))\n",
        "model.summary()\n",
        "model.compile(optimizer='rmsprop',\n",
        "loss='binary_crossentropy',\n",
        "metrics=['acc'])\n",
        "history = model.fit(x_train, y_train,\n",
        "epochs=10,\n",
        "batch_size=32,\n",
        "validation_data=(x_val, y_val))"
      ],
      "execution_count": 38,
      "outputs": [
        {
          "output_type": "stream",
          "text": [
            "Model: \"sequential_2\"\n",
            "_________________________________________________________________\n",
            "Layer (type)                 Output Shape              Param #   \n",
            "=================================================================\n",
            "embedding_2 (Embedding)      (None, 100, 100)          1000000   \n",
            "_________________________________________________________________\n",
            "flatten_2 (Flatten)          (None, 10000)             0         \n",
            "_________________________________________________________________\n",
            "dense_3 (Dense)              (None, 32)                320032    \n",
            "_________________________________________________________________\n",
            "dense_4 (Dense)              (None, 1)                 33        \n",
            "=================================================================\n",
            "Total params: 1,320,065\n",
            "Trainable params: 1,320,065\n",
            "Non-trainable params: 0\n",
            "_________________________________________________________________\n"
          ],
          "name": "stdout"
        },
        {
          "output_type": "stream",
          "text": [
            "/usr/local/lib/python3.6/dist-packages/tensorflow/python/framework/indexed_slices.py:434: UserWarning: Converting sparse IndexedSlices to a dense Tensor of unknown shape. This may consume a large amount of memory.\n",
            "  \"Converting sparse IndexedSlices to a dense Tensor of unknown shape. \"\n"
          ],
          "name": "stderr"
        },
        {
          "output_type": "stream",
          "text": [
            "Train on 200 samples, validate on 1000 samples\n",
            "Epoch 1/10\n",
            "200/200 [==============================] - 0s 1ms/step - loss: 0.6974 - acc: 0.4350 - val_loss: 0.6904 - val_acc: 0.5250\n",
            "Epoch 2/10\n",
            "200/200 [==============================] - 0s 763us/step - loss: 0.5332 - acc: 0.9850 - val_loss: 0.6882 - val_acc: 0.5450\n",
            "Epoch 3/10\n",
            "200/200 [==============================] - 0s 711us/step - loss: 0.3246 - acc: 0.9850 - val_loss: 0.6898 - val_acc: 0.5420\n",
            "Epoch 4/10\n",
            "200/200 [==============================] - 0s 713us/step - loss: 0.1467 - acc: 1.0000 - val_loss: 0.6926 - val_acc: 0.5440\n",
            "Epoch 5/10\n",
            "200/200 [==============================] - 0s 714us/step - loss: 0.0682 - acc: 1.0000 - val_loss: 0.7144 - val_acc: 0.5070\n",
            "Epoch 6/10\n",
            "200/200 [==============================] - 0s 730us/step - loss: 0.0367 - acc: 1.0000 - val_loss: 0.7045 - val_acc: 0.5320\n",
            "Epoch 7/10\n",
            "200/200 [==============================] - 0s 734us/step - loss: 0.0197 - acc: 1.0000 - val_loss: 0.7058 - val_acc: 0.5350\n",
            "Epoch 8/10\n",
            "200/200 [==============================] - 0s 792us/step - loss: 0.0113 - acc: 1.0000 - val_loss: 0.7103 - val_acc: 0.5430\n",
            "Epoch 9/10\n",
            "200/200 [==============================] - 0s 723us/step - loss: 0.0069 - acc: 1.0000 - val_loss: 0.7162 - val_acc: 0.5300\n",
            "Epoch 10/10\n",
            "200/200 [==============================] - 0s 747us/step - loss: 0.0042 - acc: 1.0000 - val_loss: 0.7182 - val_acc: 0.5320\n"
          ],
          "name": "stdout"
        }
      ]
    },
    {
      "cell_type": "code",
      "metadata": {
        "id": "PBMt73xqaAnV",
        "colab_type": "code",
        "colab": {
          "base_uri": "https://localhost:8080/",
          "height": 544
        },
        "outputId": "bf7b4ec2-df89-427f-c49e-3bfe189126b6"
      },
      "source": [
        "#Plotting \n",
        "import matplotlib.pyplot as plt\n",
        "acc = history.history['acc']\n",
        "val_acc = history.history['val_acc']\n",
        "loss = history.history['loss']\n",
        "val_loss = history.history['val_loss']\n",
        "epochs = range(1, len(acc) + 1)\n",
        "plt.plot(epochs, acc, 'bo', label='Training acc')\n",
        "plt.plot(epochs, val_acc, 'b', label='Validation acc')\n",
        "plt.title('Training and validation accuracy')\n",
        "plt.legend()\n",
        "plt.figure()\n",
        "plt.plot(epochs, loss, 'bo', label='Training loss')\n",
        "plt.plot(epochs, val_loss, 'b', label='Validation loss')\n",
        "plt.title('Training and validation loss')\n",
        "plt.legend()\n",
        "plt.show()"
      ],
      "execution_count": 39,
      "outputs": [
        {
          "output_type": "display_data",
          "data": {
            "image/png": "[encoded data removed]",
            "text/plain": [
              "<Figure size 432x288 with 1 Axes>"
            ]
          },
          "metadata": {
            "tags": [],
            "needs_background": "light"
          }
        },
        {
          "output_type": "display_data",
          "data": {
            "image/png": "[encoded data removed]",
            "text/plain": [
              "<Figure size 432x288 with 1 Axes>"
            ]
          },
          "metadata": {
            "tags": [],
            "needs_background": "light"
          }
        }
      ]
    },
    {
      "cell_type": "markdown",
      "metadata": {
        "id": "BR_GWabccDpd",
        "colab_type": "text"
      },
      "source": [
        "Conclusion:  Pretrained word embeddings outperform jointly learned embeddings"
      ]
    },
    {
      "cell_type": "code",
      "metadata": {
        "id": "cYNZEs2ab20Q",
        "colab_type": "code",
        "colab": {}
      },
      "source": [
        "#Tokenizing the data of the test set\n",
        "test_dir = os.path.join(imdb_dir, 'test')\n",
        "labels = []\n",
        "texts = []\n",
        "for label_type in ['neg', 'pos']:\n",
        "  dir_name = os.path.join(test_dir, label_type)\n",
        "  for fname in sorted(os.listdir(dir_name)):\n",
        "    if fname[-4:] == '.txt':\n",
        "      f = open(os.path.join(dir_name, fname))\n",
        "      texts.append(f.read())\n",
        "      f.close()\n",
        "      if label_type == 'neg':\n",
        "        labels.append(0)\n",
        "      else:\n",
        "        labels.append(1)\n",
        "sequences = tokenizer.texts_to_sequences(texts)\n",
        "x_test = pad_sequences(sequences, maxlen=maxlen)\n",
        "y_test = np.asarray(labels)"
      ],
      "execution_count": 41,
      "outputs": []
    },
    {
      "cell_type": "code",
      "metadata": {
        "id": "-cNaKSZ5c5F3",
        "colab_type": "code",
        "colab": {
          "base_uri": "https://localhost:8080/",
          "height": 52
        },
        "outputId": "d36604de-d42c-4b2f-86ba-1f97187b5ae0"
      },
      "source": [
        "#evaluating the model on test set \n",
        "model.load_weights('pre_trained_glove_model.h5')\n",
        "model.evaluate(x_test, y_test)"
      ],
      "execution_count": 42,
      "outputs": [
        {
          "output_type": "stream",
          "text": [
            "1000/1000 [==============================] - 0s 48us/step\n"
          ],
          "name": "stdout"
        },
        {
          "output_type": "execute_result",
          "data": {
            "text/plain": [
              "[0.7393519916534423, 0.5770000219345093]"
            ]
          },
          "metadata": {
            "tags": []
          },
          "execution_count": 42
        }
      ]
    },
    {
      "cell_type": "markdown",
      "metadata": {
        "id": "lMQ93oPdmyQH",
        "colab_type": "text"
      },
      "source": [
        "We get an accuracy of 57% just working with handful of examples"
      ]
    }
  ]
}