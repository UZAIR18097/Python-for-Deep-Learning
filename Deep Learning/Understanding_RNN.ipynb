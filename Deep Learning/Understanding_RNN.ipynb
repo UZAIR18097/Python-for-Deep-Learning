{
  "nbformat": 4,
  "nbformat_minor": 0,
  "metadata": {
    "colab": {
      "name": "Understanding RNN.ipynb",
      "provenance": []
    },
    "kernelspec": {
      "name": "python3",
      "display_name": "Python 3"
    }
  },
  "cells": [
    {
      "cell_type": "code",
      "metadata": {
        "id": "V0k8w2Y-zMgU",
        "colab_type": "code",
        "colab": {}
      },
      "source": [
        "#importing required packages\n",
        "import numpy as np\n",
        "from keras.models import Sequential\n",
        "from keras.layers import Embedding, SimpleRNN\n",
        "from keras.layers import LSTM\n",
        "from keras.datasets import imdb\n",
        "from keras.preprocessing import sequence\n",
        "from keras.layers import Dense"
      ],
      "execution_count": 10,
      "outputs": []
    },
    {
      "cell_type": "markdown",
      "metadata": {
        "id": "Y62KToKjpQ04",
        "colab_type": "text"
      },
      "source": [
        "A naive Numpy implementation of the forward pass of the simple RNN."
      ]
    },
    {
      "cell_type": "code",
      "metadata": {
        "id": "bHljHuAEpTS8",
        "colab_type": "code",
        "colab": {}
      },
      "source": [
        "\n",
        "timesteps  = 100                                           #number of steps in an input sequence\n",
        "input_features =32                                         #dimensionality of the input feature space\n",
        "output_features =64                                        #dimensionality of output feature space\n",
        "inputs = np.random.random((timesteps, input_features))     #random data for the sake of example\n",
        "state_t = np.zeros((output_features,))                     #intialize state: an all zero vector\n",
        "W = np.random.random((output_features, input_features))    #creating random weight matrices\n",
        "U = np.random.random((output_features, output_features))   #creating random weight matrices\n",
        "b = np.random.random((output_features,))                   #creating random weight matrices\n",
        "\n",
        "successive_outputs = []\n",
        "for input_t in inputs:\n",
        "  output_t = np.tanh(np.dot(W, input_t) + np.dot(U, state_t) + b)  #STEP FUNCTION: Combines the input with the current state (the previous output) to obtain the current output\n",
        "  successive_outputs.append(output_t)                             #stores this output in the list\n",
        "  state_t = output_t                                              #updates the state of the network for the next time step\n",
        "\n",
        "final_output_sequence = np.concatenate(successive_outputs, axis=0)#The final output is a 2D tensor of shape (timesteps, output_features)\n",
        "  \n",
        "                         "
      ],
      "execution_count": null,
      "outputs": []
    },
    {
      "cell_type": "markdown",
      "metadata": {
        "id": "MCayr_uytgic",
        "colab_type": "text"
      },
      "source": [
        "**A simple RNN cell**\n",
        "\n",
        "![alt text](https://datascience-enthusiast.com/figures/rnn_step_forward.png)"
      ]
    },
    {
      "cell_type": "markdown",
      "metadata": {
        "id": "LphFCjwcvhle",
        "colab_type": "text"
      },
      "source": [
        "Let's look at an example that uses simple RNN and returns only the output of the last step"
      ]
    },
    {
      "cell_type": "code",
      "metadata": {
        "id": "ySpmmlhrqK_h",
        "colab_type": "code",
        "colab": {
          "base_uri": "https://localhost:8080/",
          "height": 230
        },
        "outputId": "63720b52-3873-4dfa-e8a4-2b558404a328"
      },
      "source": [
        "model = Sequential()\n",
        "model.add(Embedding(10000,32))\n",
        "model.add(SimpleRNN(32)) #returns output of the only last time step\n",
        "model.summary()"
      ],
      "execution_count": null,
      "outputs": [
        {
          "output_type": "stream",
          "text": [
            "Model: \"sequential_1\"\n",
            "_________________________________________________________________\n",
            "Layer (type)                 Output Shape              Param #   \n",
            "=================================================================\n",
            "embedding_1 (Embedding)      (None, None, 32)          320000    \n",
            "_________________________________________________________________\n",
            "simple_rnn_1 (SimpleRNN)     (None, 32)                2080      \n",
            "=================================================================\n",
            "Total params: 322,080\n",
            "Trainable params: 322,080\n",
            "Non-trainable params: 0\n",
            "_________________________________________________________________\n"
          ],
          "name": "stdout"
        }
      ]
    },
    {
      "cell_type": "markdown",
      "metadata": {
        "id": "9aJ1mMW3wyd2",
        "colab_type": "text"
      },
      "source": [
        "Following example returns full state sequence"
      ]
    },
    {
      "cell_type": "code",
      "metadata": {
        "id": "ADv4G3VPwdOk",
        "colab_type": "code",
        "colab": {
          "base_uri": "https://localhost:8080/",
          "height": 230
        },
        "outputId": "c491391f-52b9-4a7f-c68b-775216ea45c8"
      },
      "source": [
        "model = Sequential()\n",
        "model.add(Embedding(10000,32))\n",
        "model.add(SimpleRNN(32,return_sequences =True)) #returns output of full sequence\n",
        "model.summary()"
      ],
      "execution_count": null,
      "outputs": [
        {
          "output_type": "stream",
          "text": [
            "Model: \"sequential_3\"\n",
            "_________________________________________________________________\n",
            "Layer (type)                 Output Shape              Param #   \n",
            "=================================================================\n",
            "embedding_3 (Embedding)      (None, None, 32)          320000    \n",
            "_________________________________________________________________\n",
            "simple_rnn_3 (SimpleRNN)     (None, None, 32)          2080      \n",
            "=================================================================\n",
            "Total params: 322,080\n",
            "Trainable params: 322,080\n",
            "Non-trainable params: 0\n",
            "_________________________________________________________________\n"
          ],
          "name": "stdout"
        }
      ]
    },
    {
      "cell_type": "markdown",
      "metadata": {
        "id": "uSMh--zwxjD2",
        "colab_type": "text"
      },
      "source": [
        "Model representing several RNN stacked layers to increase the representational power of the network"
      ]
    },
    {
      "cell_type": "code",
      "metadata": {
        "id": "jb6l-h0OxDmr",
        "colab_type": "code",
        "colab": {
          "base_uri": "https://localhost:8080/",
          "height": 336
        },
        "outputId": "eef73e85-5a47-463c-fdbf-3ca636e0c64e"
      },
      "source": [
        "model = Sequential()\n",
        "model.add(Embedding(10000, 32))\n",
        "model.add(SimpleRNN(32, return_sequences=True))\n",
        "model.add(SimpleRNN(32, return_sequences=True))\n",
        "model.add(SimpleRNN(32, return_sequences=True))\n",
        "model.add(SimpleRNN(32)) #Last layer only returns the last output\n",
        "model.summary()"
      ],
      "execution_count": null,
      "outputs": [
        {
          "output_type": "stream",
          "text": [
            "Model: \"sequential_6\"\n",
            "_________________________________________________________________\n",
            "Layer (type)                 Output Shape              Param #   \n",
            "=================================================================\n",
            "embedding_6 (Embedding)      (None, None, 32)          320000    \n",
            "_________________________________________________________________\n",
            "simple_rnn_12 (SimpleRNN)    (None, None, 32)          2080      \n",
            "_________________________________________________________________\n",
            "simple_rnn_13 (SimpleRNN)    (None, None, 32)          2080      \n",
            "_________________________________________________________________\n",
            "simple_rnn_14 (SimpleRNN)    (None, None, 32)          2080      \n",
            "_________________________________________________________________\n",
            "simple_rnn_15 (SimpleRNN)    (None, 32)                2080      \n",
            "=================================================================\n",
            "Total params: 328,320\n",
            "Trainable params: 328,320\n",
            "Non-trainable params: 0\n",
            "_________________________________________________________________\n"
          ],
          "name": "stdout"
        }
      ]
    },
    {
      "cell_type": "markdown",
      "metadata": {
        "id": "lngZoWNQx_2F",
        "colab_type": "text"
      },
      "source": [
        "Applying model on IMDB data set"
      ]
    },
    {
      "cell_type": "code",
      "metadata": {
        "id": "Hoph9Q7nxvxK",
        "colab_type": "code",
        "colab": {
          "base_uri": "https://localhost:8080/",
          "height": 123
        },
        "outputId": "b3a8a54a-6c43-42a0-bb69-323ae1cee6df"
      },
      "source": [
        "max_features = 10000 #Number of words to consider as features\n",
        "maxlen = 500 #Cuts off texts after this many words (among the max_features most common words)\n",
        "batch_size = 32\n",
        "\n",
        "print('Loading data...')\n",
        "(input_train, y_train), (input_test, y_test) = imdb.load_data(\n",
        "num_words=max_features)\n",
        "print(len(input_train), 'train sequences')\n",
        "print(len(input_test), 'test sequences')\n",
        "print('Pad sequences (samples x time)')\n",
        "\n",
        "input_train = sequence.pad_sequences(input_train, maxlen=maxlen)\n",
        "input_test = sequence.pad_sequences(input_test, maxlen=maxlen)\n",
        "print('input_train shape:', input_train.shape)\n",
        "print('input_test shape:', input_test.shape)"
      ],
      "execution_count": 11,
      "outputs": [
        {
          "output_type": "stream",
          "text": [
            "Loading data...\n",
            "25000 train sequences\n",
            "25000 test sequences\n",
            "Pad sequences (samples x time)\n",
            "input_train shape: (25000, 500)\n",
            "input_test shape: (25000, 500)\n"
          ],
          "name": "stdout"
        }
      ]
    },
    {
      "cell_type": "markdown",
      "metadata": {
        "id": "aZwnh-ZzzZgY",
        "colab_type": "text"
      },
      "source": [
        "Let’s train a simple recurrent network using an Embedding layer and a SimpleRNN\n",
        "layer"
      ]
    },
    {
      "cell_type": "code",
      "metadata": {
        "id": "EJDf_czmy2Ta",
        "colab_type": "code",
        "colab": {
          "base_uri": "https://localhost:8080/",
          "height": 445
        },
        "outputId": "3bb85b7a-3d37-434e-f713-5adf947fafce"
      },
      "source": [
        "model = Sequential()\n",
        "model.add(Embedding(max_features, 32))\n",
        "model.add(SimpleRNN(32))\n",
        "model.add(Dense(1, activation='sigmoid'))\n",
        "model.compile(optimizer='rmsprop', loss='binary_crossentropy', metrics=['acc'])\n",
        "history = model.fit(input_train, y_train,\n",
        "epochs=10,\n",
        "batch_size=128,\n",
        "validation_split=0.2)"
      ],
      "execution_count": null,
      "outputs": [
        {
          "output_type": "stream",
          "text": [
            "/usr/local/lib/python3.6/dist-packages/tensorflow/python/framework/indexed_slices.py:434: UserWarning: Converting sparse IndexedSlices to a dense Tensor of unknown shape. This may consume a large amount of memory.\n",
            "  \"Converting sparse IndexedSlices to a dense Tensor of unknown shape. \"\n"
          ],
          "name": "stderr"
        },
        {
          "output_type": "stream",
          "text": [
            "Train on 20000 samples, validate on 5000 samples\n",
            "Epoch 1/10\n",
            "20000/20000 [==============================] - 24s 1ms/step - loss: 0.5917 - acc: 0.6778 - val_loss: 0.4686 - val_acc: 0.7946\n",
            "Epoch 2/10\n",
            "20000/20000 [==============================] - 23s 1ms/step - loss: 0.3637 - acc: 0.8485 - val_loss: 0.4057 - val_acc: 0.8290\n",
            "Epoch 3/10\n",
            "20000/20000 [==============================] - 23s 1ms/step - loss: 0.2819 - acc: 0.8894 - val_loss: 0.3189 - val_acc: 0.8678\n",
            "Epoch 4/10\n",
            "20000/20000 [==============================] - 22s 1ms/step - loss: 0.2422 - acc: 0.9080 - val_loss: 0.3335 - val_acc: 0.8740\n",
            "Epoch 5/10\n",
            "20000/20000 [==============================] - 22s 1ms/step - loss: 0.1928 - acc: 0.9292 - val_loss: 0.5285 - val_acc: 0.8178\n",
            "Epoch 6/10\n",
            "20000/20000 [==============================] - 22s 1ms/step - loss: 0.1375 - acc: 0.9520 - val_loss: 0.3942 - val_acc: 0.8720\n",
            "Epoch 7/10\n",
            "20000/20000 [==============================] - 23s 1ms/step - loss: 0.1021 - acc: 0.9648 - val_loss: 0.4241 - val_acc: 0.8604\n",
            "Epoch 8/10\n",
            "20000/20000 [==============================] - 22s 1ms/step - loss: 0.0710 - acc: 0.9768 - val_loss: 0.5235 - val_acc: 0.8162\n",
            "Epoch 9/10\n",
            "20000/20000 [==============================] - 22s 1ms/step - loss: 0.0622 - acc: 0.9780 - val_loss: 0.5217 - val_acc: 0.8386\n",
            "Epoch 10/10\n",
            "20000/20000 [==============================] - 22s 1ms/step - loss: 0.0386 - acc: 0.9880 - val_loss: 0.5799 - val_acc: 0.8300\n"
          ],
          "name": "stdout"
        }
      ]
    },
    {
      "cell_type": "code",
      "metadata": {
        "id": "CcIvHnxAyWK-",
        "colab_type": "code",
        "colab": {
          "base_uri": "https://localhost:8080/",
          "height": 544
        },
        "outputId": "cac45785-b9a7-4684-ae04-ef566d8c2819"
      },
      "source": [
        "#Plotting results\n",
        "import matplotlib.pyplot as plt\n",
        "acc = history.history['acc']\n",
        "val_acc = history.history['val_acc']\n",
        "loss = history.history['loss']\n",
        "val_loss = history.history['val_loss']\n",
        "epochs = range(1, len(acc) + 1)\n",
        "plt.plot(epochs, acc, 'bo', label='Training acc')\n",
        "plt.plot(epochs, val_acc, 'b', label='Validation acc')\n",
        "plt.title('Training and validation accuracy')\n",
        "plt.legend()\n",
        "plt.figure()\n",
        "plt.plot(epochs, loss, 'bo', label='Training loss')\n",
        "plt.plot(epochs, val_loss, 'b', label='Validation loss')\n",
        "plt.title('Training and validation loss')\n",
        "plt.legend()\n",
        "plt.show()"
      ],
      "execution_count": null,
      "outputs": [
        {
          "output_type": "display_data",
          "data": {
            "image/png": "[encoded data removed]",
            "text/plain": [
              "<Figure size 432x288 with 1 Axes>"
            ]
          },
          "metadata": {
            "tags": [],
            "needs_background": "light"
          }
        },
        {
          "output_type": "display_data",
          "data": {
            "image/png": "[encoded data removed]",
            "text/plain": [
              "<Figure size 432x288 with 1 Axes>"
            ]
          },
          "metadata": {
            "tags": [],
            "needs_background": "light"
          }
        }
      ]
    },
    {
      "cell_type": "markdown",
      "metadata": {
        "id": "MIUON7NM0xX2",
        "colab_type": "text"
      },
      "source": [
        "We got a baseline of validation accuracy of 85% but this was only with Simple RNN layer which is not very effective on large text data due to **vanishing gradient problem**.There are some advance layers which can do the task much better such as LSTM and GRU layers"
      ]
    },
    {
      "cell_type": "markdown",
      "metadata": {
        "id": "v7qPWs_A2RpQ",
        "colab_type": "text"
      },
      "source": [
        "**LSTM MODEL** :Let’s add to this picture an additional data flow that carries information across timesteps. Call its values at different timesteps Ct, where C stands for carry.This information will have the following impact on the cell: it will be combined with the input\n",
        "connection and the recurrent connection (via a dense transformation: a dot product\n",
        "with a weight matrix followed by a bias add and the application of an activation function), and it will affect the state being sent to the next timestep (via an activation\n",
        "function an a multiplication operation)\n",
        "![alt text](https://miro.medium.com/max/1308/1*9IJ36auG0tP1Ba9Yw2kFJg.png)"
      ]
    },
    {
      "cell_type": "markdown",
      "metadata": {
        "id": "067nFuFzyV9Q",
        "colab_type": "text"
      },
      "source": [
        "**Concrete Example of LSTM on IMDB data**"
      ]
    },
    {
      "cell_type": "code",
      "metadata": {
        "id": "iKpjzxhH0hKC",
        "colab_type": "code",
        "colab": {
          "base_uri": "https://localhost:8080/",
          "height": 445
        },
        "outputId": "e83dda45-63aa-4ff5-f4f7-38f88a32d502"
      },
      "source": [
        "#Using Keras LSTM layer for imdb data set\n",
        "model = Sequential()\n",
        "model.add(Embedding(max_features, 32))\n",
        "model.add(LSTM(32))\n",
        "model.add(Dense(1, activation='sigmoid'))\n",
        "model.compile(optimizer='rmsprop',\n",
        "loss='binary_crossentropy',\n",
        "metrics=['acc'])\n",
        "history = model.fit(input_train, y_train,\n",
        "epochs=10,\n",
        "batch_size=128,\n",
        "validation_split=0.2)"
      ],
      "execution_count": 12,
      "outputs": [
        {
          "output_type": "stream",
          "text": [
            "/usr/local/lib/python3.6/dist-packages/tensorflow/python/framework/indexed_slices.py:434: UserWarning: Converting sparse IndexedSlices to a dense Tensor of unknown shape. This may consume a large amount of memory.\n",
            "  \"Converting sparse IndexedSlices to a dense Tensor of unknown shape. \"\n"
          ],
          "name": "stderr"
        },
        {
          "output_type": "stream",
          "text": [
            "Train on 20000 samples, validate on 5000 samples\n",
            "Epoch 1/10\n",
            "20000/20000 [==============================] - 64s 3ms/step - loss: 0.5413 - acc: 0.7506 - val_loss: 0.3885 - val_acc: 0.8542\n",
            "Epoch 2/10\n",
            "20000/20000 [==============================] - 63s 3ms/step - loss: 0.3040 - acc: 0.8812 - val_loss: 0.3565 - val_acc: 0.8620\n",
            "Epoch 3/10\n",
            "20000/20000 [==============================] - 66s 3ms/step - loss: 0.2400 - acc: 0.9076 - val_loss: 0.2737 - val_acc: 0.8906\n",
            "Epoch 4/10\n",
            "20000/20000 [==============================] - 65s 3ms/step - loss: 0.2009 - acc: 0.9247 - val_loss: 0.2825 - val_acc: 0.8818\n",
            "Epoch 5/10\n",
            "20000/20000 [==============================] - 65s 3ms/step - loss: 0.1734 - acc: 0.9378 - val_loss: 0.3879 - val_acc: 0.8586\n",
            "Epoch 6/10\n",
            "20000/20000 [==============================] - 65s 3ms/step - loss: 0.1603 - acc: 0.9426 - val_loss: 0.5148 - val_acc: 0.8528\n",
            "Epoch 7/10\n",
            "20000/20000 [==============================] - 65s 3ms/step - loss: 0.1450 - acc: 0.9470 - val_loss: 0.3779 - val_acc: 0.8822\n",
            "Epoch 8/10\n",
            "20000/20000 [==============================] - 65s 3ms/step - loss: 0.1296 - acc: 0.9531 - val_loss: 0.5537 - val_acc: 0.8386\n",
            "Epoch 9/10\n",
            "20000/20000 [==============================] - 65s 3ms/step - loss: 0.1149 - acc: 0.9606 - val_loss: 0.3200 - val_acc: 0.8806\n",
            "Epoch 10/10\n",
            "20000/20000 [==============================] - 67s 3ms/step - loss: 0.1081 - acc: 0.9629 - val_loss: 0.3257 - val_acc: 0.8800\n"
          ],
          "name": "stdout"
        }
      ]
    },
    {
      "cell_type": "code",
      "metadata": {
        "id": "86l2WhI6zIT-",
        "colab_type": "code",
        "colab": {
          "base_uri": "https://localhost:8080/",
          "height": 544
        },
        "outputId": "82b7184e-9613-4d88-d0a8-8301849b865b"
      },
      "source": [
        "#Plotting results\n",
        "import matplotlib.pyplot as plt\n",
        "acc = history.history['acc']\n",
        "val_acc = history.history['val_acc']\n",
        "loss = history.history['loss']\n",
        "val_loss = history.history['val_loss']\n",
        "epochs = range(1, len(acc) + 1)\n",
        "plt.plot(epochs, acc, 'bo', label='Training acc')\n",
        "plt.plot(epochs, val_acc, 'b', label='Validation acc')\n",
        "plt.title('Training and validation accuracy')\n",
        "plt.legend()\n",
        "plt.figure()\n",
        "plt.plot(epochs, loss, 'bo', label='Training loss')\n",
        "plt.plot(epochs, val_loss, 'b', label='Validation loss')\n",
        "plt.title('Training and validation loss')\n",
        "plt.legend()\n",
        "plt.show()"
      ],
      "execution_count": 13,
      "outputs": [
        {
          "output_type": "display_data",
          "data": {
            "image/png": "[encoded data removed]",
            "text/plain": [
              "<Figure size 432x288 with 1 Axes>"
            ]
          },
          "metadata": {
            "tags": [],
            "needs_background": "light"
          }
        },
        {
          "output_type": "display_data",
          "data": {
            "image/png": "[encoded data removed]",
            "text/plain": [
              "<Figure size 432x288 with 1 Axes>"
            ]
          },
          "metadata": {
            "tags": [],
            "needs_background": "light"
          }
        }
      ]
    },
    {
      "cell_type": "markdown",
      "metadata": {
        "id": "KhUA37_A34lH",
        "colab_type": "text"
      },
      "source": [
        "Achieved upto 88% of validation accuracy with LSTM with truncating data to only first 500 words"
      ]
    }
  ]
}